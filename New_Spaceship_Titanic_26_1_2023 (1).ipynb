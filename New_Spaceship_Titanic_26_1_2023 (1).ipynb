{
  "cells": [
    {
      "cell_type": "markdown",
      "metadata": {
        "id": "M9zJJJl0xyXf"
      },
      "source": [
        "#**<center>SPACESHIP TITANIC COMPETITATION</center>**"
      ]
    },
    {
      "cell_type": "markdown",
      "metadata": {
        "id": "VtaUyGewx7BK"
      },
      "source": [
        "#**1. Introduction**\n",
        "\n",
        "We needed to solve a cosmic mystery. We've received a transmission from four lightyears away and things aren't looking good.\n",
        "\n",
        "The Spaceship Titanic was an interstellar passenger liner launched a month ago. With almost 13,000 passengers on board, the vessel set out on its maiden voyage transporting emigrants from our solar system to three newly habitable exoplanets orbiting nearby stars.\n",
        "\n",
        "While rounding Alpha Centauri en route to its first destination—the torrid 55 Cancri E—the unwary Spaceship Titanic collided with a spacetime anomaly hidden within a dust cloud. Sadly, it met a similar fate as its namesake from 1000 years before. Though the ship stayed intact, almost half of the passengers were transported to an alternate dimension!\n",
        "\n",
        "\n",
        "<center><img src=\"https://storage.googleapis.com/kaggle-media/competitions/Spaceship%20Titanic/joel-filipe-QwoNAhbmLLo-unsplash.jpg\" width=50%></center>\n",
        "\n",
        "\n",
        "To help rescue crews and retrieve the lost passengers, you are challenged to predict which passengers were transported by the anomaly using records recovered from the spaceship’s damaged computer system."
      ]
    },
    {
      "cell_type": "markdown",
      "metadata": {
        "id": "2pazur1syABR"
      },
      "source": [
        "#**2. Problem Statement**\n",
        "\n",
        "In this dataset, we will try to solve one such problem which is a slightly modified version of Titanic which is the Spaceship Titanic. The problem statement of this project is like a spaceship having people from different planets on a voyage but due to some reasons, some people have been transported to another dimension. Our task is to predict who will get transported and who will remain on the spaceship."
      ]
    },
    {
      "cell_type": "markdown",
      "metadata": {
        "id": "dONBwCPHys1I"
      },
      "source": [
        "#**3. Importing Libraries**"
      ]
    },
    {
      "cell_type": "code",
      "execution_count": 1,
      "metadata": {
        "id": "ixYFU-U0zXaA",
        "colab": {
          "base_uri": "https://localhost:8080/"
        },
        "outputId": "b62b19a8-94bc-4b01-b4f4-bd3a93440221"
      },
      "outputs": [
        {
          "output_type": "stream",
          "name": "stdout",
          "text": [
            "Looking in indexes: https://pypi.org/simple, https://us-python.pkg.dev/colab-wheels/public/simple/\n",
            "Collecting catboost\n",
            "  Downloading catboost-1.1.1-cp38-none-manylinux1_x86_64.whl (76.6 MB)\n",
            "\u001b[2K     \u001b[90m━━━━━━━━━━━━━━━━━━━━━━━━━━━━━━━━━━━━━━━━\u001b[0m \u001b[32m76.6/76.6 MB\u001b[0m \u001b[31m9.1 MB/s\u001b[0m eta \u001b[36m0:00:00\u001b[0m\n",
            "\u001b[?25hRequirement already satisfied: scipy in /usr/local/lib/python3.8/dist-packages (from catboost) (1.7.3)\n",
            "Requirement already satisfied: six in /usr/local/lib/python3.8/dist-packages (from catboost) (1.15.0)\n",
            "Requirement already satisfied: numpy>=1.16.0 in /usr/local/lib/python3.8/dist-packages (from catboost) (1.21.6)\n",
            "Requirement already satisfied: pandas>=0.24.0 in /usr/local/lib/python3.8/dist-packages (from catboost) (1.3.5)\n",
            "Requirement already satisfied: matplotlib in /usr/local/lib/python3.8/dist-packages (from catboost) (3.2.2)\n",
            "Requirement already satisfied: graphviz in /usr/local/lib/python3.8/dist-packages (from catboost) (0.10.1)\n",
            "Requirement already satisfied: plotly in /usr/local/lib/python3.8/dist-packages (from catboost) (5.5.0)\n",
            "Requirement already satisfied: pytz>=2017.3 in /usr/local/lib/python3.8/dist-packages (from pandas>=0.24.0->catboost) (2022.7)\n",
            "Requirement already satisfied: python-dateutil>=2.7.3 in /usr/local/lib/python3.8/dist-packages (from pandas>=0.24.0->catboost) (2.8.2)\n",
            "Requirement already satisfied: pyparsing!=2.0.4,!=2.1.2,!=2.1.6,>=2.0.1 in /usr/local/lib/python3.8/dist-packages (from matplotlib->catboost) (3.0.9)\n",
            "Requirement already satisfied: kiwisolver>=1.0.1 in /usr/local/lib/python3.8/dist-packages (from matplotlib->catboost) (1.4.4)\n",
            "Requirement already satisfied: cycler>=0.10 in /usr/local/lib/python3.8/dist-packages (from matplotlib->catboost) (0.11.0)\n",
            "Requirement already satisfied: tenacity>=6.2.0 in /usr/local/lib/python3.8/dist-packages (from plotly->catboost) (8.1.0)\n",
            "Installing collected packages: catboost\n",
            "Successfully installed catboost-1.1.1\n"
          ]
        }
      ],
      "source": [
        "!pip install catboost"
      ]
    },
    {
      "cell_type": "code",
      "execution_count": 2,
      "metadata": {
        "id": "UXtwHDBGxv_e"
      },
      "outputs": [],
      "source": [
        "import pandas as pd\n",
        "import numpy as np\n",
        "import matplotlib.pyplot as plt\n",
        "%matplotlib inline\n",
        "import seaborn as sns\n",
        "\n",
        "import warnings\n",
        "warnings.filterwarnings('ignore')\n",
        "\n",
        "from scipy import stats\n",
        "\n",
        "from sklearn.preprocessing import LabelEncoder\n",
        "from sklearn.preprocessing import StandardScaler, MinMaxScaler\n",
        "from sklearn.model_selection import train_test_split, GridSearchCV\n",
        "from sklearn.metrics import accuracy_score, make_scorer, recall_score, f1_score\n",
        "from sklearn.linear_model import LogisticRegression\n",
        "from sklearn.svm import SVC\n",
        "from sklearn.neighbors import KNeighborsClassifier\n",
        "from sklearn.ensemble import RandomForestClassifier\n",
        "from sklearn.tree import DecisionTreeClassifier\n",
        "from xgboost import XGBClassifier\n",
        "from sklearn.ensemble import GradientBoostingClassifier\n",
        "from catboost import CatBoostClassifier\n",
        "from sklearn.ensemble import BaggingClassifier\n",
        "from sklearn.metrics import confusion_matrix\n",
        "from sklearn.metrics import classification_report"
      ]
    },
    {
      "cell_type": "markdown",
      "metadata": {
        "id": "P7Tz10_z3ixd"
      },
      "source": [
        "#**4. Loading Dataset**"
      ]
    },
    {
      "cell_type": "markdown",
      "metadata": {
        "id": "c_T97A1zrUDq"
      },
      "source": [
        "Now let’s load the tain and test dataset into the panda’s data frame and print its first five rows."
      ]
    },
    {
      "cell_type": "code",
      "execution_count": 3,
      "metadata": {
        "id": "lMAbeC74zMdH"
      },
      "outputs": [],
      "source": [
        "data_train=pd.read_csv(\"/content/train.csv\")\n",
        "data_test=pd.read_csv(\"/content/test.csv\")"
      ]
    },
    {
      "cell_type": "code",
      "execution_count": 4,
      "metadata": {
        "colab": {
          "base_uri": "https://localhost:8080/",
          "height": 374
        },
        "id": "M8KLfNP93rUT",
        "outputId": "e76db8ab-4350-48b7-eaa7-69729a49688e"
      },
      "outputs": [
        {
          "output_type": "stream",
          "name": "stdout",
          "text": [
            "data train shape: (8693, 14)\n"
          ]
        },
        {
          "output_type": "execute_result",
          "data": {
            "text/plain": [
              "  PassengerId HomePlanet CryoSleep  Cabin  Destination   Age    VIP  \\\n",
              "0     0001_01     Europa     False  B/0/P  TRAPPIST-1e  39.0  False   \n",
              "1     0002_01      Earth     False  F/0/S  TRAPPIST-1e  24.0  False   \n",
              "2     0003_01     Europa     False  A/0/S  TRAPPIST-1e  58.0   True   \n",
              "3     0003_02     Europa     False  A/0/S  TRAPPIST-1e  33.0  False   \n",
              "4     0004_01      Earth     False  F/1/S  TRAPPIST-1e  16.0  False   \n",
              "\n",
              "   RoomService  FoodCourt  ShoppingMall     Spa  VRDeck               Name  \\\n",
              "0          0.0        0.0           0.0     0.0     0.0    Maham Ofracculy   \n",
              "1        109.0        9.0          25.0   549.0    44.0       Juanna Vines   \n",
              "2         43.0     3576.0           0.0  6715.0    49.0      Altark Susent   \n",
              "3          0.0     1283.0         371.0  3329.0   193.0       Solam Susent   \n",
              "4        303.0       70.0         151.0   565.0     2.0  Willy Santantines   \n",
              "\n",
              "   Transported  \n",
              "0        False  \n",
              "1         True  \n",
              "2        False  \n",
              "3        False  \n",
              "4         True  "
            ],
            "text/html": [
              "\n",
              "  <div id=\"df-c073d07d-646a-4c0e-8090-483da9a01ff5\">\n",
              "    <div class=\"colab-df-container\">\n",
              "      <div>\n",
              "<style scoped>\n",
              "    .dataframe tbody tr th:only-of-type {\n",
              "        vertical-align: middle;\n",
              "    }\n",
              "\n",
              "    .dataframe tbody tr th {\n",
              "        vertical-align: top;\n",
              "    }\n",
              "\n",
              "    .dataframe thead th {\n",
              "        text-align: right;\n",
              "    }\n",
              "</style>\n",
              "<table border=\"1\" class=\"dataframe\">\n",
              "  <thead>\n",
              "    <tr style=\"text-align: right;\">\n",
              "      <th></th>\n",
              "      <th>PassengerId</th>\n",
              "      <th>HomePlanet</th>\n",
              "      <th>CryoSleep</th>\n",
              "      <th>Cabin</th>\n",
              "      <th>Destination</th>\n",
              "      <th>Age</th>\n",
              "      <th>VIP</th>\n",
              "      <th>RoomService</th>\n",
              "      <th>FoodCourt</th>\n",
              "      <th>ShoppingMall</th>\n",
              "      <th>Spa</th>\n",
              "      <th>VRDeck</th>\n",
              "      <th>Name</th>\n",
              "      <th>Transported</th>\n",
              "    </tr>\n",
              "  </thead>\n",
              "  <tbody>\n",
              "    <tr>\n",
              "      <th>0</th>\n",
              "      <td>0001_01</td>\n",
              "      <td>Europa</td>\n",
              "      <td>False</td>\n",
              "      <td>B/0/P</td>\n",
              "      <td>TRAPPIST-1e</td>\n",
              "      <td>39.0</td>\n",
              "      <td>False</td>\n",
              "      <td>0.0</td>\n",
              "      <td>0.0</td>\n",
              "      <td>0.0</td>\n",
              "      <td>0.0</td>\n",
              "      <td>0.0</td>\n",
              "      <td>Maham Ofracculy</td>\n",
              "      <td>False</td>\n",
              "    </tr>\n",
              "    <tr>\n",
              "      <th>1</th>\n",
              "      <td>0002_01</td>\n",
              "      <td>Earth</td>\n",
              "      <td>False</td>\n",
              "      <td>F/0/S</td>\n",
              "      <td>TRAPPIST-1e</td>\n",
              "      <td>24.0</td>\n",
              "      <td>False</td>\n",
              "      <td>109.0</td>\n",
              "      <td>9.0</td>\n",
              "      <td>25.0</td>\n",
              "      <td>549.0</td>\n",
              "      <td>44.0</td>\n",
              "      <td>Juanna Vines</td>\n",
              "      <td>True</td>\n",
              "    </tr>\n",
              "    <tr>\n",
              "      <th>2</th>\n",
              "      <td>0003_01</td>\n",
              "      <td>Europa</td>\n",
              "      <td>False</td>\n",
              "      <td>A/0/S</td>\n",
              "      <td>TRAPPIST-1e</td>\n",
              "      <td>58.0</td>\n",
              "      <td>True</td>\n",
              "      <td>43.0</td>\n",
              "      <td>3576.0</td>\n",
              "      <td>0.0</td>\n",
              "      <td>6715.0</td>\n",
              "      <td>49.0</td>\n",
              "      <td>Altark Susent</td>\n",
              "      <td>False</td>\n",
              "    </tr>\n",
              "    <tr>\n",
              "      <th>3</th>\n",
              "      <td>0003_02</td>\n",
              "      <td>Europa</td>\n",
              "      <td>False</td>\n",
              "      <td>A/0/S</td>\n",
              "      <td>TRAPPIST-1e</td>\n",
              "      <td>33.0</td>\n",
              "      <td>False</td>\n",
              "      <td>0.0</td>\n",
              "      <td>1283.0</td>\n",
              "      <td>371.0</td>\n",
              "      <td>3329.0</td>\n",
              "      <td>193.0</td>\n",
              "      <td>Solam Susent</td>\n",
              "      <td>False</td>\n",
              "    </tr>\n",
              "    <tr>\n",
              "      <th>4</th>\n",
              "      <td>0004_01</td>\n",
              "      <td>Earth</td>\n",
              "      <td>False</td>\n",
              "      <td>F/1/S</td>\n",
              "      <td>TRAPPIST-1e</td>\n",
              "      <td>16.0</td>\n",
              "      <td>False</td>\n",
              "      <td>303.0</td>\n",
              "      <td>70.0</td>\n",
              "      <td>151.0</td>\n",
              "      <td>565.0</td>\n",
              "      <td>2.0</td>\n",
              "      <td>Willy Santantines</td>\n",
              "      <td>True</td>\n",
              "    </tr>\n",
              "  </tbody>\n",
              "</table>\n",
              "</div>\n",
              "      <button class=\"colab-df-convert\" onclick=\"convertToInteractive('df-c073d07d-646a-4c0e-8090-483da9a01ff5')\"\n",
              "              title=\"Convert this dataframe to an interactive table.\"\n",
              "              style=\"display:none;\">\n",
              "        \n",
              "  <svg xmlns=\"http://www.w3.org/2000/svg\" height=\"24px\"viewBox=\"0 0 24 24\"\n",
              "       width=\"24px\">\n",
              "    <path d=\"M0 0h24v24H0V0z\" fill=\"none\"/>\n",
              "    <path d=\"M18.56 5.44l.94 2.06.94-2.06 2.06-.94-2.06-.94-.94-2.06-.94 2.06-2.06.94zm-11 1L8.5 8.5l.94-2.06 2.06-.94-2.06-.94L8.5 2.5l-.94 2.06-2.06.94zm10 10l.94 2.06.94-2.06 2.06-.94-2.06-.94-.94-2.06-.94 2.06-2.06.94z\"/><path d=\"M17.41 7.96l-1.37-1.37c-.4-.4-.92-.59-1.43-.59-.52 0-1.04.2-1.43.59L10.3 9.45l-7.72 7.72c-.78.78-.78 2.05 0 2.83L4 21.41c.39.39.9.59 1.41.59.51 0 1.02-.2 1.41-.59l7.78-7.78 2.81-2.81c.8-.78.8-2.07 0-2.86zM5.41 20L4 18.59l7.72-7.72 1.47 1.35L5.41 20z\"/>\n",
              "  </svg>\n",
              "      </button>\n",
              "      \n",
              "  <style>\n",
              "    .colab-df-container {\n",
              "      display:flex;\n",
              "      flex-wrap:wrap;\n",
              "      gap: 12px;\n",
              "    }\n",
              "\n",
              "    .colab-df-convert {\n",
              "      background-color: #E8F0FE;\n",
              "      border: none;\n",
              "      border-radius: 50%;\n",
              "      cursor: pointer;\n",
              "      display: none;\n",
              "      fill: #1967D2;\n",
              "      height: 32px;\n",
              "      padding: 0 0 0 0;\n",
              "      width: 32px;\n",
              "    }\n",
              "\n",
              "    .colab-df-convert:hover {\n",
              "      background-color: #E2EBFA;\n",
              "      box-shadow: 0px 1px 2px rgba(60, 64, 67, 0.3), 0px 1px 3px 1px rgba(60, 64, 67, 0.15);\n",
              "      fill: #174EA6;\n",
              "    }\n",
              "\n",
              "    [theme=dark] .colab-df-convert {\n",
              "      background-color: #3B4455;\n",
              "      fill: #D2E3FC;\n",
              "    }\n",
              "\n",
              "    [theme=dark] .colab-df-convert:hover {\n",
              "      background-color: #434B5C;\n",
              "      box-shadow: 0px 1px 3px 1px rgba(0, 0, 0, 0.15);\n",
              "      filter: drop-shadow(0px 1px 2px rgba(0, 0, 0, 0.3));\n",
              "      fill: #FFFFFF;\n",
              "    }\n",
              "  </style>\n",
              "\n",
              "      <script>\n",
              "        const buttonEl =\n",
              "          document.querySelector('#df-c073d07d-646a-4c0e-8090-483da9a01ff5 button.colab-df-convert');\n",
              "        buttonEl.style.display =\n",
              "          google.colab.kernel.accessAllowed ? 'block' : 'none';\n",
              "\n",
              "        async function convertToInteractive(key) {\n",
              "          const element = document.querySelector('#df-c073d07d-646a-4c0e-8090-483da9a01ff5');\n",
              "          const dataTable =\n",
              "            await google.colab.kernel.invokeFunction('convertToInteractive',\n",
              "                                                     [key], {});\n",
              "          if (!dataTable) return;\n",
              "\n",
              "          const docLinkHtml = 'Like what you see? Visit the ' +\n",
              "            '<a target=\"_blank\" href=https://colab.research.google.com/notebooks/data_table.ipynb>data table notebook</a>'\n",
              "            + ' to learn more about interactive tables.';\n",
              "          element.innerHTML = '';\n",
              "          dataTable['output_type'] = 'display_data';\n",
              "          await google.colab.output.renderOutput(dataTable, element);\n",
              "          const docLink = document.createElement('div');\n",
              "          docLink.innerHTML = docLinkHtml;\n",
              "          element.appendChild(docLink);\n",
              "        }\n",
              "      </script>\n",
              "    </div>\n",
              "  </div>\n",
              "  "
            ]
          },
          "metadata": {},
          "execution_count": 4
        }
      ],
      "source": [
        "print(\"data train shape:\",data_train.shape)\n",
        "data_train.head()"
      ]
    },
    {
      "cell_type": "markdown",
      "metadata": {
        "id": "67afeBWjqGB3"
      },
      "source": [
        "#**5. Data Description**\n",
        "\n",
        "The data present the different columns have the meaning as follows:\n",
        "\n",
        "- PassengerId - A unique Id for each passenger. Each Id takes the form gggg_pp where gggg indicates a group the passenger is travelling with and pp is their number within the group. People in a group are often family members, but not always.\n",
        "- HomePlanet - The planet the passenger departed from, typically their planet of permanent residence.\n",
        "- CryoSleep - Indicates whether the passenger elected to be put into suspended animation for the duration of the voyage. Passengers in cryosleep are confined to their cabins.\n",
        "- Cabin - The cabin number where the passenger is staying. Takes the form deck/num/side, where side can be either P for Port or S for Starboard.\n",
        "- Destination - The planet the passenger will be debarking to.\n",
        "- Age - The age of the passenger.\n",
        "- VIP - Whether the passenger has paid for special VIP service during the voyage.\n",
        "- RoomService, FoodCourt, ShoppingMall, Spa, VRDeck - Amount the passenger has billed at each of the Spaceship Titanic's many luxury amenities.\n",
        "- Name - The first and last names of the passenger.\n",
        "- Transported - Whether the passenger was transported to another dimension. This is the target, the column you are trying to predict."
      ]
    },
    {
      "cell_type": "code",
      "execution_count": 5,
      "metadata": {
        "colab": {
          "base_uri": "https://localhost:8080/"
        },
        "id": "TKYQ68tUBZ6K",
        "outputId": "99dfa4fb-22f4-41ad-a58f-1c9da4b1f74f"
      },
      "outputs": [
        {
          "output_type": "stream",
          "name": "stdout",
          "text": [
            "<class 'pandas.core.frame.DataFrame'>\n",
            "RangeIndex: 8693 entries, 0 to 8692\n",
            "Data columns (total 14 columns):\n",
            " #   Column        Non-Null Count  Dtype  \n",
            "---  ------        --------------  -----  \n",
            " 0   PassengerId   8693 non-null   object \n",
            " 1   HomePlanet    8492 non-null   object \n",
            " 2   CryoSleep     8476 non-null   object \n",
            " 3   Cabin         8494 non-null   object \n",
            " 4   Destination   8511 non-null   object \n",
            " 5   Age           8514 non-null   float64\n",
            " 6   VIP           8490 non-null   object \n",
            " 7   RoomService   8512 non-null   float64\n",
            " 8   FoodCourt     8510 non-null   float64\n",
            " 9   ShoppingMall  8485 non-null   float64\n",
            " 10  Spa           8510 non-null   float64\n",
            " 11  VRDeck        8505 non-null   float64\n",
            " 12  Name          8493 non-null   object \n",
            " 13  Transported   8693 non-null   bool   \n",
            "dtypes: bool(1), float64(6), object(7)\n",
            "memory usage: 891.5+ KB\n"
          ]
        }
      ],
      "source": [
        "#Information of the train\n",
        "data_train.info()"
      ]
    },
    {
      "cell_type": "markdown",
      "metadata": {
        "id": "52OBGNPEqnhl"
      },
      "source": [
        "**Observation**\n",
        "\n",
        " we have 1 bool,6 float64 and 7 objects dtypes.\n",
        "\n",
        " let's change the Target column that is Transported dtype from the boolen to object because, Some data visualization libraries may have difficulty plotting boolean values, but they can handle categorical variables represented as strings or integers. Changing the data type to object can make it easier to create visualizations of your data."
      ]
    },
    {
      "cell_type": "code",
      "execution_count": 6,
      "metadata": {
        "id": "u7z6xnxsqgWa"
      },
      "outputs": [],
      "source": [
        "data_train['Transported'].replace(to_replace=[False,True],value=['No','Yes'],inplace=True)"
      ]
    },
    {
      "cell_type": "code",
      "execution_count": 7,
      "metadata": {
        "colab": {
          "base_uri": "https://localhost:8080/"
        },
        "id": "ObX93Xjctm2S",
        "outputId": "66cf2687-2d94-4d8e-ff47-6fbcefeff7e4"
      },
      "outputs": [
        {
          "output_type": "stream",
          "name": "stdout",
          "text": [
            "<class 'pandas.core.frame.DataFrame'>\n",
            "RangeIndex: 8693 entries, 0 to 8692\n",
            "Data columns (total 14 columns):\n",
            " #   Column        Non-Null Count  Dtype  \n",
            "---  ------        --------------  -----  \n",
            " 0   PassengerId   8693 non-null   object \n",
            " 1   HomePlanet    8492 non-null   object \n",
            " 2   CryoSleep     8476 non-null   object \n",
            " 3   Cabin         8494 non-null   object \n",
            " 4   Destination   8511 non-null   object \n",
            " 5   Age           8514 non-null   float64\n",
            " 6   VIP           8490 non-null   object \n",
            " 7   RoomService   8512 non-null   float64\n",
            " 8   FoodCourt     8510 non-null   float64\n",
            " 9   ShoppingMall  8485 non-null   float64\n",
            " 10  Spa           8510 non-null   float64\n",
            " 11  VRDeck        8505 non-null   float64\n",
            " 12  Name          8493 non-null   object \n",
            " 13  Transported   8693 non-null   object \n",
            "dtypes: float64(6), object(8)\n",
            "memory usage: 950.9+ KB\n"
          ]
        }
      ],
      "source": [
        "data_train.info()"
      ]
    },
    {
      "cell_type": "code",
      "execution_count": 8,
      "metadata": {
        "colab": {
          "base_uri": "https://localhost:8080/"
        },
        "id": "4qxhWvwHtrS4",
        "outputId": "bc844fc6-a4b7-4372-e6cb-766e15275aa8"
      },
      "outputs": [
        {
          "output_type": "stream",
          "name": "stdout",
          "text": [
            "<class 'pandas.core.frame.DataFrame'>\n",
            "RangeIndex: 4277 entries, 0 to 4276\n",
            "Data columns (total 13 columns):\n",
            " #   Column        Non-Null Count  Dtype  \n",
            "---  ------        --------------  -----  \n",
            " 0   PassengerId   4277 non-null   object \n",
            " 1   HomePlanet    4190 non-null   object \n",
            " 2   CryoSleep     4184 non-null   object \n",
            " 3   Cabin         4177 non-null   object \n",
            " 4   Destination   4185 non-null   object \n",
            " 5   Age           4186 non-null   float64\n",
            " 6   VIP           4184 non-null   object \n",
            " 7   RoomService   4195 non-null   float64\n",
            " 8   FoodCourt     4171 non-null   float64\n",
            " 9   ShoppingMall  4179 non-null   float64\n",
            " 10  Spa           4176 non-null   float64\n",
            " 11  VRDeck        4197 non-null   float64\n",
            " 12  Name          4183 non-null   object \n",
            "dtypes: float64(6), object(7)\n",
            "memory usage: 434.5+ KB\n"
          ]
        }
      ],
      "source": [
        "data_test.info()"
      ]
    },
    {
      "cell_type": "markdown",
      "metadata": {
        "id": "suFm2RfVtz6a"
      },
      "source": [
        "**Observation**\n",
        "We have 6 float64 and 7 object dtypes."
      ]
    },
    {
      "cell_type": "markdown",
      "metadata": {
        "id": "7k187kJ9t-49"
      },
      "source": [
        "#**6. Data Exploration**"
      ]
    },
    {
      "cell_type": "markdown",
      "metadata": {
        "id": "qPmBH5HWuFhC"
      },
      "source": [
        "##**6.1 Data pre processing**"
      ]
    },
    {
      "cell_type": "markdown",
      "metadata": {
        "id": "dS3ex_QluK87"
      },
      "source": [
        "###**Train data set**"
      ]
    },
    {
      "cell_type": "code",
      "execution_count": 9,
      "metadata": {
        "colab": {
          "base_uri": "https://localhost:8080/"
        },
        "id": "od-PHcNNtvkm",
        "outputId": "bb190266-94be-4f22-cf5d-bd2cc08d2380"
      },
      "outputs": [
        {
          "output_type": "execute_result",
          "data": {
            "text/plain": [
              "0"
            ]
          },
          "metadata": {},
          "execution_count": 9
        }
      ],
      "source": [
        "# checking the duplicate values\n",
        "data_train.duplicated().sum()"
      ]
    },
    {
      "cell_type": "code",
      "execution_count": 10,
      "metadata": {
        "colab": {
          "base_uri": "https://localhost:8080/"
        },
        "id": "rRAs8eUxuNdx",
        "outputId": "2f89f841-0db9-45ca-e52e-7796853e962f"
      },
      "outputs": [
        {
          "output_type": "execute_result",
          "data": {
            "text/plain": [
              "PassengerId       0\n",
              "HomePlanet      201\n",
              "CryoSleep       217\n",
              "Cabin           199\n",
              "Destination     182\n",
              "Age             179\n",
              "VIP             203\n",
              "RoomService     181\n",
              "FoodCourt       183\n",
              "ShoppingMall    208\n",
              "Spa             183\n",
              "VRDeck          188\n",
              "Name            200\n",
              "Transported       0\n",
              "dtype: int64"
            ]
          },
          "metadata": {},
          "execution_count": 10
        }
      ],
      "source": [
        "# Checking is there any null values or missing values \n",
        "data_train.isnull().sum()"
      ]
    },
    {
      "cell_type": "code",
      "execution_count": 11,
      "metadata": {
        "colab": {
          "base_uri": "https://localhost:8080/",
          "height": 488
        },
        "id": "PGvoS8PSuPsp",
        "outputId": "80d9273a-11a2-4419-af12-1763aae8c62c"
      },
      "outputs": [
        {
          "output_type": "execute_result",
          "data": {
            "text/plain": [
              "              no of null value  percentage of nul value\n",
              "PassengerId                  0                 0.000000\n",
              "HomePlanet                 201                 2.312205\n",
              "CryoSleep                  217                 2.496261\n",
              "Cabin                      199                 2.289198\n",
              "Destination                182                 2.093639\n",
              "Age                        179                 2.059128\n",
              "VIP                        203                 2.335212\n",
              "RoomService                181                 2.082135\n",
              "FoodCourt                  183                 2.105142\n",
              "ShoppingMall               208                 2.392730\n",
              "Spa                        183                 2.105142\n",
              "VRDeck                     188                 2.162660\n",
              "Name                       200                 2.300702\n",
              "Transported                  0                 0.000000"
            ],
            "text/html": [
              "\n",
              "  <div id=\"df-7589e33f-8100-4058-a474-2c95ca9c1338\">\n",
              "    <div class=\"colab-df-container\">\n",
              "      <div>\n",
              "<style scoped>\n",
              "    .dataframe tbody tr th:only-of-type {\n",
              "        vertical-align: middle;\n",
              "    }\n",
              "\n",
              "    .dataframe tbody tr th {\n",
              "        vertical-align: top;\n",
              "    }\n",
              "\n",
              "    .dataframe thead th {\n",
              "        text-align: right;\n",
              "    }\n",
              "</style>\n",
              "<table border=\"1\" class=\"dataframe\">\n",
              "  <thead>\n",
              "    <tr style=\"text-align: right;\">\n",
              "      <th></th>\n",
              "      <th>no of null value</th>\n",
              "      <th>percentage of nul value</th>\n",
              "    </tr>\n",
              "  </thead>\n",
              "  <tbody>\n",
              "    <tr>\n",
              "      <th>PassengerId</th>\n",
              "      <td>0</td>\n",
              "      <td>0.000000</td>\n",
              "    </tr>\n",
              "    <tr>\n",
              "      <th>HomePlanet</th>\n",
              "      <td>201</td>\n",
              "      <td>2.312205</td>\n",
              "    </tr>\n",
              "    <tr>\n",
              "      <th>CryoSleep</th>\n",
              "      <td>217</td>\n",
              "      <td>2.496261</td>\n",
              "    </tr>\n",
              "    <tr>\n",
              "      <th>Cabin</th>\n",
              "      <td>199</td>\n",
              "      <td>2.289198</td>\n",
              "    </tr>\n",
              "    <tr>\n",
              "      <th>Destination</th>\n",
              "      <td>182</td>\n",
              "      <td>2.093639</td>\n",
              "    </tr>\n",
              "    <tr>\n",
              "      <th>Age</th>\n",
              "      <td>179</td>\n",
              "      <td>2.059128</td>\n",
              "    </tr>\n",
              "    <tr>\n",
              "      <th>VIP</th>\n",
              "      <td>203</td>\n",
              "      <td>2.335212</td>\n",
              "    </tr>\n",
              "    <tr>\n",
              "      <th>RoomService</th>\n",
              "      <td>181</td>\n",
              "      <td>2.082135</td>\n",
              "    </tr>\n",
              "    <tr>\n",
              "      <th>FoodCourt</th>\n",
              "      <td>183</td>\n",
              "      <td>2.105142</td>\n",
              "    </tr>\n",
              "    <tr>\n",
              "      <th>ShoppingMall</th>\n",
              "      <td>208</td>\n",
              "      <td>2.392730</td>\n",
              "    </tr>\n",
              "    <tr>\n",
              "      <th>Spa</th>\n",
              "      <td>183</td>\n",
              "      <td>2.105142</td>\n",
              "    </tr>\n",
              "    <tr>\n",
              "      <th>VRDeck</th>\n",
              "      <td>188</td>\n",
              "      <td>2.162660</td>\n",
              "    </tr>\n",
              "    <tr>\n",
              "      <th>Name</th>\n",
              "      <td>200</td>\n",
              "      <td>2.300702</td>\n",
              "    </tr>\n",
              "    <tr>\n",
              "      <th>Transported</th>\n",
              "      <td>0</td>\n",
              "      <td>0.000000</td>\n",
              "    </tr>\n",
              "  </tbody>\n",
              "</table>\n",
              "</div>\n",
              "      <button class=\"colab-df-convert\" onclick=\"convertToInteractive('df-7589e33f-8100-4058-a474-2c95ca9c1338')\"\n",
              "              title=\"Convert this dataframe to an interactive table.\"\n",
              "              style=\"display:none;\">\n",
              "        \n",
              "  <svg xmlns=\"http://www.w3.org/2000/svg\" height=\"24px\"viewBox=\"0 0 24 24\"\n",
              "       width=\"24px\">\n",
              "    <path d=\"M0 0h24v24H0V0z\" fill=\"none\"/>\n",
              "    <path d=\"M18.56 5.44l.94 2.06.94-2.06 2.06-.94-2.06-.94-.94-2.06-.94 2.06-2.06.94zm-11 1L8.5 8.5l.94-2.06 2.06-.94-2.06-.94L8.5 2.5l-.94 2.06-2.06.94zm10 10l.94 2.06.94-2.06 2.06-.94-2.06-.94-.94-2.06-.94 2.06-2.06.94z\"/><path d=\"M17.41 7.96l-1.37-1.37c-.4-.4-.92-.59-1.43-.59-.52 0-1.04.2-1.43.59L10.3 9.45l-7.72 7.72c-.78.78-.78 2.05 0 2.83L4 21.41c.39.39.9.59 1.41.59.51 0 1.02-.2 1.41-.59l7.78-7.78 2.81-2.81c.8-.78.8-2.07 0-2.86zM5.41 20L4 18.59l7.72-7.72 1.47 1.35L5.41 20z\"/>\n",
              "  </svg>\n",
              "      </button>\n",
              "      \n",
              "  <style>\n",
              "    .colab-df-container {\n",
              "      display:flex;\n",
              "      flex-wrap:wrap;\n",
              "      gap: 12px;\n",
              "    }\n",
              "\n",
              "    .colab-df-convert {\n",
              "      background-color: #E8F0FE;\n",
              "      border: none;\n",
              "      border-radius: 50%;\n",
              "      cursor: pointer;\n",
              "      display: none;\n",
              "      fill: #1967D2;\n",
              "      height: 32px;\n",
              "      padding: 0 0 0 0;\n",
              "      width: 32px;\n",
              "    }\n",
              "\n",
              "    .colab-df-convert:hover {\n",
              "      background-color: #E2EBFA;\n",
              "      box-shadow: 0px 1px 2px rgba(60, 64, 67, 0.3), 0px 1px 3px 1px rgba(60, 64, 67, 0.15);\n",
              "      fill: #174EA6;\n",
              "    }\n",
              "\n",
              "    [theme=dark] .colab-df-convert {\n",
              "      background-color: #3B4455;\n",
              "      fill: #D2E3FC;\n",
              "    }\n",
              "\n",
              "    [theme=dark] .colab-df-convert:hover {\n",
              "      background-color: #434B5C;\n",
              "      box-shadow: 0px 1px 3px 1px rgba(0, 0, 0, 0.15);\n",
              "      filter: drop-shadow(0px 1px 2px rgba(0, 0, 0, 0.3));\n",
              "      fill: #FFFFFF;\n",
              "    }\n",
              "  </style>\n",
              "\n",
              "      <script>\n",
              "        const buttonEl =\n",
              "          document.querySelector('#df-7589e33f-8100-4058-a474-2c95ca9c1338 button.colab-df-convert');\n",
              "        buttonEl.style.display =\n",
              "          google.colab.kernel.accessAllowed ? 'block' : 'none';\n",
              "\n",
              "        async function convertToInteractive(key) {\n",
              "          const element = document.querySelector('#df-7589e33f-8100-4058-a474-2c95ca9c1338');\n",
              "          const dataTable =\n",
              "            await google.colab.kernel.invokeFunction('convertToInteractive',\n",
              "                                                     [key], {});\n",
              "          if (!dataTable) return;\n",
              "\n",
              "          const docLinkHtml = 'Like what you see? Visit the ' +\n",
              "            '<a target=\"_blank\" href=https://colab.research.google.com/notebooks/data_table.ipynb>data table notebook</a>'\n",
              "            + ' to learn more about interactive tables.';\n",
              "          element.innerHTML = '';\n",
              "          dataTable['output_type'] = 'display_data';\n",
              "          await google.colab.output.renderOutput(dataTable, element);\n",
              "          const docLink = document.createElement('div');\n",
              "          docLink.innerHTML = docLinkHtml;\n",
              "          element.appendChild(docLink);\n",
              "        }\n",
              "      </script>\n",
              "    </div>\n",
              "  </div>\n",
              "  "
            ]
          },
          "metadata": {},
          "execution_count": 11
        }
      ],
      "source": [
        "#Representation of the null values in the formate of percentage\n",
        "null = pd.DataFrame({\"no of null value\":data_train.isnull().sum(),\n",
        "                     \"percentage of nul value\":(data_train.isnull().sum()/len(data_train))*100})\n",
        "null"
      ]
    },
    {
      "cell_type": "markdown",
      "metadata": {
        "id": "somKqMSDuiHs"
      },
      "source": [
        "Let's Categories the dataset columns into numerical data and categorical data for better understanding or which helps in fill the null values or missing values."
      ]
    },
    {
      "cell_type": "code",
      "execution_count": 12,
      "metadata": {
        "id": "SWLzQ16FuT-a"
      },
      "outputs": [],
      "source": [
        "#Categorizing the data types\n",
        "train_continuous_column=[]\n",
        "train_categorical_column=[]\n",
        "for i in data_train:\n",
        "  if data_train[i].dtype=='object':\n",
        "    train_categorical_column.append(i)\n",
        "  else:\n",
        "    train_continuous_column.append(i)"
      ]
    },
    {
      "cell_type": "markdown",
      "metadata": {
        "id": "NshgmIWeyoSp"
      },
      "source": [
        "**Handling the missing values**"
      ]
    },
    {
      "cell_type": "code",
      "execution_count": 13,
      "metadata": {
        "colab": {
          "base_uri": "https://localhost:8080/"
        },
        "id": "WuC2zJAF4CS9",
        "outputId": "6be320b6-c26a-4592-c557-9fb39f5090fc"
      },
      "outputs": [
        {
          "output_type": "execute_result",
          "data": {
            "text/plain": [
              "['PassengerId',\n",
              " 'HomePlanet',\n",
              " 'CryoSleep',\n",
              " 'Cabin',\n",
              " 'Destination',\n",
              " 'VIP',\n",
              " 'Name',\n",
              " 'Transported']"
            ]
          },
          "metadata": {},
          "execution_count": 13
        }
      ],
      "source": [
        "train_categorical_column\n"
      ]
    },
    {
      "cell_type": "code",
      "execution_count": 14,
      "metadata": {
        "id": "NFnxVC4eudDS"
      },
      "outputs": [],
      "source": [
        "#Handling null values of categorical columns\n",
        "data_train[\"HomePlanet\"].fillna((data_train[\"HomePlanet\"].mode()[0]),inplace=True )\n",
        "data_train['CryoSleep'].fillna((data_train['CryoSleep'].mode()[0]),inplace=True )\n",
        "data_train['Cabin'].fillna((data_train['Cabin'].mode()[0]),inplace=True )\n",
        "data_train['Destination'].fillna((data_train['Destination'].mode()[0]),inplace=True )\n",
        "data_train['VIP'].fillna((data_train['VIP'].mode()[0]),inplace=True )"
      ]
    },
    {
      "cell_type": "code",
      "execution_count": 15,
      "metadata": {
        "colab": {
          "base_uri": "https://localhost:8080/"
        },
        "id": "jN_Lw8hm37Jm",
        "outputId": "c319b7fb-abf4-4803-ec9f-73594d71da6c"
      },
      "outputs": [
        {
          "output_type": "execute_result",
          "data": {
            "text/plain": [
              "['Age', 'RoomService', 'FoodCourt', 'ShoppingMall', 'Spa', 'VRDeck']"
            ]
          },
          "metadata": {},
          "execution_count": 15
        }
      ],
      "source": [
        "train_continuous_column"
      ]
    },
    {
      "cell_type": "code",
      "execution_count": 16,
      "metadata": {
        "id": "HP-88N7i4NsA"
      },
      "outputs": [],
      "source": [
        "#Handling the missing values of the continuous data\n",
        "data_train['Age'].fillna((data_train['Age'].mean()), inplace=True)\n",
        "data_train['RoomService'].fillna((data_train['RoomService'].mean()), inplace=True)\n",
        "data_train['FoodCourt'].fillna((data_train['FoodCourt'].mean()), inplace=True)\n",
        "data_train['ShoppingMall'].fillna((data_train['ShoppingMall'].mean()), inplace=True)\n",
        "data_train['Spa'].fillna((data_train['Spa'].mean()), inplace=True)\n",
        "data_train['VRDeck'].fillna((data_train['VRDeck'].mean()), inplace=True)"
      ]
    },
    {
      "cell_type": "code",
      "execution_count": 17,
      "metadata": {
        "colab": {
          "base_uri": "https://localhost:8080/"
        },
        "id": "Fnl57gZb022K",
        "outputId": "ae2d6ef4-dbbe-48c8-a903-88a854e9097c"
      },
      "outputs": [
        {
          "output_type": "execute_result",
          "data": {
            "text/plain": [
              "PassengerId       0\n",
              "HomePlanet        0\n",
              "CryoSleep         0\n",
              "Cabin             0\n",
              "Destination       0\n",
              "Age               0\n",
              "VIP               0\n",
              "RoomService       0\n",
              "FoodCourt         0\n",
              "ShoppingMall      0\n",
              "Spa               0\n",
              "VRDeck            0\n",
              "Name            200\n",
              "Transported       0\n",
              "dtype: int64"
            ]
          },
          "metadata": {},
          "execution_count": 17
        }
      ],
      "source": [
        "data_train.isnull().sum()"
      ]
    },
    {
      "cell_type": "code",
      "execution_count": 18,
      "metadata": {
        "colab": {
          "base_uri": "https://localhost:8080/",
          "height": 300
        },
        "id": "l1N0zAs-3BZV",
        "outputId": "22c03376-197c-4ddd-e3e8-5ced83e3406d"
      },
      "outputs": [
        {
          "output_type": "execute_result",
          "data": {
            "text/plain": [
              "               Age   RoomService     FoodCourt  ShoppingMall           Spa  \\\n",
              "count  8693.000000   8693.000000   8693.000000   8693.000000   8693.000000   \n",
              "mean     28.827930    224.687617    458.077203    173.729169    311.138778   \n",
              "std      14.339054    659.739364   1594.434978    597.417440   1124.675871   \n",
              "min       0.000000      0.000000      0.000000      0.000000      0.000000   \n",
              "25%      20.000000      0.000000      0.000000      0.000000      0.000000   \n",
              "50%      27.000000      0.000000      0.000000      0.000000      0.000000   \n",
              "75%      37.000000     78.000000    118.000000     45.000000     89.000000   \n",
              "max      79.000000  14327.000000  29813.000000  23492.000000  22408.000000   \n",
              "\n",
              "             VRDeck  \n",
              "count   8693.000000  \n",
              "mean     304.854791  \n",
              "std     1133.259049  \n",
              "min        0.000000  \n",
              "25%        0.000000  \n",
              "50%        0.000000  \n",
              "75%       71.000000  \n",
              "max    24133.000000  "
            ],
            "text/html": [
              "\n",
              "  <div id=\"df-439616e4-4903-43e6-867d-4890899cf818\">\n",
              "    <div class=\"colab-df-container\">\n",
              "      <div>\n",
              "<style scoped>\n",
              "    .dataframe tbody tr th:only-of-type {\n",
              "        vertical-align: middle;\n",
              "    }\n",
              "\n",
              "    .dataframe tbody tr th {\n",
              "        vertical-align: top;\n",
              "    }\n",
              "\n",
              "    .dataframe thead th {\n",
              "        text-align: right;\n",
              "    }\n",
              "</style>\n",
              "<table border=\"1\" class=\"dataframe\">\n",
              "  <thead>\n",
              "    <tr style=\"text-align: right;\">\n",
              "      <th></th>\n",
              "      <th>Age</th>\n",
              "      <th>RoomService</th>\n",
              "      <th>FoodCourt</th>\n",
              "      <th>ShoppingMall</th>\n",
              "      <th>Spa</th>\n",
              "      <th>VRDeck</th>\n",
              "    </tr>\n",
              "  </thead>\n",
              "  <tbody>\n",
              "    <tr>\n",
              "      <th>count</th>\n",
              "      <td>8693.000000</td>\n",
              "      <td>8693.000000</td>\n",
              "      <td>8693.000000</td>\n",
              "      <td>8693.000000</td>\n",
              "      <td>8693.000000</td>\n",
              "      <td>8693.000000</td>\n",
              "    </tr>\n",
              "    <tr>\n",
              "      <th>mean</th>\n",
              "      <td>28.827930</td>\n",
              "      <td>224.687617</td>\n",
              "      <td>458.077203</td>\n",
              "      <td>173.729169</td>\n",
              "      <td>311.138778</td>\n",
              "      <td>304.854791</td>\n",
              "    </tr>\n",
              "    <tr>\n",
              "      <th>std</th>\n",
              "      <td>14.339054</td>\n",
              "      <td>659.739364</td>\n",
              "      <td>1594.434978</td>\n",
              "      <td>597.417440</td>\n",
              "      <td>1124.675871</td>\n",
              "      <td>1133.259049</td>\n",
              "    </tr>\n",
              "    <tr>\n",
              "      <th>min</th>\n",
              "      <td>0.000000</td>\n",
              "      <td>0.000000</td>\n",
              "      <td>0.000000</td>\n",
              "      <td>0.000000</td>\n",
              "      <td>0.000000</td>\n",
              "      <td>0.000000</td>\n",
              "    </tr>\n",
              "    <tr>\n",
              "      <th>25%</th>\n",
              "      <td>20.000000</td>\n",
              "      <td>0.000000</td>\n",
              "      <td>0.000000</td>\n",
              "      <td>0.000000</td>\n",
              "      <td>0.000000</td>\n",
              "      <td>0.000000</td>\n",
              "    </tr>\n",
              "    <tr>\n",
              "      <th>50%</th>\n",
              "      <td>27.000000</td>\n",
              "      <td>0.000000</td>\n",
              "      <td>0.000000</td>\n",
              "      <td>0.000000</td>\n",
              "      <td>0.000000</td>\n",
              "      <td>0.000000</td>\n",
              "    </tr>\n",
              "    <tr>\n",
              "      <th>75%</th>\n",
              "      <td>37.000000</td>\n",
              "      <td>78.000000</td>\n",
              "      <td>118.000000</td>\n",
              "      <td>45.000000</td>\n",
              "      <td>89.000000</td>\n",
              "      <td>71.000000</td>\n",
              "    </tr>\n",
              "    <tr>\n",
              "      <th>max</th>\n",
              "      <td>79.000000</td>\n",
              "      <td>14327.000000</td>\n",
              "      <td>29813.000000</td>\n",
              "      <td>23492.000000</td>\n",
              "      <td>22408.000000</td>\n",
              "      <td>24133.000000</td>\n",
              "    </tr>\n",
              "  </tbody>\n",
              "</table>\n",
              "</div>\n",
              "      <button class=\"colab-df-convert\" onclick=\"convertToInteractive('df-439616e4-4903-43e6-867d-4890899cf818')\"\n",
              "              title=\"Convert this dataframe to an interactive table.\"\n",
              "              style=\"display:none;\">\n",
              "        \n",
              "  <svg xmlns=\"http://www.w3.org/2000/svg\" height=\"24px\"viewBox=\"0 0 24 24\"\n",
              "       width=\"24px\">\n",
              "    <path d=\"M0 0h24v24H0V0z\" fill=\"none\"/>\n",
              "    <path d=\"M18.56 5.44l.94 2.06.94-2.06 2.06-.94-2.06-.94-.94-2.06-.94 2.06-2.06.94zm-11 1L8.5 8.5l.94-2.06 2.06-.94-2.06-.94L8.5 2.5l-.94 2.06-2.06.94zm10 10l.94 2.06.94-2.06 2.06-.94-2.06-.94-.94-2.06-.94 2.06-2.06.94z\"/><path d=\"M17.41 7.96l-1.37-1.37c-.4-.4-.92-.59-1.43-.59-.52 0-1.04.2-1.43.59L10.3 9.45l-7.72 7.72c-.78.78-.78 2.05 0 2.83L4 21.41c.39.39.9.59 1.41.59.51 0 1.02-.2 1.41-.59l7.78-7.78 2.81-2.81c.8-.78.8-2.07 0-2.86zM5.41 20L4 18.59l7.72-7.72 1.47 1.35L5.41 20z\"/>\n",
              "  </svg>\n",
              "      </button>\n",
              "      \n",
              "  <style>\n",
              "    .colab-df-container {\n",
              "      display:flex;\n",
              "      flex-wrap:wrap;\n",
              "      gap: 12px;\n",
              "    }\n",
              "\n",
              "    .colab-df-convert {\n",
              "      background-color: #E8F0FE;\n",
              "      border: none;\n",
              "      border-radius: 50%;\n",
              "      cursor: pointer;\n",
              "      display: none;\n",
              "      fill: #1967D2;\n",
              "      height: 32px;\n",
              "      padding: 0 0 0 0;\n",
              "      width: 32px;\n",
              "    }\n",
              "\n",
              "    .colab-df-convert:hover {\n",
              "      background-color: #E2EBFA;\n",
              "      box-shadow: 0px 1px 2px rgba(60, 64, 67, 0.3), 0px 1px 3px 1px rgba(60, 64, 67, 0.15);\n",
              "      fill: #174EA6;\n",
              "    }\n",
              "\n",
              "    [theme=dark] .colab-df-convert {\n",
              "      background-color: #3B4455;\n",
              "      fill: #D2E3FC;\n",
              "    }\n",
              "\n",
              "    [theme=dark] .colab-df-convert:hover {\n",
              "      background-color: #434B5C;\n",
              "      box-shadow: 0px 1px 3px 1px rgba(0, 0, 0, 0.15);\n",
              "      filter: drop-shadow(0px 1px 2px rgba(0, 0, 0, 0.3));\n",
              "      fill: #FFFFFF;\n",
              "    }\n",
              "  </style>\n",
              "\n",
              "      <script>\n",
              "        const buttonEl =\n",
              "          document.querySelector('#df-439616e4-4903-43e6-867d-4890899cf818 button.colab-df-convert');\n",
              "        buttonEl.style.display =\n",
              "          google.colab.kernel.accessAllowed ? 'block' : 'none';\n",
              "\n",
              "        async function convertToInteractive(key) {\n",
              "          const element = document.querySelector('#df-439616e4-4903-43e6-867d-4890899cf818');\n",
              "          const dataTable =\n",
              "            await google.colab.kernel.invokeFunction('convertToInteractive',\n",
              "                                                     [key], {});\n",
              "          if (!dataTable) return;\n",
              "\n",
              "          const docLinkHtml = 'Like what you see? Visit the ' +\n",
              "            '<a target=\"_blank\" href=https://colab.research.google.com/notebooks/data_table.ipynb>data table notebook</a>'\n",
              "            + ' to learn more about interactive tables.';\n",
              "          element.innerHTML = '';\n",
              "          dataTable['output_type'] = 'display_data';\n",
              "          await google.colab.output.renderOutput(dataTable, element);\n",
              "          const docLink = document.createElement('div');\n",
              "          docLink.innerHTML = docLinkHtml;\n",
              "          element.appendChild(docLink);\n",
              "        }\n",
              "      </script>\n",
              "    </div>\n",
              "  </div>\n",
              "  "
            ]
          },
          "metadata": {},
          "execution_count": 18
        }
      ],
      "source": [
        "# this is for only Numerical columns\n",
        "data_train.describe()"
      ]
    },
    {
      "cell_type": "markdown",
      "metadata": {
        "id": "vZBoGzYS4nWS"
      },
      "source": [
        "**Observation**\n",
        "\n",
        "* The average Age of passenger is 29 and the oldest passenger in the spaceship is 79 years.\n",
        "* The average RoomService Amount the passenger has billed is 225 and the highest amount is 14327.\n",
        "* The average FoodCourt Amount the passenger has billed is 458 and the highest amount is 29813.\n",
        "* The average ShoppingMall Amount the passenger has billed is 174 and the highest amount is 23492.\n",
        "* The average Spa Amount the passenger has billed is 311 and the highest amount is 22408.\n",
        "* The average VRDeck Amount the passenger has billed is 305 and the highest amount is 24133\n",
        "* And also here we need to find the passenger who are not billed for these things because we can find the value zero, in the dataset so lets consider value zero category is not billed."
      ]
    },
    {
      "cell_type": "code",
      "execution_count": 19,
      "metadata": {
        "colab": {
          "base_uri": "https://localhost:8080/",
          "height": 175
        },
        "id": "WsulC6r189CG",
        "outputId": "bc93dca4-8ea0-46a0-c8f0-b07ac91ec8f9"
      },
      "outputs": [
        {
          "output_type": "execute_result",
          "data": {
            "text/plain": [
              "       PassengerId HomePlanet    Cabin  Destination            Name  \\\n",
              "count         8693       8693     8693         8693            8493   \n",
              "unique        8693          3     6560            3            8473   \n",
              "top        0001_01      Earth  G/734/S  TRAPPIST-1e  Gollux Reedall   \n",
              "freq             1       4803      207         6097               2   \n",
              "\n",
              "       Transported  \n",
              "count         8693  \n",
              "unique           2  \n",
              "top            Yes  \n",
              "freq          4378  "
            ],
            "text/html": [
              "\n",
              "  <div id=\"df-bc65e2b3-653d-48d8-8d3f-796fa028945e\">\n",
              "    <div class=\"colab-df-container\">\n",
              "      <div>\n",
              "<style scoped>\n",
              "    .dataframe tbody tr th:only-of-type {\n",
              "        vertical-align: middle;\n",
              "    }\n",
              "\n",
              "    .dataframe tbody tr th {\n",
              "        vertical-align: top;\n",
              "    }\n",
              "\n",
              "    .dataframe thead th {\n",
              "        text-align: right;\n",
              "    }\n",
              "</style>\n",
              "<table border=\"1\" class=\"dataframe\">\n",
              "  <thead>\n",
              "    <tr style=\"text-align: right;\">\n",
              "      <th></th>\n",
              "      <th>PassengerId</th>\n",
              "      <th>HomePlanet</th>\n",
              "      <th>Cabin</th>\n",
              "      <th>Destination</th>\n",
              "      <th>Name</th>\n",
              "      <th>Transported</th>\n",
              "    </tr>\n",
              "  </thead>\n",
              "  <tbody>\n",
              "    <tr>\n",
              "      <th>count</th>\n",
              "      <td>8693</td>\n",
              "      <td>8693</td>\n",
              "      <td>8693</td>\n",
              "      <td>8693</td>\n",
              "      <td>8493</td>\n",
              "      <td>8693</td>\n",
              "    </tr>\n",
              "    <tr>\n",
              "      <th>unique</th>\n",
              "      <td>8693</td>\n",
              "      <td>3</td>\n",
              "      <td>6560</td>\n",
              "      <td>3</td>\n",
              "      <td>8473</td>\n",
              "      <td>2</td>\n",
              "    </tr>\n",
              "    <tr>\n",
              "      <th>top</th>\n",
              "      <td>0001_01</td>\n",
              "      <td>Earth</td>\n",
              "      <td>G/734/S</td>\n",
              "      <td>TRAPPIST-1e</td>\n",
              "      <td>Gollux Reedall</td>\n",
              "      <td>Yes</td>\n",
              "    </tr>\n",
              "    <tr>\n",
              "      <th>freq</th>\n",
              "      <td>1</td>\n",
              "      <td>4803</td>\n",
              "      <td>207</td>\n",
              "      <td>6097</td>\n",
              "      <td>2</td>\n",
              "      <td>4378</td>\n",
              "    </tr>\n",
              "  </tbody>\n",
              "</table>\n",
              "</div>\n",
              "      <button class=\"colab-df-convert\" onclick=\"convertToInteractive('df-bc65e2b3-653d-48d8-8d3f-796fa028945e')\"\n",
              "              title=\"Convert this dataframe to an interactive table.\"\n",
              "              style=\"display:none;\">\n",
              "        \n",
              "  <svg xmlns=\"http://www.w3.org/2000/svg\" height=\"24px\"viewBox=\"0 0 24 24\"\n",
              "       width=\"24px\">\n",
              "    <path d=\"M0 0h24v24H0V0z\" fill=\"none\"/>\n",
              "    <path d=\"M18.56 5.44l.94 2.06.94-2.06 2.06-.94-2.06-.94-.94-2.06-.94 2.06-2.06.94zm-11 1L8.5 8.5l.94-2.06 2.06-.94-2.06-.94L8.5 2.5l-.94 2.06-2.06.94zm10 10l.94 2.06.94-2.06 2.06-.94-2.06-.94-.94-2.06-.94 2.06-2.06.94z\"/><path d=\"M17.41 7.96l-1.37-1.37c-.4-.4-.92-.59-1.43-.59-.52 0-1.04.2-1.43.59L10.3 9.45l-7.72 7.72c-.78.78-.78 2.05 0 2.83L4 21.41c.39.39.9.59 1.41.59.51 0 1.02-.2 1.41-.59l7.78-7.78 2.81-2.81c.8-.78.8-2.07 0-2.86zM5.41 20L4 18.59l7.72-7.72 1.47 1.35L5.41 20z\"/>\n",
              "  </svg>\n",
              "      </button>\n",
              "      \n",
              "  <style>\n",
              "    .colab-df-container {\n",
              "      display:flex;\n",
              "      flex-wrap:wrap;\n",
              "      gap: 12px;\n",
              "    }\n",
              "\n",
              "    .colab-df-convert {\n",
              "      background-color: #E8F0FE;\n",
              "      border: none;\n",
              "      border-radius: 50%;\n",
              "      cursor: pointer;\n",
              "      display: none;\n",
              "      fill: #1967D2;\n",
              "      height: 32px;\n",
              "      padding: 0 0 0 0;\n",
              "      width: 32px;\n",
              "    }\n",
              "\n",
              "    .colab-df-convert:hover {\n",
              "      background-color: #E2EBFA;\n",
              "      box-shadow: 0px 1px 2px rgba(60, 64, 67, 0.3), 0px 1px 3px 1px rgba(60, 64, 67, 0.15);\n",
              "      fill: #174EA6;\n",
              "    }\n",
              "\n",
              "    [theme=dark] .colab-df-convert {\n",
              "      background-color: #3B4455;\n",
              "      fill: #D2E3FC;\n",
              "    }\n",
              "\n",
              "    [theme=dark] .colab-df-convert:hover {\n",
              "      background-color: #434B5C;\n",
              "      box-shadow: 0px 1px 3px 1px rgba(0, 0, 0, 0.15);\n",
              "      filter: drop-shadow(0px 1px 2px rgba(0, 0, 0, 0.3));\n",
              "      fill: #FFFFFF;\n",
              "    }\n",
              "  </style>\n",
              "\n",
              "      <script>\n",
              "        const buttonEl =\n",
              "          document.querySelector('#df-bc65e2b3-653d-48d8-8d3f-796fa028945e button.colab-df-convert');\n",
              "        buttonEl.style.display =\n",
              "          google.colab.kernel.accessAllowed ? 'block' : 'none';\n",
              "\n",
              "        async function convertToInteractive(key) {\n",
              "          const element = document.querySelector('#df-bc65e2b3-653d-48d8-8d3f-796fa028945e');\n",
              "          const dataTable =\n",
              "            await google.colab.kernel.invokeFunction('convertToInteractive',\n",
              "                                                     [key], {});\n",
              "          if (!dataTable) return;\n",
              "\n",
              "          const docLinkHtml = 'Like what you see? Visit the ' +\n",
              "            '<a target=\"_blank\" href=https://colab.research.google.com/notebooks/data_table.ipynb>data table notebook</a>'\n",
              "            + ' to learn more about interactive tables.';\n",
              "          element.innerHTML = '';\n",
              "          dataTable['output_type'] = 'display_data';\n",
              "          await google.colab.output.renderOutput(dataTable, element);\n",
              "          const docLink = document.createElement('div');\n",
              "          docLink.innerHTML = docLinkHtml;\n",
              "          element.appendChild(docLink);\n",
              "        }\n",
              "      </script>\n",
              "    </div>\n",
              "  </div>\n",
              "  "
            ]
          },
          "metadata": {},
          "execution_count": 19
        }
      ],
      "source": [
        "data_train.describe(include='object')"
      ]
    },
    {
      "cell_type": "markdown",
      "metadata": {
        "id": "qXs8wHwL9AP1"
      },
      "source": [
        "Here we can observe that the \n",
        "- Majority of the people transported from Earth\n",
        "- Majority of the people transported from Cabin G/734/S\n",
        "- Majority of the people transported to TRAPPIST-1e\n",
        "- Majority of the people transported successfully\n",
        "- But the cabin has the 6560 unique categories or values in it so we cannot use directly to the model."
      ]
    },
    {
      "cell_type": "markdown",
      "metadata": {
        "id": "P6Z-D2ap5aGQ"
      },
      "source": [
        "###**Test data set**"
      ]
    },
    {
      "cell_type": "code",
      "execution_count": 20,
      "metadata": {
        "colab": {
          "base_uri": "https://localhost:8080/"
        },
        "id": "xL3WmTve4ic9",
        "outputId": "79498f4e-3b57-4777-bedc-5d1270b55653"
      },
      "outputs": [
        {
          "output_type": "execute_result",
          "data": {
            "text/plain": [
              "0"
            ]
          },
          "metadata": {},
          "execution_count": 20
        }
      ],
      "source": [
        "data_test.duplicated().sum()"
      ]
    },
    {
      "cell_type": "code",
      "execution_count": 21,
      "metadata": {
        "colab": {
          "base_uri": "https://localhost:8080/"
        },
        "id": "NX2MNGlA5fca",
        "outputId": "ddba5dfd-8e84-4666-8b6f-1abb8320cf83"
      },
      "outputs": [
        {
          "output_type": "execute_result",
          "data": {
            "text/plain": [
              "PassengerId       0\n",
              "HomePlanet       87\n",
              "CryoSleep        93\n",
              "Cabin           100\n",
              "Destination      92\n",
              "Age              91\n",
              "VIP              93\n",
              "RoomService      82\n",
              "FoodCourt       106\n",
              "ShoppingMall     98\n",
              "Spa             101\n",
              "VRDeck           80\n",
              "Name             94\n",
              "dtype: int64"
            ]
          },
          "metadata": {},
          "execution_count": 21
        }
      ],
      "source": [
        "data_test.isnull().sum()"
      ]
    },
    {
      "cell_type": "code",
      "execution_count": 22,
      "metadata": {
        "colab": {
          "base_uri": "https://localhost:8080/",
          "height": 457
        },
        "id": "j6GrHKqQ5h9n",
        "outputId": "0f14fdae-8293-4251-e646-e4d387dfcc33"
      },
      "outputs": [
        {
          "output_type": "execute_result",
          "data": {
            "text/plain": [
              "              no of null value  percentage of nul value\n",
              "PassengerId                  0                 0.000000\n",
              "HomePlanet                  87                 2.034136\n",
              "CryoSleep                   93                 2.174421\n",
              "Cabin                      100                 2.338087\n",
              "Destination                 92                 2.151040\n",
              "Age                         91                 2.127660\n",
              "VIP                         93                 2.174421\n",
              "RoomService                 82                 1.917232\n",
              "FoodCourt                  106                 2.478373\n",
              "ShoppingMall                98                 2.291326\n",
              "Spa                        101                 2.361468\n",
              "VRDeck                      80                 1.870470\n",
              "Name                        94                 2.197802"
            ],
            "text/html": [
              "\n",
              "  <div id=\"df-7c58ee2b-9fb5-46e5-8d77-97f7f163e3d5\">\n",
              "    <div class=\"colab-df-container\">\n",
              "      <div>\n",
              "<style scoped>\n",
              "    .dataframe tbody tr th:only-of-type {\n",
              "        vertical-align: middle;\n",
              "    }\n",
              "\n",
              "    .dataframe tbody tr th {\n",
              "        vertical-align: top;\n",
              "    }\n",
              "\n",
              "    .dataframe thead th {\n",
              "        text-align: right;\n",
              "    }\n",
              "</style>\n",
              "<table border=\"1\" class=\"dataframe\">\n",
              "  <thead>\n",
              "    <tr style=\"text-align: right;\">\n",
              "      <th></th>\n",
              "      <th>no of null value</th>\n",
              "      <th>percentage of nul value</th>\n",
              "    </tr>\n",
              "  </thead>\n",
              "  <tbody>\n",
              "    <tr>\n",
              "      <th>PassengerId</th>\n",
              "      <td>0</td>\n",
              "      <td>0.000000</td>\n",
              "    </tr>\n",
              "    <tr>\n",
              "      <th>HomePlanet</th>\n",
              "      <td>87</td>\n",
              "      <td>2.034136</td>\n",
              "    </tr>\n",
              "    <tr>\n",
              "      <th>CryoSleep</th>\n",
              "      <td>93</td>\n",
              "      <td>2.174421</td>\n",
              "    </tr>\n",
              "    <tr>\n",
              "      <th>Cabin</th>\n",
              "      <td>100</td>\n",
              "      <td>2.338087</td>\n",
              "    </tr>\n",
              "    <tr>\n",
              "      <th>Destination</th>\n",
              "      <td>92</td>\n",
              "      <td>2.151040</td>\n",
              "    </tr>\n",
              "    <tr>\n",
              "      <th>Age</th>\n",
              "      <td>91</td>\n",
              "      <td>2.127660</td>\n",
              "    </tr>\n",
              "    <tr>\n",
              "      <th>VIP</th>\n",
              "      <td>93</td>\n",
              "      <td>2.174421</td>\n",
              "    </tr>\n",
              "    <tr>\n",
              "      <th>RoomService</th>\n",
              "      <td>82</td>\n",
              "      <td>1.917232</td>\n",
              "    </tr>\n",
              "    <tr>\n",
              "      <th>FoodCourt</th>\n",
              "      <td>106</td>\n",
              "      <td>2.478373</td>\n",
              "    </tr>\n",
              "    <tr>\n",
              "      <th>ShoppingMall</th>\n",
              "      <td>98</td>\n",
              "      <td>2.291326</td>\n",
              "    </tr>\n",
              "    <tr>\n",
              "      <th>Spa</th>\n",
              "      <td>101</td>\n",
              "      <td>2.361468</td>\n",
              "    </tr>\n",
              "    <tr>\n",
              "      <th>VRDeck</th>\n",
              "      <td>80</td>\n",
              "      <td>1.870470</td>\n",
              "    </tr>\n",
              "    <tr>\n",
              "      <th>Name</th>\n",
              "      <td>94</td>\n",
              "      <td>2.197802</td>\n",
              "    </tr>\n",
              "  </tbody>\n",
              "</table>\n",
              "</div>\n",
              "      <button class=\"colab-df-convert\" onclick=\"convertToInteractive('df-7c58ee2b-9fb5-46e5-8d77-97f7f163e3d5')\"\n",
              "              title=\"Convert this dataframe to an interactive table.\"\n",
              "              style=\"display:none;\">\n",
              "        \n",
              "  <svg xmlns=\"http://www.w3.org/2000/svg\" height=\"24px\"viewBox=\"0 0 24 24\"\n",
              "       width=\"24px\">\n",
              "    <path d=\"M0 0h24v24H0V0z\" fill=\"none\"/>\n",
              "    <path d=\"M18.56 5.44l.94 2.06.94-2.06 2.06-.94-2.06-.94-.94-2.06-.94 2.06-2.06.94zm-11 1L8.5 8.5l.94-2.06 2.06-.94-2.06-.94L8.5 2.5l-.94 2.06-2.06.94zm10 10l.94 2.06.94-2.06 2.06-.94-2.06-.94-.94-2.06-.94 2.06-2.06.94z\"/><path d=\"M17.41 7.96l-1.37-1.37c-.4-.4-.92-.59-1.43-.59-.52 0-1.04.2-1.43.59L10.3 9.45l-7.72 7.72c-.78.78-.78 2.05 0 2.83L4 21.41c.39.39.9.59 1.41.59.51 0 1.02-.2 1.41-.59l7.78-7.78 2.81-2.81c.8-.78.8-2.07 0-2.86zM5.41 20L4 18.59l7.72-7.72 1.47 1.35L5.41 20z\"/>\n",
              "  </svg>\n",
              "      </button>\n",
              "      \n",
              "  <style>\n",
              "    .colab-df-container {\n",
              "      display:flex;\n",
              "      flex-wrap:wrap;\n",
              "      gap: 12px;\n",
              "    }\n",
              "\n",
              "    .colab-df-convert {\n",
              "      background-color: #E8F0FE;\n",
              "      border: none;\n",
              "      border-radius: 50%;\n",
              "      cursor: pointer;\n",
              "      display: none;\n",
              "      fill: #1967D2;\n",
              "      height: 32px;\n",
              "      padding: 0 0 0 0;\n",
              "      width: 32px;\n",
              "    }\n",
              "\n",
              "    .colab-df-convert:hover {\n",
              "      background-color: #E2EBFA;\n",
              "      box-shadow: 0px 1px 2px rgba(60, 64, 67, 0.3), 0px 1px 3px 1px rgba(60, 64, 67, 0.15);\n",
              "      fill: #174EA6;\n",
              "    }\n",
              "\n",
              "    [theme=dark] .colab-df-convert {\n",
              "      background-color: #3B4455;\n",
              "      fill: #D2E3FC;\n",
              "    }\n",
              "\n",
              "    [theme=dark] .colab-df-convert:hover {\n",
              "      background-color: #434B5C;\n",
              "      box-shadow: 0px 1px 3px 1px rgba(0, 0, 0, 0.15);\n",
              "      filter: drop-shadow(0px 1px 2px rgba(0, 0, 0, 0.3));\n",
              "      fill: #FFFFFF;\n",
              "    }\n",
              "  </style>\n",
              "\n",
              "      <script>\n",
              "        const buttonEl =\n",
              "          document.querySelector('#df-7c58ee2b-9fb5-46e5-8d77-97f7f163e3d5 button.colab-df-convert');\n",
              "        buttonEl.style.display =\n",
              "          google.colab.kernel.accessAllowed ? 'block' : 'none';\n",
              "\n",
              "        async function convertToInteractive(key) {\n",
              "          const element = document.querySelector('#df-7c58ee2b-9fb5-46e5-8d77-97f7f163e3d5');\n",
              "          const dataTable =\n",
              "            await google.colab.kernel.invokeFunction('convertToInteractive',\n",
              "                                                     [key], {});\n",
              "          if (!dataTable) return;\n",
              "\n",
              "          const docLinkHtml = 'Like what you see? Visit the ' +\n",
              "            '<a target=\"_blank\" href=https://colab.research.google.com/notebooks/data_table.ipynb>data table notebook</a>'\n",
              "            + ' to learn more about interactive tables.';\n",
              "          element.innerHTML = '';\n",
              "          dataTable['output_type'] = 'display_data';\n",
              "          await google.colab.output.renderOutput(dataTable, element);\n",
              "          const docLink = document.createElement('div');\n",
              "          docLink.innerHTML = docLinkHtml;\n",
              "          element.appendChild(docLink);\n",
              "        }\n",
              "      </script>\n",
              "    </div>\n",
              "  </div>\n",
              "  "
            ]
          },
          "metadata": {},
          "execution_count": 22
        }
      ],
      "source": [
        "null = pd.DataFrame({\"no of null value\":data_test.isnull().sum(),\n",
        "                     \"percentage of nul value\":(data_test.isnull().sum()/len(data_test))*100})\n",
        "null"
      ]
    },
    {
      "cell_type": "code",
      "execution_count": 23,
      "metadata": {
        "id": "cgUAEJcu5lni"
      },
      "outputs": [],
      "source": [
        "test_continuous_column=[]\n",
        "test_categorical_column=[]\n",
        "for i in data_test:\n",
        "  if data_test[i].dtype=='object':\n",
        "    test_categorical_column.append(i)\n",
        "  else:\n",
        "    test_continuous_column.append(i)"
      ]
    },
    {
      "cell_type": "code",
      "execution_count": 24,
      "metadata": {
        "colab": {
          "base_uri": "https://localhost:8080/"
        },
        "id": "I-dTXVu87YFI",
        "outputId": "9f178b60-b569-4711-922c-e4ee09f4c5c0"
      },
      "outputs": [
        {
          "output_type": "execute_result",
          "data": {
            "text/plain": [
              "['PassengerId',\n",
              " 'HomePlanet',\n",
              " 'CryoSleep',\n",
              " 'Cabin',\n",
              " 'Destination',\n",
              " 'VIP',\n",
              " 'Name']"
            ]
          },
          "metadata": {},
          "execution_count": 24
        }
      ],
      "source": [
        "test_categorical_column"
      ]
    },
    {
      "cell_type": "code",
      "execution_count": 25,
      "metadata": {
        "id": "dL_dKXgo56l8"
      },
      "outputs": [],
      "source": [
        "#Fill null values in categorical data\n",
        "data_test['HomePlanet'].fillna((data_test[\"HomePlanet\"].mode()[0]), inplace=True)\n",
        "data_test['CryoSleep'].fillna((data_test['CryoSleep'].mode()[0]), inplace=True)\n",
        "data_test['Destination'].fillna((data_test['Destination'].mode()[0]), inplace=True)\n",
        "data_test['VIP'].fillna((data_test['VIP'].mode()[0]), inplace=True)\n",
        "data_test['Cabin'].fillna((data_test['Cabin'].mode()[0]), inplace=True)"
      ]
    },
    {
      "cell_type": "code",
      "execution_count": 26,
      "metadata": {
        "colab": {
          "base_uri": "https://localhost:8080/"
        },
        "id": "0tFHm9OD7cxY",
        "outputId": "2f09f20a-c7f4-4b08-abda-b5c6888bd3c2"
      },
      "outputs": [
        {
          "output_type": "execute_result",
          "data": {
            "text/plain": [
              "['Age', 'RoomService', 'FoodCourt', 'ShoppingMall', 'Spa', 'VRDeck']"
            ]
          },
          "metadata": {},
          "execution_count": 26
        }
      ],
      "source": [
        "test_continuous_column"
      ]
    },
    {
      "cell_type": "code",
      "execution_count": 27,
      "metadata": {
        "id": "gBBxMCAR7PnK"
      },
      "outputs": [],
      "source": [
        "#fill null values in numerical data\n",
        "data_test['Age'].fillna((data_test['Age'].mean()), inplace=True)\n",
        "data_test['RoomService'].fillna((data_test['RoomService'].mean()), inplace=True)\n",
        "data_test['FoodCourt'].fillna((data_test['FoodCourt'].mean()), inplace=True)\n",
        "data_test['ShoppingMall'].fillna((data_test['ShoppingMall'].mean()), inplace=True)\n",
        "data_test['Spa'].fillna((data_test['Spa'].mean()), inplace=True)\n",
        "data_test['VRDeck'].fillna((data_test['VRDeck'].mean()), inplace=True)"
      ]
    },
    {
      "cell_type": "markdown",
      "metadata": {
        "id": "2oUbI3197p7M"
      },
      "source": [
        "###**6.2 Feature Engineering**"
      ]
    },
    {
      "cell_type": "markdown",
      "metadata": {
        "id": "yrwLXvTI7-H4"
      },
      "source": [
        "In data description they specifically mentioned that the,\n",
        "- PassengerID is in ther format of gggg and pp, that is group name/ID and the group number, so we are creating new feature GroupId and the GroupNumber.\n",
        "- In cabin we got 6560 different values, because cabin has 3 value in it like deck/num/side, where side can be either P for Port or S for Starboard, so we need to spilt deck and side as new feature\n"
      ]
    },
    {
      "cell_type": "code",
      "execution_count": 28,
      "metadata": {
        "id": "X0pw2Njd7ku1"
      },
      "outputs": [],
      "source": [
        "#Cabin has three values deck/num/side, so we'll create two columns for deck and side\n",
        "data_train[\"Deck\"] = data_train[\"Cabin\"].apply(lambda x: str(x).split(\"/\")[0])\n",
        "data_train[\"side\"] =data_train[\"Cabin\"].apply(lambda x: x.split(\"/\")[2])"
      ]
    },
    {
      "cell_type": "code",
      "execution_count": 29,
      "metadata": {
        "id": "EfJRR5RB9xWn"
      },
      "outputs": [],
      "source": [
        "#Each Id takes the form gggg_pp where gggg indicates a group the passenger is travelling \n",
        "#with and pp is their number within the group, so we'll create two new features GroupId and GroupIdNumber\n",
        "data_train[\"GroupId\"] = data_train[\"PassengerId\"].apply(lambda x: x.split(\"_\")[0])\n",
        "data_train[\"GroupIdNumber\"] =data_train[\"PassengerId\"].apply(lambda x: x.split(\"_\")[1])"
      ]
    },
    {
      "cell_type": "code",
      "execution_count": 30,
      "metadata": {
        "id": "df8hoq769z8S"
      },
      "outputs": [],
      "source": [
        "# Creating new feature InGroup to indicate if a passenger is alone or in group\n",
        "Group_train =data_train[data_train[\"GroupId\"].duplicated()][\"GroupId\"]\n",
        "data_train[\"InGroup\"] = data_train[\"GroupId\"].apply(lambda x: x in Group_train.values)"
      ]
    },
    {
      "cell_type": "markdown",
      "metadata": {
        "id": "E-eenxHo98Tr"
      },
      "source": [
        "###**New feature of Test Data**"
      ]
    },
    {
      "cell_type": "code",
      "execution_count": 31,
      "metadata": {
        "id": "TXhbFx7a93ZL"
      },
      "outputs": [],
      "source": [
        "#Cabin has three values deck/num/side, so we'll create two columns for deck and side\n",
        "data_test[\"Deck\"] = data_test[\"Cabin\"].apply(lambda x: str(x).split(\"/\")[0])\n",
        "data_test[\"side\"] = data_test[\"Cabin\"].apply(lambda x: x.split(\"/\")[2])"
      ]
    },
    {
      "cell_type": "code",
      "execution_count": 32,
      "metadata": {
        "id": "zmS4IpMM9_B7"
      },
      "outputs": [],
      "source": [
        "#Each Id takes the form gggg_pp where gggg indicates a group the passenger is travelling \n",
        "#with and pp is their number within the group, so we'll create two new features GroupId and GroupIdNumber\n",
        "data_test[\"GroupIdNumber\"] = data_test[\"PassengerId\"].apply(lambda x: x.split(\"_\")[1])\n",
        "data_test[\"GroupId\"] = data_test[\"PassengerId\"].apply(lambda x: x.split(\"_\")[0])"
      ]
    },
    {
      "cell_type": "code",
      "execution_count": 33,
      "metadata": {
        "id": "6DFjx0wO-CBU"
      },
      "outputs": [],
      "source": [
        "# Creating new feature InGroup to indicate if a passenger is alone or in group\n",
        "Group_test =data_test[data_test[\"GroupId\"].duplicated()][\"GroupId\"]\n",
        "data_test[\"InGroup\"] = data_test[\"GroupId\"].apply(lambda x: x in Group_test.values)"
      ]
    },
    {
      "cell_type": "markdown",
      "metadata": {
        "id": "bgTSjqUCIMse"
      },
      "source": [
        "**Dropping unwanted columns**"
      ]
    },
    {
      "cell_type": "code",
      "execution_count": 34,
      "metadata": {
        "id": "LInGA3Vv-IdC"
      },
      "outputs": [],
      "source": [
        "#Drop 'PassengerId','Cabin','Name','GroupId','GroupIdNumber' from df_train\n",
        "data_train.drop(['PassengerId','Cabin','Name','GroupId','GroupIdNumber'], axis=1, inplace=True)\n",
        "\n",
        "#Save PassengerId and Name\n",
        "Id_test_list = data_test[\"PassengerId\"].tolist()\n",
        "\n",
        "#Drop 'PassengerId','Cabin','Name','GroupId','GroupIdNumber' from df_test\n",
        "data_test.drop(['PassengerId','Cabin','Name','GroupId','GroupIdNumber'], axis=1, inplace=True)"
      ]
    },
    {
      "cell_type": "markdown",
      "metadata": {
        "id": "TqDHGTBgJGAn"
      },
      "source": [
        "###**6.3 Exploratory Data Analysis** "
      ]
    },
    {
      "cell_type": "markdown",
      "metadata": {
        "id": "FbvXsHjrJMz5"
      },
      "source": [
        "**Univariate Analysis**"
      ]
    },
    {
      "cell_type": "code",
      "execution_count": 35,
      "metadata": {
        "colab": {
          "base_uri": "https://localhost:8080/",
          "height": 868
        },
        "id": "ZHAIe32rI4HV",
        "outputId": "e7fb4dc4-10d3-49e8-d799-369409217088"
      },
      "outputs": [
        {
          "output_type": "display_data",
          "data": {
            "text/plain": [
              "<Figure size 1440x1800 with 6 Axes>"
            ],
            "image/png": "[encoded data removed]"
          },
          "metadata": {
            "needs_background": "light"
          }
        }
      ],
      "source": [
        "#Plot distribution of numerical columns\n",
        "fig = plt.figure(figsize= (20,25))\n",
        "for i, col in enumerate(train_continuous_column):\n",
        "    \n",
        "    ax=fig.add_subplot( 5, 2, i+1)\n",
        "    \n",
        "    sns.distplot(data_train[col])\n",
        "\n",
        "fig.tight_layout()  \n",
        "plt.show()"
      ]
    },
    {
      "cell_type": "markdown",
      "metadata": {
        "id": "-xI0h1AQJV_m"
      },
      "source": [
        "here we can see that the in continuous column:\n",
        "\n",
        "* The distribution of age is normal distribution\n",
        "* The distribution of the variables: RoomServie, FoodCourt, ShoppingMall, Spa, RDeck is skewed, we can confirme that using skew function."
      ]
    },
    {
      "cell_type": "code",
      "execution_count": 36,
      "metadata": {
        "colab": {
          "base_uri": "https://localhost:8080/"
        },
        "id": "vnkzu87bJRz3",
        "outputId": "4e268ac8-5d33-4482-85e4-471eefd41102"
      },
      "outputs": [
        {
          "output_type": "execute_result",
          "data": {
            "text/plain": [
              "['HomePlanet',\n",
              " 'CryoSleep',\n",
              " 'Destination',\n",
              " 'VIP',\n",
              " 'Transported',\n",
              " 'Deck',\n",
              " 'side',\n",
              " 'InGroup']"
            ]
          },
          "metadata": {},
          "execution_count": 36
        }
      ],
      "source": [
        "#for categorical data we have created the new columns so add those columns for the categorical features\n",
        "new_categ_features=[col for col in data_train.select_dtypes(exclude=['number'])]\n",
        "new_categ_features"
      ]
    },
    {
      "cell_type": "code",
      "execution_count": 37,
      "metadata": {
        "colab": {
          "base_uri": "https://localhost:8080/",
          "height": 657
        },
        "id": "PloHuz2bJji-",
        "outputId": "cdf26f74-4b36-432f-cfef-3ed88949fe42"
      },
      "outputs": [
        {
          "output_type": "display_data",
          "data": {
            "text/plain": [
              "<Figure size 1080x648 with 8 Axes>"
            ],
            "image/png": "[encoded data removed]"
          },
          "metadata": {
            "needs_background": "light"
          }
        }
      ],
      "source": [
        "fig = plt.figure(figsize= (15,9))\n",
        "for i, col in enumerate(new_categ_features):\n",
        "  ax=fig.add_subplot(3, 3, i+1)\n",
        "  sns.countplot(x=data_train[col], ax=ax)\n",
        "\n",
        "fig.tight_layout()  \n",
        "plt.show()"
      ]
    },
    {
      "cell_type": "markdown",
      "metadata": {
        "id": "Eskipw-0J-RB"
      },
      "source": [
        "* Most passengers were traveling on both Deck F, G and on Starboard-side.\n",
        "* More than half of passengers choose to travel alone.\n",
        "*Few passengers were in CryoSleep.\n",
        "*Passengers had an overall even chance of being transported"
      ]
    },
    {
      "cell_type": "code",
      "execution_count": 38,
      "metadata": {
        "colab": {
          "base_uri": "https://localhost:8080/"
        },
        "id": "L16i341NJoT4",
        "outputId": "9eca2a4a-5102-4392-e4db-ec7d414e21be"
      },
      "outputs": [
        {
          "output_type": "execute_result",
          "data": {
            "text/plain": [
              "ShoppingMall    12.781346\n",
              "VRDeck           7.905655\n",
              "Spa              7.717657\n",
              "FoodCourt        7.178159\n",
              "RoomService      6.399969\n",
              "Age              0.423478\n",
              "dtype: float64"
            ]
          },
          "metadata": {},
          "execution_count": 38
        }
      ],
      "source": [
        "data_train[train_continuous_column].skew().sort_values(ascending=False)"
      ]
    },
    {
      "cell_type": "markdown",
      "metadata": {
        "id": "P3BMP5s3KGCc"
      },
      "source": [
        "here we can see that the expect age remaining are all highly skewed it is greater than 0-0.5, and we are going to remove these outliers before feature extraction"
      ]
    },
    {
      "cell_type": "markdown",
      "metadata": {
        "id": "4gbVzQNeKJgw"
      },
      "source": [
        "**Bivariate Analysis**"
      ]
    },
    {
      "cell_type": "code",
      "execution_count": 39,
      "metadata": {
        "colab": {
          "base_uri": "https://localhost:8080/",
          "height": 868
        },
        "id": "7IlcEjsxKDw_",
        "outputId": "36a5ab3e-f5e7-414b-ae1e-58702f212b56"
      },
      "outputs": [
        {
          "output_type": "display_data",
          "data": {
            "text/plain": [
              "<Figure size 1440x1800 with 6 Axes>"
            ],
            "image/png": "[encoded data removed]"
          },
          "metadata": {
            "needs_background": "light"
          }
        }
      ],
      "source": [
        "Transported_data=data_train[data_train['Transported']=='Yes']\n",
        "NotTransported_data=data_train[data_train['Transported']=='No']\n",
        "fig = plt.figure(figsize= (20,25))\n",
        "for i, col in enumerate(train_continuous_column):\n",
        "    \n",
        "    ax=fig.add_subplot( 5, 2, i+1)\n",
        "    \n",
        "    sns.distplot(Transported_data[col],label='Transp')\n",
        "    sns.distplot(NotTransported_data[col],label='not_Transp')\n",
        "    plt.legend()\n",
        "    \n",
        "fig.tight_layout()  \n",
        "plt.show()"
      ]
    },
    {
      "cell_type": "code",
      "execution_count": 40,
      "metadata": {
        "colab": {
          "base_uri": "https://localhost:8080/",
          "height": 1000
        },
        "id": "XccLYPhoKNbJ",
        "outputId": "38f61d7f-6116-49fd-8026-3b756eedcb78"
      },
      "outputs": [
        {
          "output_type": "display_data",
          "data": {
            "text/plain": [
              "<Figure size 864x576 with 1 Axes>"
            ],
            "image/png": "[encoded data removed]"
          },
          "metadata": {
            "needs_background": "light"
          }
        },
        {
          "output_type": "display_data",
          "data": {
            "text/plain": [
              "<Figure size 864x576 with 1 Axes>"
            ],
            "image/png": "[encoded data removed]"
          },
          "metadata": {
            "needs_background": "light"
          }
        },
        {
          "output_type": "display_data",
          "data": {
            "text/plain": [
              "<Figure size 864x576 with 1 Axes>"
            ],
            "image/png": "[encoded data removed]"
          },
          "metadata": {
            "needs_background": "light"
          }
        },
        {
          "output_type": "display_data",
          "data": {
            "text/plain": [
              "<Figure size 864x576 with 1 Axes>"
            ],
            "image/png": "[encoded data removed]"
          },
          "metadata": {
            "needs_background": "light"
          }
        },
        {
          "output_type": "display_data",
          "data": {
            "text/plain": [
              "<Figure size 864x576 with 0 Axes>"
            ]
          },
          "metadata": {}
        },
        {
          "output_type": "display_data",
          "data": {
            "text/plain": [
              "<Figure size 864x576 with 1 Axes>"
            ],
            "image/png": "[encoded data removed]"
          },
          "metadata": {
            "needs_background": "light"
          }
        },
        {
          "output_type": "display_data",
          "data": {
            "text/plain": [
              "<Figure size 864x576 with 1 Axes>"
            ],
            "image/png": "[encoded data removed]"
          },
          "metadata": {
            "needs_background": "light"
          }
        },
        {
          "output_type": "display_data",
          "data": {
            "text/plain": [
              "<Figure size 864x576 with 1 Axes>"
            ],
            "image/png": "[encoded data removed]"
          },
          "metadata": {
            "needs_background": "light"
          }
        }
      ],
      "source": [
        "for col in new_categ_features:\n",
        "    plt.figure(figsize=(12,8))\n",
        "    if col!=\"Transported\":\n",
        "        sns.countplot(x=col,hue='Transported',data=data_train)"
      ]
    },
    {
      "cell_type": "markdown",
      "metadata": {
        "id": "xsx_0qJFKX9A"
      },
      "source": [
        "* Passengers from earth are less likely to be transported.\n",
        "*Passengers in CryoSleep are more likely to be transported.\n",
        "*Passengers who are traveling to Trappist-le are less likely to be transported.\n",
        "*Being a VIP doesn't seem to significantly affect chances of being transported.\n",
        "*passengers on decks F and port-side are more likely to be transported.\n",
        "*Passengers who are traveling in group are less likely to be transported."
      ]
    },
    {
      "cell_type": "markdown",
      "metadata": {
        "id": "eOYURgSwF7UC"
      },
      "source": [
        "**Multivariate Analysis**"
      ]
    },
    {
      "cell_type": "markdown",
      "metadata": {
        "id": "67UV3632GKmZ"
      },
      "source": [
        "To campare the replationship with target that is Transported we 1st need to convert from categorical numerical so for now we can use lable encoder for only that column or we can do for every categorical column here or we can do for remaining in the next step. "
      ]
    },
    {
      "cell_type": "code",
      "execution_count": 40,
      "metadata": {
        "id": "0Z-aLnTFF5Z7"
      },
      "outputs": [],
      "source": []
    },
    {
      "cell_type": "code",
      "execution_count": 41,
      "metadata": {
        "colab": {
          "base_uri": "https://localhost:8080/",
          "height": 331
        },
        "id": "e51P7MslHNQi",
        "outputId": "05ab36c8-a510-4de8-bc33-a11a877bdd75"
      },
      "outputs": [
        {
          "output_type": "execute_result",
          "data": {
            "text/plain": [
              "              CryoSleep       Age       VIP  RoomService  FoodCourt  \\\n",
              "CryoSleep      1.000000 -0.070736 -0.078281    -0.243986  -0.205682   \n",
              "Age           -0.070736  1.000000  0.091574     0.067612   0.127937   \n",
              "VIP           -0.078281  0.091574  1.000000     0.056595   0.126006   \n",
              "RoomService   -0.243986  0.067612  0.056595     1.000000  -0.015521   \n",
              "FoodCourt     -0.205682  0.127937  0.126006    -0.015521   1.000000   \n",
              "ShoppingMall  -0.206366  0.032655  0.018483     0.052962  -0.013934   \n",
              "Spa           -0.198392  0.120992  0.060573     0.009925   0.220587   \n",
              "VRDeck        -0.193107  0.099210  0.123092    -0.019207   0.224275   \n",
              "InGroup        0.091562 -0.133769  0.034027    -0.019909   0.066816   \n",
              "\n",
              "              ShoppingMall       Spa    VRDeck   InGroup  \n",
              "CryoSleep        -0.206366 -0.198392 -0.193107  0.091562  \n",
              "Age               0.032655  0.120992  0.099210 -0.133769  \n",
              "VIP               0.018483  0.060573  0.123092  0.034027  \n",
              "RoomService       0.052962  0.009925 -0.019207 -0.019909  \n",
              "FoodCourt        -0.013934  0.220587  0.224275  0.066816  \n",
              "ShoppingMall      1.000000  0.013678 -0.007189 -0.028857  \n",
              "Spa               0.013678  1.000000  0.147957  0.043363  \n",
              "VRDeck           -0.007189  0.147957  1.000000  0.043948  \n",
              "InGroup          -0.028857  0.043363  0.043948  1.000000  "
            ],
            "text/html": [
              "\n",
              "  <div id=\"df-b7e7ba05-aa24-4772-84d8-4763c7362e04\">\n",
              "    <div class=\"colab-df-container\">\n",
              "      <div>\n",
              "<style scoped>\n",
              "    .dataframe tbody tr th:only-of-type {\n",
              "        vertical-align: middle;\n",
              "    }\n",
              "\n",
              "    .dataframe tbody tr th {\n",
              "        vertical-align: top;\n",
              "    }\n",
              "\n",
              "    .dataframe thead th {\n",
              "        text-align: right;\n",
              "    }\n",
              "</style>\n",
              "<table border=\"1\" class=\"dataframe\">\n",
              "  <thead>\n",
              "    <tr style=\"text-align: right;\">\n",
              "      <th></th>\n",
              "      <th>CryoSleep</th>\n",
              "      <th>Age</th>\n",
              "      <th>VIP</th>\n",
              "      <th>RoomService</th>\n",
              "      <th>FoodCourt</th>\n",
              "      <th>ShoppingMall</th>\n",
              "      <th>Spa</th>\n",
              "      <th>VRDeck</th>\n",
              "      <th>InGroup</th>\n",
              "    </tr>\n",
              "  </thead>\n",
              "  <tbody>\n",
              "    <tr>\n",
              "      <th>CryoSleep</th>\n",
              "      <td>1.000000</td>\n",
              "      <td>-0.070736</td>\n",
              "      <td>-0.078281</td>\n",
              "      <td>-0.243986</td>\n",
              "      <td>-0.205682</td>\n",
              "      <td>-0.206366</td>\n",
              "      <td>-0.198392</td>\n",
              "      <td>-0.193107</td>\n",
              "      <td>0.091562</td>\n",
              "    </tr>\n",
              "    <tr>\n",
              "      <th>Age</th>\n",
              "      <td>-0.070736</td>\n",
              "      <td>1.000000</td>\n",
              "      <td>0.091574</td>\n",
              "      <td>0.067612</td>\n",
              "      <td>0.127937</td>\n",
              "      <td>0.032655</td>\n",
              "      <td>0.120992</td>\n",
              "      <td>0.099210</td>\n",
              "      <td>-0.133769</td>\n",
              "    </tr>\n",
              "    <tr>\n",
              "      <th>VIP</th>\n",
              "      <td>-0.078281</td>\n",
              "      <td>0.091574</td>\n",
              "      <td>1.000000</td>\n",
              "      <td>0.056595</td>\n",
              "      <td>0.126006</td>\n",
              "      <td>0.018483</td>\n",
              "      <td>0.060573</td>\n",
              "      <td>0.123092</td>\n",
              "      <td>0.034027</td>\n",
              "    </tr>\n",
              "    <tr>\n",
              "      <th>RoomService</th>\n",
              "      <td>-0.243986</td>\n",
              "      <td>0.067612</td>\n",
              "      <td>0.056595</td>\n",
              "      <td>1.000000</td>\n",
              "      <td>-0.015521</td>\n",
              "      <td>0.052962</td>\n",
              "      <td>0.009925</td>\n",
              "      <td>-0.019207</td>\n",
              "      <td>-0.019909</td>\n",
              "    </tr>\n",
              "    <tr>\n",
              "      <th>FoodCourt</th>\n",
              "      <td>-0.205682</td>\n",
              "      <td>0.127937</td>\n",
              "      <td>0.126006</td>\n",
              "      <td>-0.015521</td>\n",
              "      <td>1.000000</td>\n",
              "      <td>-0.013934</td>\n",
              "      <td>0.220587</td>\n",
              "      <td>0.224275</td>\n",
              "      <td>0.066816</td>\n",
              "    </tr>\n",
              "    <tr>\n",
              "      <th>ShoppingMall</th>\n",
              "      <td>-0.206366</td>\n",
              "      <td>0.032655</td>\n",
              "      <td>0.018483</td>\n",
              "      <td>0.052962</td>\n",
              "      <td>-0.013934</td>\n",
              "      <td>1.000000</td>\n",
              "      <td>0.013678</td>\n",
              "      <td>-0.007189</td>\n",
              "      <td>-0.028857</td>\n",
              "    </tr>\n",
              "    <tr>\n",
              "      <th>Spa</th>\n",
              "      <td>-0.198392</td>\n",
              "      <td>0.120992</td>\n",
              "      <td>0.060573</td>\n",
              "      <td>0.009925</td>\n",
              "      <td>0.220587</td>\n",
              "      <td>0.013678</td>\n",
              "      <td>1.000000</td>\n",
              "      <td>0.147957</td>\n",
              "      <td>0.043363</td>\n",
              "    </tr>\n",
              "    <tr>\n",
              "      <th>VRDeck</th>\n",
              "      <td>-0.193107</td>\n",
              "      <td>0.099210</td>\n",
              "      <td>0.123092</td>\n",
              "      <td>-0.019207</td>\n",
              "      <td>0.224275</td>\n",
              "      <td>-0.007189</td>\n",
              "      <td>0.147957</td>\n",
              "      <td>1.000000</td>\n",
              "      <td>0.043948</td>\n",
              "    </tr>\n",
              "    <tr>\n",
              "      <th>InGroup</th>\n",
              "      <td>0.091562</td>\n",
              "      <td>-0.133769</td>\n",
              "      <td>0.034027</td>\n",
              "      <td>-0.019909</td>\n",
              "      <td>0.066816</td>\n",
              "      <td>-0.028857</td>\n",
              "      <td>0.043363</td>\n",
              "      <td>0.043948</td>\n",
              "      <td>1.000000</td>\n",
              "    </tr>\n",
              "  </tbody>\n",
              "</table>\n",
              "</div>\n",
              "      <button class=\"colab-df-convert\" onclick=\"convertToInteractive('df-b7e7ba05-aa24-4772-84d8-4763c7362e04')\"\n",
              "              title=\"Convert this dataframe to an interactive table.\"\n",
              "              style=\"display:none;\">\n",
              "        \n",
              "  <svg xmlns=\"http://www.w3.org/2000/svg\" height=\"24px\"viewBox=\"0 0 24 24\"\n",
              "       width=\"24px\">\n",
              "    <path d=\"M0 0h24v24H0V0z\" fill=\"none\"/>\n",
              "    <path d=\"M18.56 5.44l.94 2.06.94-2.06 2.06-.94-2.06-.94-.94-2.06-.94 2.06-2.06.94zm-11 1L8.5 8.5l.94-2.06 2.06-.94-2.06-.94L8.5 2.5l-.94 2.06-2.06.94zm10 10l.94 2.06.94-2.06 2.06-.94-2.06-.94-.94-2.06-.94 2.06-2.06.94z\"/><path d=\"M17.41 7.96l-1.37-1.37c-.4-.4-.92-.59-1.43-.59-.52 0-1.04.2-1.43.59L10.3 9.45l-7.72 7.72c-.78.78-.78 2.05 0 2.83L4 21.41c.39.39.9.59 1.41.59.51 0 1.02-.2 1.41-.59l7.78-7.78 2.81-2.81c.8-.78.8-2.07 0-2.86zM5.41 20L4 18.59l7.72-7.72 1.47 1.35L5.41 20z\"/>\n",
              "  </svg>\n",
              "      </button>\n",
              "      \n",
              "  <style>\n",
              "    .colab-df-container {\n",
              "      display:flex;\n",
              "      flex-wrap:wrap;\n",
              "      gap: 12px;\n",
              "    }\n",
              "\n",
              "    .colab-df-convert {\n",
              "      background-color: #E8F0FE;\n",
              "      border: none;\n",
              "      border-radius: 50%;\n",
              "      cursor: pointer;\n",
              "      display: none;\n",
              "      fill: #1967D2;\n",
              "      height: 32px;\n",
              "      padding: 0 0 0 0;\n",
              "      width: 32px;\n",
              "    }\n",
              "\n",
              "    .colab-df-convert:hover {\n",
              "      background-color: #E2EBFA;\n",
              "      box-shadow: 0px 1px 2px rgba(60, 64, 67, 0.3), 0px 1px 3px 1px rgba(60, 64, 67, 0.15);\n",
              "      fill: #174EA6;\n",
              "    }\n",
              "\n",
              "    [theme=dark] .colab-df-convert {\n",
              "      background-color: #3B4455;\n",
              "      fill: #D2E3FC;\n",
              "    }\n",
              "\n",
              "    [theme=dark] .colab-df-convert:hover {\n",
              "      background-color: #434B5C;\n",
              "      box-shadow: 0px 1px 3px 1px rgba(0, 0, 0, 0.15);\n",
              "      filter: drop-shadow(0px 1px 2px rgba(0, 0, 0, 0.3));\n",
              "      fill: #FFFFFF;\n",
              "    }\n",
              "  </style>\n",
              "\n",
              "      <script>\n",
              "        const buttonEl =\n",
              "          document.querySelector('#df-b7e7ba05-aa24-4772-84d8-4763c7362e04 button.colab-df-convert');\n",
              "        buttonEl.style.display =\n",
              "          google.colab.kernel.accessAllowed ? 'block' : 'none';\n",
              "\n",
              "        async function convertToInteractive(key) {\n",
              "          const element = document.querySelector('#df-b7e7ba05-aa24-4772-84d8-4763c7362e04');\n",
              "          const dataTable =\n",
              "            await google.colab.kernel.invokeFunction('convertToInteractive',\n",
              "                                                     [key], {});\n",
              "          if (!dataTable) return;\n",
              "\n",
              "          const docLinkHtml = 'Like what you see? Visit the ' +\n",
              "            '<a target=\"_blank\" href=https://colab.research.google.com/notebooks/data_table.ipynb>data table notebook</a>'\n",
              "            + ' to learn more about interactive tables.';\n",
              "          element.innerHTML = '';\n",
              "          dataTable['output_type'] = 'display_data';\n",
              "          await google.colab.output.renderOutput(dataTable, element);\n",
              "          const docLink = document.createElement('div');\n",
              "          docLink.innerHTML = docLinkHtml;\n",
              "          element.appendChild(docLink);\n",
              "        }\n",
              "      </script>\n",
              "    </div>\n",
              "  </div>\n",
              "  "
            ]
          },
          "metadata": {},
          "execution_count": 41
        }
      ],
      "source": [
        "data_train.corr()"
      ]
    },
    {
      "cell_type": "code",
      "execution_count": 42,
      "metadata": {
        "colab": {
          "base_uri": "https://localhost:8080/",
          "height": 432
        },
        "id": "CPuLLwKaHUqL",
        "outputId": "f73b917e-5a49-498c-b486-0ed131c279e8"
      },
      "outputs": [
        {
          "output_type": "display_data",
          "data": {
            "text/plain": [
              "<Figure size 1080x504 with 2 Axes>"
            ],
            "image/png": "[encoded data removed]"
          },
          "metadata": {
            "needs_background": "light"
          }
        }
      ],
      "source": [
        "plt.figure(figsize=(15,7))\n",
        "sns.heatmap(data_train.corr(), annot=True)\n",
        "plt.show()"
      ]
    },
    {
      "cell_type": "markdown",
      "metadata": {
        "id": "s1wvgHKVK4Fx"
      },
      "source": [
        "#**6. Data post processing**"
      ]
    },
    {
      "cell_type": "code",
      "execution_count": 43,
      "metadata": {
        "id": "G4nGATiuNnR7"
      },
      "outputs": [],
      "source": [
        "data_train.to_csv('cleaned_train.csv')"
      ]
    },
    {
      "cell_type": "code",
      "execution_count": 44,
      "metadata": {
        "id": "vL9cLhaKOQ6D"
      },
      "outputs": [],
      "source": [
        "data_test.to_csv('cleaned_test.csv')"
      ]
    },
    {
      "cell_type": "markdown",
      "metadata": {
        "id": "MDDvubmsK8fP"
      },
      "source": [
        " **Removing Outliers**"
      ]
    },
    {
      "cell_type": "code",
      "execution_count": 45,
      "metadata": {
        "colab": {
          "base_uri": "https://localhost:8080/",
          "height": 297
        },
        "id": "xR8QGaEfcGeg",
        "outputId": "0b9c22a1-f87e-442d-cf7b-407765ea8d02"
      },
      "outputs": [
        {
          "output_type": "display_data",
          "data": {
            "text/plain": [
              "<Figure size 720x288 with 6 Axes>"
            ],
            "image/png": "[encoded data removed]"
          },
          "metadata": {
            "needs_background": "light"
          }
        }
      ],
      "source": [
        "fig = plt.figure(figsize= (10,4))\n",
        "for i, col in enumerate(train_continuous_column):\n",
        "    \n",
        "    ax=fig.add_subplot( 2, 3, i+1)\n",
        "    \n",
        "    sns.boxplot(x=data_train[col],ax=ax)\n",
        "fig.tight_layout()  \n",
        "plt.show()"
      ]
    },
    {
      "cell_type": "markdown",
      "metadata": {
        "id": "D8YGnfDq4Qdt"
      },
      "source": [
        "For right-skewed data with zero values, neither log nor box-cox transformations can be used. Both of these transformations require that the data be positive and non-zero. In this case, the square root transformation and the Interquartile Range (IQR) method can be considered as alternatives."
      ]
    },
    {
      "cell_type": "markdown",
      "metadata": {
        "id": "5MgHnwW79mCb"
      },
      "source": [
        "**Square root transformation**"
      ]
    },
    {
      "cell_type": "code",
      "execution_count": 46,
      "metadata": {
        "id": "uq_8VGO_yR1c"
      },
      "outputs": [],
      "source": [
        "sqrt_train=data_train.copy()\n",
        "sqrt_train[['Spa','RoomService','VRDeck','FoodCourt','ShoppingMall']] = np.sqrt(sqrt_train[\n",
        "    ['Spa','RoomService','VRDeck','FoodCourt','ShoppingMall']])"
      ]
    },
    {
      "cell_type": "code",
      "execution_count": 47,
      "metadata": {
        "id": "GAkhxDgM-J02"
      },
      "outputs": [],
      "source": [
        "Outliers_sqrt=sqrt_train.skew()\n",
        "Before=data_train.skew()"
      ]
    },
    {
      "cell_type": "code",
      "execution_count": 48,
      "metadata": {
        "id": "VYT3cNM6BNR0"
      },
      "outputs": [],
      "source": [
        "data=data_train.copy()\n",
        "Q1 = data[['Spa','RoomService','VRDeck','FoodCourt','ShoppingMall']].quantile(0.25)\n",
        "Q3 = data[['Spa','RoomService','VRDeck','FoodCourt','ShoppingMall']].quantile(0.75)\n",
        "IQR = Q3 - Q1\n",
        "data[['Spa','RoomService','VRDeck','FoodCourt','ShoppingMall']] = (data[\n",
        "    ['Spa','RoomService','VRDeck','FoodCourt','ShoppingMall']] - Q1) / IQR"
      ]
    },
    {
      "cell_type": "code",
      "execution_count": 49,
      "metadata": {
        "id": "2JFGfO7JB0GY"
      },
      "outputs": [],
      "source": [
        "Outliers_IQR=data.skew()"
      ]
    },
    {
      "cell_type": "code",
      "execution_count": 50,
      "metadata": {
        "colab": {
          "base_uri": "https://localhost:8080/",
          "height": 331
        },
        "id": "OICczh8eCFfk",
        "outputId": "b7b9ba75-94eb-4b84-d115-9283025a1e45"
      },
      "outputs": [
        {
          "output_type": "execute_result",
          "data": {
            "text/plain": [
              "              SquareRoot     before        IQR\n",
              "CryoSleep       0.632024   0.632024   0.632024\n",
              "Age             0.423478   0.423478   0.423478\n",
              "VIP             6.381293   6.381293   6.381293\n",
              "RoomService     2.308276   6.399969   6.399969\n",
              "FoodCourt       2.865913   7.178159   7.178159\n",
              "ShoppingMall    2.659647  12.781346  12.781346\n",
              "Spa             2.981097   7.717657   7.717657\n",
              "VRDeck          3.072468   7.905655   7.905655\n",
              "InGroup         0.212195   0.212195   0.212195"
            ],
            "text/html": [
              "\n",
              "  <div id=\"df-ea549665-c535-4d3d-8473-20219961b6d4\">\n",
              "    <div class=\"colab-df-container\">\n",
              "      <div>\n",
              "<style scoped>\n",
              "    .dataframe tbody tr th:only-of-type {\n",
              "        vertical-align: middle;\n",
              "    }\n",
              "\n",
              "    .dataframe tbody tr th {\n",
              "        vertical-align: top;\n",
              "    }\n",
              "\n",
              "    .dataframe thead th {\n",
              "        text-align: right;\n",
              "    }\n",
              "</style>\n",
              "<table border=\"1\" class=\"dataframe\">\n",
              "  <thead>\n",
              "    <tr style=\"text-align: right;\">\n",
              "      <th></th>\n",
              "      <th>SquareRoot</th>\n",
              "      <th>before</th>\n",
              "      <th>IQR</th>\n",
              "    </tr>\n",
              "  </thead>\n",
              "  <tbody>\n",
              "    <tr>\n",
              "      <th>CryoSleep</th>\n",
              "      <td>0.632024</td>\n",
              "      <td>0.632024</td>\n",
              "      <td>0.632024</td>\n",
              "    </tr>\n",
              "    <tr>\n",
              "      <th>Age</th>\n",
              "      <td>0.423478</td>\n",
              "      <td>0.423478</td>\n",
              "      <td>0.423478</td>\n",
              "    </tr>\n",
              "    <tr>\n",
              "      <th>VIP</th>\n",
              "      <td>6.381293</td>\n",
              "      <td>6.381293</td>\n",
              "      <td>6.381293</td>\n",
              "    </tr>\n",
              "    <tr>\n",
              "      <th>RoomService</th>\n",
              "      <td>2.308276</td>\n",
              "      <td>6.399969</td>\n",
              "      <td>6.399969</td>\n",
              "    </tr>\n",
              "    <tr>\n",
              "      <th>FoodCourt</th>\n",
              "      <td>2.865913</td>\n",
              "      <td>7.178159</td>\n",
              "      <td>7.178159</td>\n",
              "    </tr>\n",
              "    <tr>\n",
              "      <th>ShoppingMall</th>\n",
              "      <td>2.659647</td>\n",
              "      <td>12.781346</td>\n",
              "      <td>12.781346</td>\n",
              "    </tr>\n",
              "    <tr>\n",
              "      <th>Spa</th>\n",
              "      <td>2.981097</td>\n",
              "      <td>7.717657</td>\n",
              "      <td>7.717657</td>\n",
              "    </tr>\n",
              "    <tr>\n",
              "      <th>VRDeck</th>\n",
              "      <td>3.072468</td>\n",
              "      <td>7.905655</td>\n",
              "      <td>7.905655</td>\n",
              "    </tr>\n",
              "    <tr>\n",
              "      <th>InGroup</th>\n",
              "      <td>0.212195</td>\n",
              "      <td>0.212195</td>\n",
              "      <td>0.212195</td>\n",
              "    </tr>\n",
              "  </tbody>\n",
              "</table>\n",
              "</div>\n",
              "      <button class=\"colab-df-convert\" onclick=\"convertToInteractive('df-ea549665-c535-4d3d-8473-20219961b6d4')\"\n",
              "              title=\"Convert this dataframe to an interactive table.\"\n",
              "              style=\"display:none;\">\n",
              "        \n",
              "  <svg xmlns=\"http://www.w3.org/2000/svg\" height=\"24px\"viewBox=\"0 0 24 24\"\n",
              "       width=\"24px\">\n",
              "    <path d=\"M0 0h24v24H0V0z\" fill=\"none\"/>\n",
              "    <path d=\"M18.56 5.44l.94 2.06.94-2.06 2.06-.94-2.06-.94-.94-2.06-.94 2.06-2.06.94zm-11 1L8.5 8.5l.94-2.06 2.06-.94-2.06-.94L8.5 2.5l-.94 2.06-2.06.94zm10 10l.94 2.06.94-2.06 2.06-.94-2.06-.94-.94-2.06-.94 2.06-2.06.94z\"/><path d=\"M17.41 7.96l-1.37-1.37c-.4-.4-.92-.59-1.43-.59-.52 0-1.04.2-1.43.59L10.3 9.45l-7.72 7.72c-.78.78-.78 2.05 0 2.83L4 21.41c.39.39.9.59 1.41.59.51 0 1.02-.2 1.41-.59l7.78-7.78 2.81-2.81c.8-.78.8-2.07 0-2.86zM5.41 20L4 18.59l7.72-7.72 1.47 1.35L5.41 20z\"/>\n",
              "  </svg>\n",
              "      </button>\n",
              "      \n",
              "  <style>\n",
              "    .colab-df-container {\n",
              "      display:flex;\n",
              "      flex-wrap:wrap;\n",
              "      gap: 12px;\n",
              "    }\n",
              "\n",
              "    .colab-df-convert {\n",
              "      background-color: #E8F0FE;\n",
              "      border: none;\n",
              "      border-radius: 50%;\n",
              "      cursor: pointer;\n",
              "      display: none;\n",
              "      fill: #1967D2;\n",
              "      height: 32px;\n",
              "      padding: 0 0 0 0;\n",
              "      width: 32px;\n",
              "    }\n",
              "\n",
              "    .colab-df-convert:hover {\n",
              "      background-color: #E2EBFA;\n",
              "      box-shadow: 0px 1px 2px rgba(60, 64, 67, 0.3), 0px 1px 3px 1px rgba(60, 64, 67, 0.15);\n",
              "      fill: #174EA6;\n",
              "    }\n",
              "\n",
              "    [theme=dark] .colab-df-convert {\n",
              "      background-color: #3B4455;\n",
              "      fill: #D2E3FC;\n",
              "    }\n",
              "\n",
              "    [theme=dark] .colab-df-convert:hover {\n",
              "      background-color: #434B5C;\n",
              "      box-shadow: 0px 1px 3px 1px rgba(0, 0, 0, 0.15);\n",
              "      filter: drop-shadow(0px 1px 2px rgba(0, 0, 0, 0.3));\n",
              "      fill: #FFFFFF;\n",
              "    }\n",
              "  </style>\n",
              "\n",
              "      <script>\n",
              "        const buttonEl =\n",
              "          document.querySelector('#df-ea549665-c535-4d3d-8473-20219961b6d4 button.colab-df-convert');\n",
              "        buttonEl.style.display =\n",
              "          google.colab.kernel.accessAllowed ? 'block' : 'none';\n",
              "\n",
              "        async function convertToInteractive(key) {\n",
              "          const element = document.querySelector('#df-ea549665-c535-4d3d-8473-20219961b6d4');\n",
              "          const dataTable =\n",
              "            await google.colab.kernel.invokeFunction('convertToInteractive',\n",
              "                                                     [key], {});\n",
              "          if (!dataTable) return;\n",
              "\n",
              "          const docLinkHtml = 'Like what you see? Visit the ' +\n",
              "            '<a target=\"_blank\" href=https://colab.research.google.com/notebooks/data_table.ipynb>data table notebook</a>'\n",
              "            + ' to learn more about interactive tables.';\n",
              "          element.innerHTML = '';\n",
              "          dataTable['output_type'] = 'display_data';\n",
              "          await google.colab.output.renderOutput(dataTable, element);\n",
              "          const docLink = document.createElement('div');\n",
              "          docLink.innerHTML = docLinkHtml;\n",
              "          element.appendChild(docLink);\n",
              "        }\n",
              "      </script>\n",
              "    </div>\n",
              "  </div>\n",
              "  "
            ]
          },
          "metadata": {},
          "execution_count": 50
        }
      ],
      "source": [
        "compair2=pd.DataFrame({'SquareRoot':Outliers_sqrt,'before':Before,'IQR':Outliers_IQR})\n",
        "compair2"
      ]
    },
    {
      "cell_type": "markdown",
      "metadata": {
        "id": "j58znqV7EUGe"
      },
      "source": [
        "So here we try to remove outliers with IQR and Squrae root transformation, between the square root and IQR the best is Square root transformation because it helps to make normal distribution better than the IQR."
      ]
    },
    {
      "cell_type": "markdown",
      "metadata": {
        "id": "HTEQ3MvfLAZk"
      },
      "source": [
        "###**6.2 Feature label encoder**"
      ]
    },
    {
      "cell_type": "code",
      "execution_count": 51,
      "metadata": {
        "colab": {
          "base_uri": "https://localhost:8080/",
          "height": 206
        },
        "id": "rhjV1cIeUZjv",
        "outputId": "9857ab9a-38cc-4403-d9da-2bebcff618ae"
      },
      "outputs": [
        {
          "output_type": "execute_result",
          "data": {
            "text/plain": [
              "  HomePlanet  CryoSleep  Destination   Age    VIP  RoomService  FoodCourt  \\\n",
              "0     Europa      False  TRAPPIST-1e  39.0  False          0.0        0.0   \n",
              "1      Earth      False  TRAPPIST-1e  24.0  False        109.0        9.0   \n",
              "2     Europa      False  TRAPPIST-1e  58.0   True         43.0     3576.0   \n",
              "3     Europa      False  TRAPPIST-1e  33.0  False          0.0     1283.0   \n",
              "4      Earth      False  TRAPPIST-1e  16.0  False        303.0       70.0   \n",
              "\n",
              "   ShoppingMall     Spa  VRDeck Transported Deck side  InGroup  \n",
              "0           0.0     0.0     0.0          No    B    P    False  \n",
              "1          25.0   549.0    44.0         Yes    F    S    False  \n",
              "2           0.0  6715.0    49.0          No    A    S     True  \n",
              "3         371.0  3329.0   193.0          No    A    S     True  \n",
              "4         151.0   565.0     2.0         Yes    F    S    False  "
            ],
            "text/html": [
              "\n",
              "  <div id=\"df-dd320c68-05e5-40c3-85c7-c4fb41c85bf3\">\n",
              "    <div class=\"colab-df-container\">\n",
              "      <div>\n",
              "<style scoped>\n",
              "    .dataframe tbody tr th:only-of-type {\n",
              "        vertical-align: middle;\n",
              "    }\n",
              "\n",
              "    .dataframe tbody tr th {\n",
              "        vertical-align: top;\n",
              "    }\n",
              "\n",
              "    .dataframe thead th {\n",
              "        text-align: right;\n",
              "    }\n",
              "</style>\n",
              "<table border=\"1\" class=\"dataframe\">\n",
              "  <thead>\n",
              "    <tr style=\"text-align: right;\">\n",
              "      <th></th>\n",
              "      <th>HomePlanet</th>\n",
              "      <th>CryoSleep</th>\n",
              "      <th>Destination</th>\n",
              "      <th>Age</th>\n",
              "      <th>VIP</th>\n",
              "      <th>RoomService</th>\n",
              "      <th>FoodCourt</th>\n",
              "      <th>ShoppingMall</th>\n",
              "      <th>Spa</th>\n",
              "      <th>VRDeck</th>\n",
              "      <th>Transported</th>\n",
              "      <th>Deck</th>\n",
              "      <th>side</th>\n",
              "      <th>InGroup</th>\n",
              "    </tr>\n",
              "  </thead>\n",
              "  <tbody>\n",
              "    <tr>\n",
              "      <th>0</th>\n",
              "      <td>Europa</td>\n",
              "      <td>False</td>\n",
              "      <td>TRAPPIST-1e</td>\n",
              "      <td>39.0</td>\n",
              "      <td>False</td>\n",
              "      <td>0.0</td>\n",
              "      <td>0.0</td>\n",
              "      <td>0.0</td>\n",
              "      <td>0.0</td>\n",
              "      <td>0.0</td>\n",
              "      <td>No</td>\n",
              "      <td>B</td>\n",
              "      <td>P</td>\n",
              "      <td>False</td>\n",
              "    </tr>\n",
              "    <tr>\n",
              "      <th>1</th>\n",
              "      <td>Earth</td>\n",
              "      <td>False</td>\n",
              "      <td>TRAPPIST-1e</td>\n",
              "      <td>24.0</td>\n",
              "      <td>False</td>\n",
              "      <td>109.0</td>\n",
              "      <td>9.0</td>\n",
              "      <td>25.0</td>\n",
              "      <td>549.0</td>\n",
              "      <td>44.0</td>\n",
              "      <td>Yes</td>\n",
              "      <td>F</td>\n",
              "      <td>S</td>\n",
              "      <td>False</td>\n",
              "    </tr>\n",
              "    <tr>\n",
              "      <th>2</th>\n",
              "      <td>Europa</td>\n",
              "      <td>False</td>\n",
              "      <td>TRAPPIST-1e</td>\n",
              "      <td>58.0</td>\n",
              "      <td>True</td>\n",
              "      <td>43.0</td>\n",
              "      <td>3576.0</td>\n",
              "      <td>0.0</td>\n",
              "      <td>6715.0</td>\n",
              "      <td>49.0</td>\n",
              "      <td>No</td>\n",
              "      <td>A</td>\n",
              "      <td>S</td>\n",
              "      <td>True</td>\n",
              "    </tr>\n",
              "    <tr>\n",
              "      <th>3</th>\n",
              "      <td>Europa</td>\n",
              "      <td>False</td>\n",
              "      <td>TRAPPIST-1e</td>\n",
              "      <td>33.0</td>\n",
              "      <td>False</td>\n",
              "      <td>0.0</td>\n",
              "      <td>1283.0</td>\n",
              "      <td>371.0</td>\n",
              "      <td>3329.0</td>\n",
              "      <td>193.0</td>\n",
              "      <td>No</td>\n",
              "      <td>A</td>\n",
              "      <td>S</td>\n",
              "      <td>True</td>\n",
              "    </tr>\n",
              "    <tr>\n",
              "      <th>4</th>\n",
              "      <td>Earth</td>\n",
              "      <td>False</td>\n",
              "      <td>TRAPPIST-1e</td>\n",
              "      <td>16.0</td>\n",
              "      <td>False</td>\n",
              "      <td>303.0</td>\n",
              "      <td>70.0</td>\n",
              "      <td>151.0</td>\n",
              "      <td>565.0</td>\n",
              "      <td>2.0</td>\n",
              "      <td>Yes</td>\n",
              "      <td>F</td>\n",
              "      <td>S</td>\n",
              "      <td>False</td>\n",
              "    </tr>\n",
              "  </tbody>\n",
              "</table>\n",
              "</div>\n",
              "      <button class=\"colab-df-convert\" onclick=\"convertToInteractive('df-dd320c68-05e5-40c3-85c7-c4fb41c85bf3')\"\n",
              "              title=\"Convert this dataframe to an interactive table.\"\n",
              "              style=\"display:none;\">\n",
              "        \n",
              "  <svg xmlns=\"http://www.w3.org/2000/svg\" height=\"24px\"viewBox=\"0 0 24 24\"\n",
              "       width=\"24px\">\n",
              "    <path d=\"M0 0h24v24H0V0z\" fill=\"none\"/>\n",
              "    <path d=\"M18.56 5.44l.94 2.06.94-2.06 2.06-.94-2.06-.94-.94-2.06-.94 2.06-2.06.94zm-11 1L8.5 8.5l.94-2.06 2.06-.94-2.06-.94L8.5 2.5l-.94 2.06-2.06.94zm10 10l.94 2.06.94-2.06 2.06-.94-2.06-.94-.94-2.06-.94 2.06-2.06.94z\"/><path d=\"M17.41 7.96l-1.37-1.37c-.4-.4-.92-.59-1.43-.59-.52 0-1.04.2-1.43.59L10.3 9.45l-7.72 7.72c-.78.78-.78 2.05 0 2.83L4 21.41c.39.39.9.59 1.41.59.51 0 1.02-.2 1.41-.59l7.78-7.78 2.81-2.81c.8-.78.8-2.07 0-2.86zM5.41 20L4 18.59l7.72-7.72 1.47 1.35L5.41 20z\"/>\n",
              "  </svg>\n",
              "      </button>\n",
              "      \n",
              "  <style>\n",
              "    .colab-df-container {\n",
              "      display:flex;\n",
              "      flex-wrap:wrap;\n",
              "      gap: 12px;\n",
              "    }\n",
              "\n",
              "    .colab-df-convert {\n",
              "      background-color: #E8F0FE;\n",
              "      border: none;\n",
              "      border-radius: 50%;\n",
              "      cursor: pointer;\n",
              "      display: none;\n",
              "      fill: #1967D2;\n",
              "      height: 32px;\n",
              "      padding: 0 0 0 0;\n",
              "      width: 32px;\n",
              "    }\n",
              "\n",
              "    .colab-df-convert:hover {\n",
              "      background-color: #E2EBFA;\n",
              "      box-shadow: 0px 1px 2px rgba(60, 64, 67, 0.3), 0px 1px 3px 1px rgba(60, 64, 67, 0.15);\n",
              "      fill: #174EA6;\n",
              "    }\n",
              "\n",
              "    [theme=dark] .colab-df-convert {\n",
              "      background-color: #3B4455;\n",
              "      fill: #D2E3FC;\n",
              "    }\n",
              "\n",
              "    [theme=dark] .colab-df-convert:hover {\n",
              "      background-color: #434B5C;\n",
              "      box-shadow: 0px 1px 3px 1px rgba(0, 0, 0, 0.15);\n",
              "      filter: drop-shadow(0px 1px 2px rgba(0, 0, 0, 0.3));\n",
              "      fill: #FFFFFF;\n",
              "    }\n",
              "  </style>\n",
              "\n",
              "      <script>\n",
              "        const buttonEl =\n",
              "          document.querySelector('#df-dd320c68-05e5-40c3-85c7-c4fb41c85bf3 button.colab-df-convert');\n",
              "        buttonEl.style.display =\n",
              "          google.colab.kernel.accessAllowed ? 'block' : 'none';\n",
              "\n",
              "        async function convertToInteractive(key) {\n",
              "          const element = document.querySelector('#df-dd320c68-05e5-40c3-85c7-c4fb41c85bf3');\n",
              "          const dataTable =\n",
              "            await google.colab.kernel.invokeFunction('convertToInteractive',\n",
              "                                                     [key], {});\n",
              "          if (!dataTable) return;\n",
              "\n",
              "          const docLinkHtml = 'Like what you see? Visit the ' +\n",
              "            '<a target=\"_blank\" href=https://colab.research.google.com/notebooks/data_table.ipynb>data table notebook</a>'\n",
              "            + ' to learn more about interactive tables.';\n",
              "          element.innerHTML = '';\n",
              "          dataTable['output_type'] = 'display_data';\n",
              "          await google.colab.output.renderOutput(dataTable, element);\n",
              "          const docLink = document.createElement('div');\n",
              "          docLink.innerHTML = docLinkHtml;\n",
              "          element.appendChild(docLink);\n",
              "        }\n",
              "      </script>\n",
              "    </div>\n",
              "  </div>\n",
              "  "
            ]
          },
          "metadata": {},
          "execution_count": 51
        }
      ],
      "source": [
        "data_train.head()"
      ]
    },
    {
      "cell_type": "code",
      "execution_count": 52,
      "metadata": {
        "colab": {
          "base_uri": "https://localhost:8080/",
          "height": 299
        },
        "id": "nZTKnASdCVmo",
        "outputId": "4d27a07a-8c66-4cbd-cf93-8e89eaea328f"
      },
      "outputs": [
        {
          "output_type": "execute_result",
          "data": {
            "text/plain": [
              "    Age  RoomService  FoodCourt  ShoppingMall     Spa  VRDeck Transported  \\\n",
              "0  39.0          0.0        0.0           0.0     0.0     0.0          No   \n",
              "1  24.0        109.0        9.0          25.0   549.0    44.0         Yes   \n",
              "2  58.0         43.0     3576.0           0.0  6715.0    49.0          No   \n",
              "3  33.0          0.0     1283.0         371.0  3329.0   193.0          No   \n",
              "4  16.0        303.0       70.0         151.0   565.0     2.0         Yes   \n",
              "\n",
              "   HomePlanet_Earth  HomePlanet_Europa  HomePlanet_Mars  ...  Deck_C  Deck_D  \\\n",
              "0                 0                  1                0  ...       0       0   \n",
              "1                 1                  0                0  ...       0       0   \n",
              "2                 0                  1                0  ...       0       0   \n",
              "3                 0                  1                0  ...       0       0   \n",
              "4                 1                  0                0  ...       0       0   \n",
              "\n",
              "   Deck_E  Deck_F  Deck_G  Deck_T  side_P  side_S  InGroup_False  InGroup_True  \n",
              "0       0       0       0       0       1       0              1             0  \n",
              "1       0       1       0       0       0       1              1             0  \n",
              "2       0       0       0       0       0       1              0             1  \n",
              "3       0       0       0       0       0       1              0             1  \n",
              "4       0       1       0       0       0       1              1             0  \n",
              "\n",
              "[5 rows x 29 columns]"
            ],
            "text/html": [
              "\n",
              "  <div id=\"df-be9a1071-54f6-428f-839b-906387db022d\">\n",
              "    <div class=\"colab-df-container\">\n",
              "      <div>\n",
              "<style scoped>\n",
              "    .dataframe tbody tr th:only-of-type {\n",
              "        vertical-align: middle;\n",
              "    }\n",
              "\n",
              "    .dataframe tbody tr th {\n",
              "        vertical-align: top;\n",
              "    }\n",
              "\n",
              "    .dataframe thead th {\n",
              "        text-align: right;\n",
              "    }\n",
              "</style>\n",
              "<table border=\"1\" class=\"dataframe\">\n",
              "  <thead>\n",
              "    <tr style=\"text-align: right;\">\n",
              "      <th></th>\n",
              "      <th>Age</th>\n",
              "      <th>RoomService</th>\n",
              "      <th>FoodCourt</th>\n",
              "      <th>ShoppingMall</th>\n",
              "      <th>Spa</th>\n",
              "      <th>VRDeck</th>\n",
              "      <th>Transported</th>\n",
              "      <th>HomePlanet_Earth</th>\n",
              "      <th>HomePlanet_Europa</th>\n",
              "      <th>HomePlanet_Mars</th>\n",
              "      <th>...</th>\n",
              "      <th>Deck_C</th>\n",
              "      <th>Deck_D</th>\n",
              "      <th>Deck_E</th>\n",
              "      <th>Deck_F</th>\n",
              "      <th>Deck_G</th>\n",
              "      <th>Deck_T</th>\n",
              "      <th>side_P</th>\n",
              "      <th>side_S</th>\n",
              "      <th>InGroup_False</th>\n",
              "      <th>InGroup_True</th>\n",
              "    </tr>\n",
              "  </thead>\n",
              "  <tbody>\n",
              "    <tr>\n",
              "      <th>0</th>\n",
              "      <td>39.0</td>\n",
              "      <td>0.0</td>\n",
              "      <td>0.0</td>\n",
              "      <td>0.0</td>\n",
              "      <td>0.0</td>\n",
              "      <td>0.0</td>\n",
              "      <td>No</td>\n",
              "      <td>0</td>\n",
              "      <td>1</td>\n",
              "      <td>0</td>\n",
              "      <td>...</td>\n",
              "      <td>0</td>\n",
              "      <td>0</td>\n",
              "      <td>0</td>\n",
              "      <td>0</td>\n",
              "      <td>0</td>\n",
              "      <td>0</td>\n",
              "      <td>1</td>\n",
              "      <td>0</td>\n",
              "      <td>1</td>\n",
              "      <td>0</td>\n",
              "    </tr>\n",
              "    <tr>\n",
              "      <th>1</th>\n",
              "      <td>24.0</td>\n",
              "      <td>109.0</td>\n",
              "      <td>9.0</td>\n",
              "      <td>25.0</td>\n",
              "      <td>549.0</td>\n",
              "      <td>44.0</td>\n",
              "      <td>Yes</td>\n",
              "      <td>1</td>\n",
              "      <td>0</td>\n",
              "      <td>0</td>\n",
              "      <td>...</td>\n",
              "      <td>0</td>\n",
              "      <td>0</td>\n",
              "      <td>0</td>\n",
              "      <td>1</td>\n",
              "      <td>0</td>\n",
              "      <td>0</td>\n",
              "      <td>0</td>\n",
              "      <td>1</td>\n",
              "      <td>1</td>\n",
              "      <td>0</td>\n",
              "    </tr>\n",
              "    <tr>\n",
              "      <th>2</th>\n",
              "      <td>58.0</td>\n",
              "      <td>43.0</td>\n",
              "      <td>3576.0</td>\n",
              "      <td>0.0</td>\n",
              "      <td>6715.0</td>\n",
              "      <td>49.0</td>\n",
              "      <td>No</td>\n",
              "      <td>0</td>\n",
              "      <td>1</td>\n",
              "      <td>0</td>\n",
              "      <td>...</td>\n",
              "      <td>0</td>\n",
              "      <td>0</td>\n",
              "      <td>0</td>\n",
              "      <td>0</td>\n",
              "      <td>0</td>\n",
              "      <td>0</td>\n",
              "      <td>0</td>\n",
              "      <td>1</td>\n",
              "      <td>0</td>\n",
              "      <td>1</td>\n",
              "    </tr>\n",
              "    <tr>\n",
              "      <th>3</th>\n",
              "      <td>33.0</td>\n",
              "      <td>0.0</td>\n",
              "      <td>1283.0</td>\n",
              "      <td>371.0</td>\n",
              "      <td>3329.0</td>\n",
              "      <td>193.0</td>\n",
              "      <td>No</td>\n",
              "      <td>0</td>\n",
              "      <td>1</td>\n",
              "      <td>0</td>\n",
              "      <td>...</td>\n",
              "      <td>0</td>\n",
              "      <td>0</td>\n",
              "      <td>0</td>\n",
              "      <td>0</td>\n",
              "      <td>0</td>\n",
              "      <td>0</td>\n",
              "      <td>0</td>\n",
              "      <td>1</td>\n",
              "      <td>0</td>\n",
              "      <td>1</td>\n",
              "    </tr>\n",
              "    <tr>\n",
              "      <th>4</th>\n",
              "      <td>16.0</td>\n",
              "      <td>303.0</td>\n",
              "      <td>70.0</td>\n",
              "      <td>151.0</td>\n",
              "      <td>565.0</td>\n",
              "      <td>2.0</td>\n",
              "      <td>Yes</td>\n",
              "      <td>1</td>\n",
              "      <td>0</td>\n",
              "      <td>0</td>\n",
              "      <td>...</td>\n",
              "      <td>0</td>\n",
              "      <td>0</td>\n",
              "      <td>0</td>\n",
              "      <td>1</td>\n",
              "      <td>0</td>\n",
              "      <td>0</td>\n",
              "      <td>0</td>\n",
              "      <td>1</td>\n",
              "      <td>1</td>\n",
              "      <td>0</td>\n",
              "    </tr>\n",
              "  </tbody>\n",
              "</table>\n",
              "<p>5 rows × 29 columns</p>\n",
              "</div>\n",
              "      <button class=\"colab-df-convert\" onclick=\"convertToInteractive('df-be9a1071-54f6-428f-839b-906387db022d')\"\n",
              "              title=\"Convert this dataframe to an interactive table.\"\n",
              "              style=\"display:none;\">\n",
              "        \n",
              "  <svg xmlns=\"http://www.w3.org/2000/svg\" height=\"24px\"viewBox=\"0 0 24 24\"\n",
              "       width=\"24px\">\n",
              "    <path d=\"M0 0h24v24H0V0z\" fill=\"none\"/>\n",
              "    <path d=\"M18.56 5.44l.94 2.06.94-2.06 2.06-.94-2.06-.94-.94-2.06-.94 2.06-2.06.94zm-11 1L8.5 8.5l.94-2.06 2.06-.94-2.06-.94L8.5 2.5l-.94 2.06-2.06.94zm10 10l.94 2.06.94-2.06 2.06-.94-2.06-.94-.94-2.06-.94 2.06-2.06.94z\"/><path d=\"M17.41 7.96l-1.37-1.37c-.4-.4-.92-.59-1.43-.59-.52 0-1.04.2-1.43.59L10.3 9.45l-7.72 7.72c-.78.78-.78 2.05 0 2.83L4 21.41c.39.39.9.59 1.41.59.51 0 1.02-.2 1.41-.59l7.78-7.78 2.81-2.81c.8-.78.8-2.07 0-2.86zM5.41 20L4 18.59l7.72-7.72 1.47 1.35L5.41 20z\"/>\n",
              "  </svg>\n",
              "      </button>\n",
              "      \n",
              "  <style>\n",
              "    .colab-df-container {\n",
              "      display:flex;\n",
              "      flex-wrap:wrap;\n",
              "      gap: 12px;\n",
              "    }\n",
              "\n",
              "    .colab-df-convert {\n",
              "      background-color: #E8F0FE;\n",
              "      border: none;\n",
              "      border-radius: 50%;\n",
              "      cursor: pointer;\n",
              "      display: none;\n",
              "      fill: #1967D2;\n",
              "      height: 32px;\n",
              "      padding: 0 0 0 0;\n",
              "      width: 32px;\n",
              "    }\n",
              "\n",
              "    .colab-df-convert:hover {\n",
              "      background-color: #E2EBFA;\n",
              "      box-shadow: 0px 1px 2px rgba(60, 64, 67, 0.3), 0px 1px 3px 1px rgba(60, 64, 67, 0.15);\n",
              "      fill: #174EA6;\n",
              "    }\n",
              "\n",
              "    [theme=dark] .colab-df-convert {\n",
              "      background-color: #3B4455;\n",
              "      fill: #D2E3FC;\n",
              "    }\n",
              "\n",
              "    [theme=dark] .colab-df-convert:hover {\n",
              "      background-color: #434B5C;\n",
              "      box-shadow: 0px 1px 3px 1px rgba(0, 0, 0, 0.15);\n",
              "      filter: drop-shadow(0px 1px 2px rgba(0, 0, 0, 0.3));\n",
              "      fill: #FFFFFF;\n",
              "    }\n",
              "  </style>\n",
              "\n",
              "      <script>\n",
              "        const buttonEl =\n",
              "          document.querySelector('#df-be9a1071-54f6-428f-839b-906387db022d button.colab-df-convert');\n",
              "        buttonEl.style.display =\n",
              "          google.colab.kernel.accessAllowed ? 'block' : 'none';\n",
              "\n",
              "        async function convertToInteractive(key) {\n",
              "          const element = document.querySelector('#df-be9a1071-54f6-428f-839b-906387db022d');\n",
              "          const dataTable =\n",
              "            await google.colab.kernel.invokeFunction('convertToInteractive',\n",
              "                                                     [key], {});\n",
              "          if (!dataTable) return;\n",
              "\n",
              "          const docLinkHtml = 'Like what you see? Visit the ' +\n",
              "            '<a target=\"_blank\" href=https://colab.research.google.com/notebooks/data_table.ipynb>data table notebook</a>'\n",
              "            + ' to learn more about interactive tables.';\n",
              "          element.innerHTML = '';\n",
              "          dataTable['output_type'] = 'display_data';\n",
              "          await google.colab.output.renderOutput(dataTable, element);\n",
              "          const docLink = document.createElement('div');\n",
              "          docLink.innerHTML = docLinkHtml;\n",
              "          element.appendChild(docLink);\n",
              "        }\n",
              "      </script>\n",
              "    </div>\n",
              "  </div>\n",
              "  "
            ]
          },
          "metadata": {},
          "execution_count": 52
        }
      ],
      "source": [
        "data_train=pd.get_dummies(data_train,columns=['HomePlanet','CryoSleep','Destination','VIP','Deck','side','InGroup'])\n",
        "data_train.head()"
      ]
    },
    {
      "cell_type": "code",
      "execution_count": 53,
      "metadata": {
        "id": "eloOqXoYLSQn"
      },
      "outputs": [],
      "source": [
        "data_test=pd.get_dummies(data_test,columns=['HomePlanet','CryoSleep','Destination','VIP','Deck','side','InGroup'])"
      ]
    },
    {
      "cell_type": "markdown",
      "metadata": {
        "id": "Tb20Qjc5La6k"
      },
      "source": [
        "###**6.3 Feature Extraction**"
      ]
    },
    {
      "cell_type": "code",
      "execution_count": 54,
      "metadata": {
        "id": "qy-8XaHpLX2H"
      },
      "outputs": [],
      "source": [
        "X = data_train.drop(['Transported'], axis=1)\n",
        "y = data_train['Transported']"
      ]
    },
    {
      "cell_type": "code",
      "execution_count": 55,
      "metadata": {
        "id": "YopPESBWLg1e"
      },
      "outputs": [],
      "source": [
        "X_train, X_val, y_train, y_val = train_test_split(\n",
        "...     X, y, test_size=0.30, random_state=42)"
      ]
    },
    {
      "cell_type": "code",
      "execution_count": 56,
      "metadata": {
        "colab": {
          "base_uri": "https://localhost:8080/"
        },
        "id": "3VVJv_7kPIh4",
        "outputId": "a09307b8-8568-4965-8825-521655805405"
      },
      "outputs": [
        {
          "output_type": "stream",
          "name": "stdout",
          "text": [
            "(6085, 28) (6085,)\n",
            "(2608, 28) (2608,)\n"
          ]
        }
      ],
      "source": [
        "print(X_train.shape,y_train.shape)\n",
        "print(X_val.shape,y_val.shape)"
      ]
    },
    {
      "cell_type": "code",
      "execution_count": 57,
      "metadata": {
        "id": "zo1LTOM9Lkf2"
      },
      "outputs": [],
      "source": [
        "y_test = data_test"
      ]
    },
    {
      "cell_type": "markdown",
      "metadata": {
        "id": "6rPPe7HfLw5W"
      },
      "source": [
        "###**6.4 Feature scaling**"
      ]
    },
    {
      "cell_type": "code",
      "execution_count": 58,
      "metadata": {
        "colab": {
          "base_uri": "https://localhost:8080/"
        },
        "id": "CQ-WCr_zLuJV",
        "outputId": "9aa29878-abe4-4387-d4b4-5d00ebdf9e63"
      },
      "outputs": [
        {
          "output_type": "execute_result",
          "data": {
            "text/plain": [
              "array([[-0.12910431, -0.33397003, -0.29390637, ...,  0.97548527,\n",
              "         0.90295854, -0.90295854],\n",
              "       [-0.68647462, -0.33397003, -0.28828623, ...,  0.97548527,\n",
              "         0.90295854, -0.90295854],\n",
              "       [ 0.14958085, -0.33397003, -0.29390637, ...,  0.97548527,\n",
              "         0.90295854, -0.90295854],\n",
              "       ...,\n",
              "       [-0.01357913, -0.33397003, -0.29390637, ..., -1.0251308 ,\n",
              "         0.90295854, -0.90295854],\n",
              "       [-0.01357913, -0.33397003,  1.3796473 , ..., -1.0251308 ,\n",
              "         0.90295854, -0.90295854],\n",
              "       [ 0.98563631, -0.33397003, -0.29390637, ...,  0.97548527,\n",
              "         0.90295854, -0.90295854]])"
            ]
          },
          "metadata": {},
          "execution_count": 58
        }
      ],
      "source": [
        "scaler = StandardScaler()\n",
        "scaler.fit_transform(X_train)\n",
        "scaler.transform(X_val)\n",
        "scaler.transform(y_test)"
      ]
    },
    {
      "cell_type": "markdown",
      "metadata": {
        "id": "8dxvucgoMBfc"
      },
      "source": [
        "###**7 Model building and Analysis**"
      ]
    },
    {
      "cell_type": "code",
      "execution_count": 59,
      "metadata": {
        "id": "JFoY4dxbQYuL"
      },
      "outputs": [],
      "source": [
        "scores = []\n",
        "models = [LogisticRegression(class_weight='balanced', random_state=42), \n",
        "        DecisionTreeClassifier(class_weight='balanced', random_state=42), \n",
        "        RandomForestClassifier(class_weight='balanced', random_state=42), \n",
        "        KNeighborsClassifier(), SVC(random_state=42),\n",
        "        GradientBoostingClassifier(random_state=42),\n",
        "        CatBoostClassifier(random_state=42),\n",
        "        XGBClassifier(class_weight='balanced', random_state=42),\n",
        "        BaggingClassifier(random_state=42)\n",
        "        ]"
      ]
    },
    {
      "cell_type": "code",
      "execution_count": 60,
      "metadata": {
        "colab": {
          "base_uri": "https://localhost:8080/"
        },
        "id": "JKxuvAVVL2zB",
        "outputId": "2f36e820-c1b8-4c6b-8c86-9f4efa88f183"
      },
      "outputs": [
        {
          "output_type": "stream",
          "name": "stdout",
          "text": [
            "Performance Metrics for LogisticRegression :\n",
            "Confusion matrix:\n",
            " [[ 960  329]\n",
            " [ 243 1076]]\n",
            "[Accuracy-Score Train]: 0.7949055053410025\n",
            "[Accuracy-Score Validation]: 0.7806748466257669\n",
            "--------------------\n",
            "\n",
            "Performance Metrics for DecisionTreeClassifier :\n",
            "Confusion matrix:\n",
            " [[951 338]\n",
            " [355 964]]\n",
            "[Accuracy-Score Train]: 0.9607230895645029\n",
            "[Accuracy-Score Validation]: 0.7342791411042945\n",
            "--------------------\n",
            "\n",
            "Performance Metrics for RandomForestClassifier :\n",
            "Confusion matrix:\n",
            " [[1029  260]\n",
            " [ 313 1006]]\n",
            "[Accuracy-Score Train]: 0.9607230895645029\n",
            "[Accuracy-Score Validation]: 0.7802914110429447\n",
            "--------------------\n",
            "\n",
            "Performance Metrics for KNeighborsClassifier :\n",
            "Confusion matrix:\n",
            " [[ 970  319]\n",
            " [ 269 1050]]\n",
            "[Accuracy-Score Train]: 0.8369761709120789\n",
            "[Accuracy-Score Validation]: 0.7745398773006135\n",
            "--------------------\n",
            "\n",
            "Performance Metrics for SVC :\n",
            "Confusion matrix:\n",
            " [[ 862  427]\n",
            " [ 151 1168]]\n",
            "[Accuracy-Score Train]: 0.7912900575184881\n",
            "[Accuracy-Score Validation]: 0.7783742331288344\n",
            "--------------------\n",
            "\n",
            "Performance Metrics for GradientBoostingClassifier :\n",
            "Confusion matrix:\n",
            " [[ 952  337]\n",
            " [ 211 1108]]\n",
            "[Accuracy-Score Train]: 0.8246507806080526\n",
            "[Accuracy-Score Validation]: 0.7898773006134969\n",
            "--------------------\n",
            "\n",
            "Learning rate set to 0.022275\n",
            "0:\tlearn: 0.6809200\ttotal: 62.6ms\tremaining: 1m 2s\n",
            "1:\tlearn: 0.6708310\ttotal: 84.2ms\tremaining: 42s\n",
            "2:\tlearn: 0.6588259\ttotal: 130ms\tremaining: 43.2s\n",
            "3:\tlearn: 0.6489691\ttotal: 143ms\tremaining: 35.5s\n",
            "4:\tlearn: 0.6400481\ttotal: 164ms\tremaining: 32.7s\n",
            "5:\tlearn: 0.6309079\ttotal: 177ms\tremaining: 29.3s\n",
            "6:\tlearn: 0.6223683\ttotal: 190ms\tremaining: 27s\n",
            "7:\tlearn: 0.6163506\ttotal: 203ms\tremaining: 25.2s\n",
            "8:\tlearn: 0.6099047\ttotal: 215ms\tremaining: 23.7s\n",
            "9:\tlearn: 0.6027195\ttotal: 244ms\tremaining: 24.2s\n",
            "10:\tlearn: 0.5967023\ttotal: 266ms\tremaining: 23.9s\n",
            "11:\tlearn: 0.5893180\ttotal: 288ms\tremaining: 23.7s\n",
            "12:\tlearn: 0.5834461\ttotal: 307ms\tremaining: 23.3s\n",
            "13:\tlearn: 0.5779470\ttotal: 325ms\tremaining: 22.9s\n",
            "14:\tlearn: 0.5728959\ttotal: 353ms\tremaining: 23.2s\n",
            "15:\tlearn: 0.5678627\ttotal: 372ms\tremaining: 22.9s\n",
            "16:\tlearn: 0.5611239\ttotal: 394ms\tremaining: 22.8s\n",
            "17:\tlearn: 0.5554879\ttotal: 420ms\tremaining: 22.9s\n",
            "18:\tlearn: 0.5512072\ttotal: 438ms\tremaining: 22.6s\n",
            "19:\tlearn: 0.5462363\ttotal: 452ms\tremaining: 22.2s\n",
            "20:\tlearn: 0.5428887\ttotal: 465ms\tremaining: 21.7s\n",
            "21:\tlearn: 0.5391051\ttotal: 476ms\tremaining: 21.2s\n",
            "22:\tlearn: 0.5354283\ttotal: 488ms\tremaining: 20.7s\n",
            "23:\tlearn: 0.5321906\ttotal: 500ms\tremaining: 20.4s\n",
            "24:\tlearn: 0.5290603\ttotal: 525ms\tremaining: 20.5s\n",
            "25:\tlearn: 0.5253375\ttotal: 538ms\tremaining: 20.2s\n",
            "26:\tlearn: 0.5222823\ttotal: 551ms\tremaining: 19.9s\n",
            "27:\tlearn: 0.5194541\ttotal: 573ms\tremaining: 19.9s\n",
            "28:\tlearn: 0.5158487\ttotal: 599ms\tremaining: 20s\n",
            "29:\tlearn: 0.5129535\ttotal: 619ms\tremaining: 20s\n",
            "30:\tlearn: 0.5107142\ttotal: 642ms\tremaining: 20.1s\n",
            "31:\tlearn: 0.5085844\ttotal: 663ms\tremaining: 20.1s\n",
            "32:\tlearn: 0.5059006\ttotal: 683ms\tremaining: 20s\n",
            "33:\tlearn: 0.5032453\ttotal: 708ms\tremaining: 20.1s\n",
            "34:\tlearn: 0.5007687\ttotal: 736ms\tremaining: 20.3s\n",
            "35:\tlearn: 0.4980204\ttotal: 758ms\tremaining: 20.3s\n",
            "36:\tlearn: 0.4953842\ttotal: 770ms\tremaining: 20s\n",
            "37:\tlearn: 0.4929736\ttotal: 783ms\tremaining: 19.8s\n",
            "38:\tlearn: 0.4907433\ttotal: 796ms\tremaining: 19.6s\n",
            "39:\tlearn: 0.4877737\ttotal: 807ms\tremaining: 19.4s\n",
            "40:\tlearn: 0.4854187\ttotal: 821ms\tremaining: 19.2s\n",
            "41:\tlearn: 0.4824716\ttotal: 833ms\tremaining: 19s\n",
            "42:\tlearn: 0.4805601\ttotal: 845ms\tremaining: 18.8s\n",
            "43:\tlearn: 0.4790099\ttotal: 858ms\tremaining: 18.6s\n",
            "44:\tlearn: 0.4776222\ttotal: 871ms\tremaining: 18.5s\n",
            "45:\tlearn: 0.4763507\ttotal: 883ms\tremaining: 18.3s\n",
            "46:\tlearn: 0.4750888\ttotal: 895ms\tremaining: 18.1s\n",
            "47:\tlearn: 0.4736774\ttotal: 908ms\tremaining: 18s\n",
            "48:\tlearn: 0.4718822\ttotal: 932ms\tremaining: 18.1s\n",
            "49:\tlearn: 0.4701278\ttotal: 944ms\tremaining: 17.9s\n",
            "50:\tlearn: 0.4684108\ttotal: 957ms\tremaining: 17.8s\n",
            "51:\tlearn: 0.4671274\ttotal: 970ms\tremaining: 17.7s\n",
            "52:\tlearn: 0.4658961\ttotal: 982ms\tremaining: 17.6s\n",
            "53:\tlearn: 0.4641869\ttotal: 995ms\tremaining: 17.4s\n",
            "54:\tlearn: 0.4627419\ttotal: 1.01s\tremaining: 17.3s\n",
            "55:\tlearn: 0.4616594\ttotal: 1.02s\tremaining: 17.2s\n",
            "56:\tlearn: 0.4606398\ttotal: 1.03s\tremaining: 17.1s\n",
            "57:\tlearn: 0.4595896\ttotal: 1.04s\tremaining: 17s\n",
            "58:\tlearn: 0.4587909\ttotal: 1.06s\tremaining: 16.9s\n",
            "59:\tlearn: 0.4574102\ttotal: 1.07s\tremaining: 16.8s\n",
            "60:\tlearn: 0.4561028\ttotal: 1.08s\tremaining: 16.6s\n",
            "61:\tlearn: 0.4550867\ttotal: 1.09s\tremaining: 16.6s\n",
            "62:\tlearn: 0.4531776\ttotal: 1.11s\tremaining: 16.5s\n",
            "63:\tlearn: 0.4523378\ttotal: 1.13s\tremaining: 16.6s\n",
            "64:\tlearn: 0.4514259\ttotal: 1.15s\tremaining: 16.5s\n",
            "65:\tlearn: 0.4505258\ttotal: 1.16s\tremaining: 16.4s\n",
            "66:\tlearn: 0.4495233\ttotal: 1.17s\tremaining: 16.3s\n",
            "67:\tlearn: 0.4487577\ttotal: 1.18s\tremaining: 16.2s\n",
            "68:\tlearn: 0.4476655\ttotal: 1.19s\tremaining: 16.1s\n",
            "69:\tlearn: 0.4469139\ttotal: 1.21s\tremaining: 16s\n",
            "70:\tlearn: 0.4458913\ttotal: 1.22s\tremaining: 15.9s\n",
            "71:\tlearn: 0.4453905\ttotal: 1.23s\tremaining: 15.8s\n",
            "72:\tlearn: 0.4445095\ttotal: 1.24s\tremaining: 15.7s\n",
            "73:\tlearn: 0.4437910\ttotal: 1.25s\tremaining: 15.6s\n",
            "74:\tlearn: 0.4431114\ttotal: 1.27s\tremaining: 15.7s\n",
            "75:\tlearn: 0.4422819\ttotal: 1.28s\tremaining: 15.5s\n",
            "76:\tlearn: 0.4412024\ttotal: 1.29s\tremaining: 15.5s\n",
            "77:\tlearn: 0.4404341\ttotal: 1.3s\tremaining: 15.4s\n",
            "78:\tlearn: 0.4395503\ttotal: 1.32s\tremaining: 15.4s\n",
            "79:\tlearn: 0.4384305\ttotal: 1.34s\tremaining: 15.4s\n",
            "80:\tlearn: 0.4375041\ttotal: 1.35s\tremaining: 15.4s\n",
            "81:\tlearn: 0.4365121\ttotal: 1.37s\tremaining: 15.3s\n",
            "82:\tlearn: 0.4358122\ttotal: 1.38s\tremaining: 15.3s\n",
            "83:\tlearn: 0.4352350\ttotal: 1.39s\tremaining: 15.2s\n",
            "84:\tlearn: 0.4341836\ttotal: 1.41s\tremaining: 15.1s\n",
            "85:\tlearn: 0.4335001\ttotal: 1.43s\tremaining: 15.2s\n",
            "86:\tlearn: 0.4328394\ttotal: 1.44s\tremaining: 15.1s\n",
            "87:\tlearn: 0.4325024\ttotal: 1.45s\tremaining: 15.1s\n",
            "88:\tlearn: 0.4320923\ttotal: 1.47s\tremaining: 15s\n",
            "89:\tlearn: 0.4313706\ttotal: 1.48s\tremaining: 14.9s\n",
            "90:\tlearn: 0.4305444\ttotal: 1.49s\tremaining: 14.9s\n",
            "91:\tlearn: 0.4295183\ttotal: 1.5s\tremaining: 14.8s\n",
            "92:\tlearn: 0.4290320\ttotal: 1.51s\tremaining: 14.8s\n",
            "93:\tlearn: 0.4284011\ttotal: 1.52s\tremaining: 14.7s\n",
            "94:\tlearn: 0.4278472\ttotal: 1.55s\tremaining: 14.7s\n",
            "95:\tlearn: 0.4271337\ttotal: 1.56s\tremaining: 14.7s\n",
            "96:\tlearn: 0.4267383\ttotal: 1.58s\tremaining: 14.7s\n",
            "97:\tlearn: 0.4262142\ttotal: 1.58s\tremaining: 14.6s\n",
            "98:\tlearn: 0.4257363\ttotal: 1.59s\tremaining: 14.5s\n",
            "99:\tlearn: 0.4251557\ttotal: 1.59s\tremaining: 14.3s\n",
            "100:\tlearn: 0.4246008\ttotal: 1.6s\tremaining: 14.2s\n",
            "101:\tlearn: 0.4240668\ttotal: 1.6s\tremaining: 14.1s\n",
            "102:\tlearn: 0.4235341\ttotal: 1.61s\tremaining: 14s\n",
            "103:\tlearn: 0.4229100\ttotal: 1.61s\tremaining: 13.9s\n",
            "104:\tlearn: 0.4223610\ttotal: 1.62s\tremaining: 13.8s\n",
            "105:\tlearn: 0.4216916\ttotal: 1.62s\tremaining: 13.7s\n",
            "106:\tlearn: 0.4208937\ttotal: 1.63s\tremaining: 13.6s\n",
            "107:\tlearn: 0.4204266\ttotal: 1.63s\tremaining: 13.5s\n",
            "108:\tlearn: 0.4199714\ttotal: 1.64s\tremaining: 13.4s\n",
            "109:\tlearn: 0.4195014\ttotal: 1.64s\tremaining: 13.3s\n",
            "110:\tlearn: 0.4189558\ttotal: 1.65s\tremaining: 13.2s\n",
            "111:\tlearn: 0.4181706\ttotal: 1.65s\tremaining: 13.1s\n",
            "112:\tlearn: 0.4179141\ttotal: 1.66s\tremaining: 13s\n",
            "113:\tlearn: 0.4175303\ttotal: 1.7s\tremaining: 13.2s\n",
            "114:\tlearn: 0.4170613\ttotal: 1.72s\tremaining: 13.2s\n",
            "115:\tlearn: 0.4162775\ttotal: 1.73s\tremaining: 13.2s\n",
            "116:\tlearn: 0.4160141\ttotal: 1.74s\tremaining: 13.2s\n",
            "117:\tlearn: 0.4154509\ttotal: 1.77s\tremaining: 13.2s\n",
            "118:\tlearn: 0.4151540\ttotal: 1.78s\tremaining: 13.2s\n",
            "119:\tlearn: 0.4148216\ttotal: 1.8s\tremaining: 13.2s\n",
            "120:\tlearn: 0.4144165\ttotal: 1.81s\tremaining: 13.2s\n",
            "121:\tlearn: 0.4141949\ttotal: 1.83s\tremaining: 13.2s\n",
            "122:\tlearn: 0.4137241\ttotal: 1.84s\tremaining: 13.1s\n",
            "123:\tlearn: 0.4130791\ttotal: 1.84s\tremaining: 13s\n",
            "124:\tlearn: 0.4127306\ttotal: 1.85s\tremaining: 12.9s\n",
            "125:\tlearn: 0.4122878\ttotal: 1.85s\tremaining: 12.9s\n",
            "126:\tlearn: 0.4119572\ttotal: 1.86s\tremaining: 12.8s\n",
            "127:\tlearn: 0.4116616\ttotal: 1.87s\tremaining: 12.7s\n",
            "128:\tlearn: 0.4112857\ttotal: 1.87s\tremaining: 12.6s\n",
            "129:\tlearn: 0.4109946\ttotal: 1.88s\tremaining: 12.6s\n",
            "130:\tlearn: 0.4107863\ttotal: 1.89s\tremaining: 12.5s\n",
            "131:\tlearn: 0.4102006\ttotal: 1.89s\tremaining: 12.4s\n",
            "132:\tlearn: 0.4098797\ttotal: 1.91s\tremaining: 12.4s\n",
            "133:\tlearn: 0.4094940\ttotal: 1.91s\tremaining: 12.3s\n",
            "134:\tlearn: 0.4092732\ttotal: 1.92s\tremaining: 12.3s\n",
            "135:\tlearn: 0.4089592\ttotal: 1.92s\tremaining: 12.2s\n",
            "136:\tlearn: 0.4085589\ttotal: 1.92s\tremaining: 12.1s\n",
            "137:\tlearn: 0.4082375\ttotal: 1.93s\tremaining: 12s\n",
            "138:\tlearn: 0.4075538\ttotal: 1.93s\tremaining: 12s\n",
            "139:\tlearn: 0.4073005\ttotal: 1.94s\tremaining: 11.9s\n",
            "140:\tlearn: 0.4069970\ttotal: 1.94s\tremaining: 11.8s\n",
            "141:\tlearn: 0.4065746\ttotal: 1.95s\tremaining: 11.8s\n",
            "142:\tlearn: 0.4062744\ttotal: 1.95s\tremaining: 11.7s\n",
            "143:\tlearn: 0.4060153\ttotal: 1.96s\tremaining: 11.6s\n",
            "144:\tlearn: 0.4057016\ttotal: 1.96s\tremaining: 11.6s\n",
            "145:\tlearn: 0.4055007\ttotal: 1.97s\tremaining: 11.5s\n",
            "146:\tlearn: 0.4054431\ttotal: 1.97s\tremaining: 11.4s\n",
            "147:\tlearn: 0.4051959\ttotal: 1.97s\tremaining: 11.4s\n",
            "148:\tlearn: 0.4046987\ttotal: 1.98s\tremaining: 11.3s\n",
            "149:\tlearn: 0.4045040\ttotal: 1.99s\tremaining: 11.3s\n",
            "150:\tlearn: 0.4042643\ttotal: 2s\tremaining: 11.2s\n",
            "151:\tlearn: 0.4040777\ttotal: 2s\tremaining: 11.2s\n",
            "152:\tlearn: 0.4038253\ttotal: 2s\tremaining: 11.1s\n",
            "153:\tlearn: 0.4035955\ttotal: 2.01s\tremaining: 11s\n",
            "154:\tlearn: 0.4033896\ttotal: 2.01s\tremaining: 11s\n",
            "155:\tlearn: 0.4032468\ttotal: 2.02s\tremaining: 10.9s\n",
            "156:\tlearn: 0.4028550\ttotal: 2.02s\tremaining: 10.9s\n",
            "157:\tlearn: 0.4026732\ttotal: 2.03s\tremaining: 10.8s\n",
            "158:\tlearn: 0.4020648\ttotal: 2.04s\tremaining: 10.8s\n",
            "159:\tlearn: 0.4018021\ttotal: 2.04s\tremaining: 10.7s\n",
            "160:\tlearn: 0.4016359\ttotal: 2.05s\tremaining: 10.7s\n",
            "161:\tlearn: 0.4014305\ttotal: 2.06s\tremaining: 10.6s\n",
            "162:\tlearn: 0.4012286\ttotal: 2.06s\tremaining: 10.6s\n",
            "163:\tlearn: 0.4010240\ttotal: 2.06s\tremaining: 10.5s\n",
            "164:\tlearn: 0.4007542\ttotal: 2.08s\tremaining: 10.5s\n",
            "165:\tlearn: 0.4005443\ttotal: 2.09s\tremaining: 10.5s\n",
            "166:\tlearn: 0.4003085\ttotal: 2.1s\tremaining: 10.5s\n",
            "167:\tlearn: 0.4001127\ttotal: 2.11s\tremaining: 10.4s\n",
            "168:\tlearn: 0.3995498\ttotal: 2.12s\tremaining: 10.4s\n",
            "169:\tlearn: 0.3993271\ttotal: 2.13s\tremaining: 10.4s\n",
            "170:\tlearn: 0.3990966\ttotal: 2.13s\tremaining: 10.3s\n",
            "171:\tlearn: 0.3987586\ttotal: 2.15s\tremaining: 10.3s\n",
            "172:\tlearn: 0.3983901\ttotal: 2.15s\tremaining: 10.3s\n",
            "173:\tlearn: 0.3980719\ttotal: 2.17s\tremaining: 10.3s\n",
            "174:\tlearn: 0.3978320\ttotal: 2.18s\tremaining: 10.3s\n",
            "175:\tlearn: 0.3976648\ttotal: 2.19s\tremaining: 10.3s\n",
            "176:\tlearn: 0.3973871\ttotal: 2.2s\tremaining: 10.2s\n",
            "177:\tlearn: 0.3968436\ttotal: 2.2s\tremaining: 10.2s\n",
            "178:\tlearn: 0.3966672\ttotal: 2.21s\tremaining: 10.1s\n",
            "179:\tlearn: 0.3963736\ttotal: 2.21s\tremaining: 10.1s\n",
            "180:\tlearn: 0.3961157\ttotal: 2.22s\tremaining: 10s\n",
            "181:\tlearn: 0.3958975\ttotal: 2.22s\tremaining: 9.99s\n",
            "182:\tlearn: 0.3955353\ttotal: 2.23s\tremaining: 9.95s\n",
            "183:\tlearn: 0.3951876\ttotal: 2.24s\tremaining: 9.93s\n",
            "184:\tlearn: 0.3949099\ttotal: 2.25s\tremaining: 9.89s\n",
            "185:\tlearn: 0.3946537\ttotal: 2.25s\tremaining: 9.85s\n",
            "186:\tlearn: 0.3943977\ttotal: 2.28s\tremaining: 9.92s\n",
            "187:\tlearn: 0.3940244\ttotal: 2.31s\tremaining: 9.98s\n",
            "188:\tlearn: 0.3938355\ttotal: 2.35s\tremaining: 10.1s\n",
            "189:\tlearn: 0.3937002\ttotal: 2.38s\tremaining: 10.1s\n",
            "190:\tlearn: 0.3935379\ttotal: 2.4s\tremaining: 10.1s\n",
            "191:\tlearn: 0.3932436\ttotal: 2.41s\tremaining: 10.2s\n",
            "192:\tlearn: 0.3930463\ttotal: 2.42s\tremaining: 10.1s\n",
            "193:\tlearn: 0.3928648\ttotal: 2.44s\tremaining: 10.1s\n",
            "194:\tlearn: 0.3926057\ttotal: 2.46s\tremaining: 10.2s\n",
            "195:\tlearn: 0.3924580\ttotal: 2.48s\tremaining: 10.2s\n",
            "196:\tlearn: 0.3921285\ttotal: 2.5s\tremaining: 10.2s\n",
            "197:\tlearn: 0.3919345\ttotal: 2.52s\tremaining: 10.2s\n",
            "198:\tlearn: 0.3917545\ttotal: 2.54s\tremaining: 10.2s\n",
            "199:\tlearn: 0.3915859\ttotal: 2.55s\tremaining: 10.2s\n",
            "200:\tlearn: 0.3913802\ttotal: 2.57s\tremaining: 10.2s\n",
            "201:\tlearn: 0.3912333\ttotal: 2.59s\tremaining: 10.2s\n",
            "202:\tlearn: 0.3910185\ttotal: 2.61s\tremaining: 10.3s\n",
            "203:\tlearn: 0.3907264\ttotal: 2.63s\tremaining: 10.3s\n",
            "204:\tlearn: 0.3905802\ttotal: 2.66s\tremaining: 10.3s\n",
            "205:\tlearn: 0.3902758\ttotal: 2.68s\tremaining: 10.3s\n",
            "206:\tlearn: 0.3901022\ttotal: 2.7s\tremaining: 10.4s\n",
            "207:\tlearn: 0.3897972\ttotal: 2.73s\tremaining: 10.4s\n",
            "208:\tlearn: 0.3896714\ttotal: 2.74s\tremaining: 10.4s\n",
            "209:\tlearn: 0.3895064\ttotal: 2.76s\tremaining: 10.4s\n",
            "210:\tlearn: 0.3893222\ttotal: 2.79s\tremaining: 10.4s\n",
            "211:\tlearn: 0.3890175\ttotal: 2.81s\tremaining: 10.4s\n",
            "212:\tlearn: 0.3889021\ttotal: 2.82s\tremaining: 10.4s\n",
            "213:\tlearn: 0.3886743\ttotal: 2.83s\tremaining: 10.4s\n",
            "214:\tlearn: 0.3884553\ttotal: 2.85s\tremaining: 10.4s\n",
            "215:\tlearn: 0.3882846\ttotal: 2.88s\tremaining: 10.4s\n",
            "216:\tlearn: 0.3881071\ttotal: 2.9s\tremaining: 10.5s\n",
            "217:\tlearn: 0.3880094\ttotal: 2.92s\tremaining: 10.5s\n",
            "218:\tlearn: 0.3878775\ttotal: 2.93s\tremaining: 10.5s\n",
            "219:\tlearn: 0.3877930\ttotal: 2.95s\tremaining: 10.5s\n",
            "220:\tlearn: 0.3875541\ttotal: 2.97s\tremaining: 10.5s\n",
            "221:\tlearn: 0.3871529\ttotal: 2.99s\tremaining: 10.5s\n",
            "222:\tlearn: 0.3868483\ttotal: 3.02s\tremaining: 10.5s\n",
            "223:\tlearn: 0.3866640\ttotal: 3.05s\tremaining: 10.6s\n",
            "224:\tlearn: 0.3865379\ttotal: 3.08s\tremaining: 10.6s\n",
            "225:\tlearn: 0.3864331\ttotal: 3.1s\tremaining: 10.6s\n",
            "226:\tlearn: 0.3862856\ttotal: 3.13s\tremaining: 10.7s\n",
            "227:\tlearn: 0.3860606\ttotal: 3.16s\tremaining: 10.7s\n",
            "228:\tlearn: 0.3858467\ttotal: 3.21s\tremaining: 10.8s\n",
            "229:\tlearn: 0.3856345\ttotal: 3.24s\tremaining: 10.8s\n",
            "230:\tlearn: 0.3853319\ttotal: 3.26s\tremaining: 10.8s\n",
            "231:\tlearn: 0.3851477\ttotal: 3.27s\tremaining: 10.8s\n",
            "232:\tlearn: 0.3850599\ttotal: 3.28s\tremaining: 10.8s\n",
            "233:\tlearn: 0.3849199\ttotal: 3.29s\tremaining: 10.8s\n",
            "234:\tlearn: 0.3847256\ttotal: 3.31s\tremaining: 10.8s\n",
            "235:\tlearn: 0.3844741\ttotal: 3.34s\tremaining: 10.8s\n",
            "236:\tlearn: 0.3842062\ttotal: 3.35s\tremaining: 10.8s\n",
            "237:\tlearn: 0.3841057\ttotal: 3.36s\tremaining: 10.8s\n",
            "238:\tlearn: 0.3840296\ttotal: 3.37s\tremaining: 10.7s\n",
            "239:\tlearn: 0.3838322\ttotal: 3.38s\tremaining: 10.7s\n",
            "240:\tlearn: 0.3837318\ttotal: 3.38s\tremaining: 10.7s\n",
            "241:\tlearn: 0.3837036\ttotal: 3.39s\tremaining: 10.6s\n",
            "242:\tlearn: 0.3835266\ttotal: 3.39s\tremaining: 10.6s\n",
            "243:\tlearn: 0.3833684\ttotal: 3.4s\tremaining: 10.5s\n",
            "244:\tlearn: 0.3831577\ttotal: 3.4s\tremaining: 10.5s\n",
            "245:\tlearn: 0.3830821\ttotal: 3.4s\tremaining: 10.4s\n",
            "246:\tlearn: 0.3829763\ttotal: 3.41s\tremaining: 10.4s\n",
            "247:\tlearn: 0.3828045\ttotal: 3.41s\tremaining: 10.4s\n",
            "248:\tlearn: 0.3826735\ttotal: 3.42s\tremaining: 10.3s\n",
            "249:\tlearn: 0.3825057\ttotal: 3.42s\tremaining: 10.3s\n",
            "250:\tlearn: 0.3822952\ttotal: 3.43s\tremaining: 10.2s\n",
            "251:\tlearn: 0.3819468\ttotal: 3.43s\tremaining: 10.2s\n",
            "252:\tlearn: 0.3818418\ttotal: 3.44s\tremaining: 10.1s\n",
            "253:\tlearn: 0.3815448\ttotal: 3.44s\tremaining: 10.1s\n",
            "254:\tlearn: 0.3813347\ttotal: 3.44s\tremaining: 10.1s\n",
            "255:\tlearn: 0.3812223\ttotal: 3.45s\tremaining: 10s\n",
            "256:\tlearn: 0.3810457\ttotal: 3.45s\tremaining: 9.99s\n",
            "257:\tlearn: 0.3809410\ttotal: 3.46s\tremaining: 9.95s\n",
            "258:\tlearn: 0.3808604\ttotal: 3.46s\tremaining: 9.91s\n",
            "259:\tlearn: 0.3807312\ttotal: 3.47s\tremaining: 9.87s\n",
            "260:\tlearn: 0.3805607\ttotal: 3.47s\tremaining: 9.83s\n",
            "261:\tlearn: 0.3804246\ttotal: 3.48s\tremaining: 9.8s\n",
            "262:\tlearn: 0.3802571\ttotal: 3.48s\tremaining: 9.76s\n",
            "263:\tlearn: 0.3800792\ttotal: 3.49s\tremaining: 9.72s\n",
            "264:\tlearn: 0.3799723\ttotal: 3.49s\tremaining: 9.68s\n",
            "265:\tlearn: 0.3797767\ttotal: 3.49s\tremaining: 9.64s\n",
            "266:\tlearn: 0.3796089\ttotal: 3.5s\tremaining: 9.61s\n",
            "267:\tlearn: 0.3795267\ttotal: 3.5s\tremaining: 9.57s\n",
            "268:\tlearn: 0.3793995\ttotal: 3.51s\tremaining: 9.54s\n",
            "269:\tlearn: 0.3791950\ttotal: 3.51s\tremaining: 9.5s\n",
            "270:\tlearn: 0.3789679\ttotal: 3.52s\tremaining: 9.47s\n",
            "271:\tlearn: 0.3788159\ttotal: 3.52s\tremaining: 9.43s\n",
            "272:\tlearn: 0.3786765\ttotal: 3.53s\tremaining: 9.4s\n",
            "273:\tlearn: 0.3785605\ttotal: 3.53s\tremaining: 9.36s\n",
            "274:\tlearn: 0.3784346\ttotal: 3.54s\tremaining: 9.33s\n",
            "275:\tlearn: 0.3782795\ttotal: 3.54s\tremaining: 9.3s\n",
            "276:\tlearn: 0.3781457\ttotal: 3.55s\tremaining: 9.27s\n",
            "277:\tlearn: 0.3780406\ttotal: 3.56s\tremaining: 9.26s\n",
            "278:\tlearn: 0.3778734\ttotal: 3.57s\tremaining: 9.22s\n",
            "279:\tlearn: 0.3777210\ttotal: 3.57s\tremaining: 9.19s\n",
            "280:\tlearn: 0.3776522\ttotal: 3.58s\tremaining: 9.16s\n",
            "281:\tlearn: 0.3775486\ttotal: 3.59s\tremaining: 9.13s\n",
            "282:\tlearn: 0.3774521\ttotal: 3.6s\tremaining: 9.13s\n",
            "283:\tlearn: 0.3773356\ttotal: 3.63s\tremaining: 9.16s\n",
            "284:\tlearn: 0.3772473\ttotal: 3.66s\tremaining: 9.18s\n",
            "285:\tlearn: 0.3770879\ttotal: 3.67s\tremaining: 9.16s\n",
            "286:\tlearn: 0.3769469\ttotal: 3.68s\tremaining: 9.13s\n",
            "287:\tlearn: 0.3768100\ttotal: 3.68s\tremaining: 9.1s\n",
            "288:\tlearn: 0.3767319\ttotal: 3.69s\tremaining: 9.07s\n",
            "289:\tlearn: 0.3766109\ttotal: 3.69s\tremaining: 9.04s\n",
            "290:\tlearn: 0.3764762\ttotal: 3.7s\tremaining: 9.02s\n",
            "291:\tlearn: 0.3763168\ttotal: 3.71s\tremaining: 9.01s\n",
            "292:\tlearn: 0.3761375\ttotal: 3.72s\tremaining: 8.98s\n",
            "293:\tlearn: 0.3760353\ttotal: 3.73s\tremaining: 8.96s\n",
            "294:\tlearn: 0.3759297\ttotal: 3.75s\tremaining: 8.96s\n",
            "295:\tlearn: 0.3758269\ttotal: 3.75s\tremaining: 8.93s\n",
            "296:\tlearn: 0.3756990\ttotal: 3.77s\tremaining: 8.92s\n",
            "297:\tlearn: 0.3755990\ttotal: 3.78s\tremaining: 8.9s\n",
            "298:\tlearn: 0.3755211\ttotal: 3.79s\tremaining: 8.88s\n",
            "299:\tlearn: 0.3754199\ttotal: 3.8s\tremaining: 8.86s\n",
            "300:\tlearn: 0.3751422\ttotal: 3.81s\tremaining: 8.84s\n",
            "301:\tlearn: 0.3750305\ttotal: 3.82s\tremaining: 8.82s\n",
            "302:\tlearn: 0.3749404\ttotal: 3.83s\tremaining: 8.82s\n",
            "303:\tlearn: 0.3747952\ttotal: 3.84s\tremaining: 8.79s\n",
            "304:\tlearn: 0.3745416\ttotal: 3.85s\tremaining: 8.76s\n",
            "305:\tlearn: 0.3744547\ttotal: 3.85s\tremaining: 8.73s\n",
            "306:\tlearn: 0.3743748\ttotal: 3.85s\tremaining: 8.7s\n",
            "307:\tlearn: 0.3742684\ttotal: 3.86s\tremaining: 8.67s\n",
            "308:\tlearn: 0.3738964\ttotal: 3.86s\tremaining: 8.64s\n",
            "309:\tlearn: 0.3737130\ttotal: 3.87s\tremaining: 8.61s\n",
            "310:\tlearn: 0.3736335\ttotal: 3.87s\tremaining: 8.58s\n",
            "311:\tlearn: 0.3734946\ttotal: 3.88s\tremaining: 8.55s\n",
            "312:\tlearn: 0.3734010\ttotal: 3.88s\tremaining: 8.53s\n",
            "313:\tlearn: 0.3732897\ttotal: 3.91s\tremaining: 8.54s\n",
            "314:\tlearn: 0.3731435\ttotal: 3.95s\tremaining: 8.59s\n",
            "315:\tlearn: 0.3728778\ttotal: 3.97s\tremaining: 8.59s\n",
            "316:\tlearn: 0.3727471\ttotal: 3.98s\tremaining: 8.56s\n",
            "317:\tlearn: 0.3725652\ttotal: 3.99s\tremaining: 8.55s\n",
            "318:\tlearn: 0.3724446\ttotal: 3.99s\tremaining: 8.52s\n",
            "319:\tlearn: 0.3723445\ttotal: 4.01s\tremaining: 8.52s\n",
            "320:\tlearn: 0.3722212\ttotal: 4.01s\tremaining: 8.49s\n",
            "321:\tlearn: 0.3721192\ttotal: 4.02s\tremaining: 8.47s\n",
            "322:\tlearn: 0.3719719\ttotal: 4.03s\tremaining: 8.45s\n",
            "323:\tlearn: 0.3718570\ttotal: 4.04s\tremaining: 8.43s\n",
            "324:\tlearn: 0.3716074\ttotal: 4.06s\tremaining: 8.43s\n",
            "325:\tlearn: 0.3714543\ttotal: 4.06s\tremaining: 8.4s\n",
            "326:\tlearn: 0.3713655\ttotal: 4.07s\tremaining: 8.37s\n",
            "327:\tlearn: 0.3712924\ttotal: 4.07s\tremaining: 8.34s\n",
            "328:\tlearn: 0.3711513\ttotal: 4.08s\tremaining: 8.31s\n",
            "329:\tlearn: 0.3709352\ttotal: 4.09s\tremaining: 8.3s\n",
            "330:\tlearn: 0.3708444\ttotal: 4.1s\tremaining: 8.29s\n",
            "331:\tlearn: 0.3707519\ttotal: 4.1s\tremaining: 8.26s\n",
            "332:\tlearn: 0.3705867\ttotal: 4.12s\tremaining: 8.24s\n",
            "333:\tlearn: 0.3705138\ttotal: 4.13s\tremaining: 8.23s\n",
            "334:\tlearn: 0.3704067\ttotal: 4.15s\tremaining: 8.24s\n",
            "335:\tlearn: 0.3703011\ttotal: 4.16s\tremaining: 8.22s\n",
            "336:\tlearn: 0.3701640\ttotal: 4.17s\tremaining: 8.21s\n",
            "337:\tlearn: 0.3700329\ttotal: 4.18s\tremaining: 8.2s\n",
            "338:\tlearn: 0.3697702\ttotal: 4.2s\tremaining: 8.18s\n",
            "339:\tlearn: 0.3696430\ttotal: 4.21s\tremaining: 8.17s\n",
            "340:\tlearn: 0.3694785\ttotal: 4.22s\tremaining: 8.15s\n",
            "341:\tlearn: 0.3693239\ttotal: 4.24s\tremaining: 8.16s\n",
            "342:\tlearn: 0.3692101\ttotal: 4.25s\tremaining: 8.14s\n",
            "343:\tlearn: 0.3690750\ttotal: 4.26s\tremaining: 8.13s\n",
            "344:\tlearn: 0.3689209\ttotal: 4.28s\tremaining: 8.12s\n",
            "345:\tlearn: 0.3687894\ttotal: 4.29s\tremaining: 8.11s\n",
            "346:\tlearn: 0.3687081\ttotal: 4.3s\tremaining: 8.1s\n",
            "347:\tlearn: 0.3685986\ttotal: 4.31s\tremaining: 8.08s\n",
            "348:\tlearn: 0.3685134\ttotal: 4.32s\tremaining: 8.07s\n",
            "349:\tlearn: 0.3683853\ttotal: 4.34s\tremaining: 8.07s\n",
            "350:\tlearn: 0.3682539\ttotal: 4.36s\tremaining: 8.05s\n",
            "351:\tlearn: 0.3681622\ttotal: 4.37s\tremaining: 8.04s\n",
            "352:\tlearn: 0.3679812\ttotal: 4.39s\tremaining: 8.04s\n",
            "353:\tlearn: 0.3678975\ttotal: 4.39s\tremaining: 8.02s\n",
            "354:\tlearn: 0.3677878\ttotal: 4.4s\tremaining: 8s\n",
            "355:\tlearn: 0.3676836\ttotal: 4.42s\tremaining: 7.99s\n",
            "356:\tlearn: 0.3676041\ttotal: 4.43s\tremaining: 7.97s\n",
            "357:\tlearn: 0.3674657\ttotal: 4.43s\tremaining: 7.95s\n",
            "358:\tlearn: 0.3673065\ttotal: 4.44s\tremaining: 7.93s\n",
            "359:\tlearn: 0.3672178\ttotal: 4.45s\tremaining: 7.92s\n",
            "360:\tlearn: 0.3671634\ttotal: 4.46s\tremaining: 7.89s\n",
            "361:\tlearn: 0.3670715\ttotal: 4.46s\tremaining: 7.87s\n",
            "362:\tlearn: 0.3669787\ttotal: 4.47s\tremaining: 7.85s\n",
            "363:\tlearn: 0.3668349\ttotal: 4.48s\tremaining: 7.83s\n",
            "364:\tlearn: 0.3666093\ttotal: 4.49s\tremaining: 7.81s\n",
            "365:\tlearn: 0.3663951\ttotal: 4.5s\tremaining: 7.8s\n",
            "366:\tlearn: 0.3662824\ttotal: 4.51s\tremaining: 7.78s\n",
            "367:\tlearn: 0.3660705\ttotal: 4.53s\tremaining: 7.78s\n",
            "368:\tlearn: 0.3659720\ttotal: 4.54s\tremaining: 7.76s\n",
            "369:\tlearn: 0.3659002\ttotal: 4.55s\tremaining: 7.74s\n",
            "370:\tlearn: 0.3658031\ttotal: 4.56s\tremaining: 7.72s\n",
            "371:\tlearn: 0.3656575\ttotal: 4.58s\tremaining: 7.73s\n",
            "372:\tlearn: 0.3655443\ttotal: 4.59s\tremaining: 7.71s\n",
            "373:\tlearn: 0.3653399\ttotal: 4.59s\tremaining: 7.69s\n",
            "374:\tlearn: 0.3652667\ttotal: 4.6s\tremaining: 7.66s\n",
            "375:\tlearn: 0.3651706\ttotal: 4.6s\tremaining: 7.64s\n",
            "376:\tlearn: 0.3649537\ttotal: 4.62s\tremaining: 7.64s\n",
            "377:\tlearn: 0.3648655\ttotal: 4.63s\tremaining: 7.61s\n",
            "378:\tlearn: 0.3647177\ttotal: 4.63s\tremaining: 7.59s\n",
            "379:\tlearn: 0.3644671\ttotal: 4.64s\tremaining: 7.57s\n",
            "380:\tlearn: 0.3643487\ttotal: 4.64s\tremaining: 7.54s\n",
            "381:\tlearn: 0.3642605\ttotal: 4.65s\tremaining: 7.52s\n",
            "382:\tlearn: 0.3641576\ttotal: 4.65s\tremaining: 7.49s\n",
            "383:\tlearn: 0.3640608\ttotal: 4.66s\tremaining: 7.47s\n",
            "384:\tlearn: 0.3639954\ttotal: 4.66s\tremaining: 7.44s\n",
            "385:\tlearn: 0.3639180\ttotal: 4.67s\tremaining: 7.42s\n",
            "386:\tlearn: 0.3638511\ttotal: 4.67s\tremaining: 7.4s\n",
            "387:\tlearn: 0.3637054\ttotal: 4.67s\tremaining: 7.37s\n",
            "388:\tlearn: 0.3635856\ttotal: 4.68s\tremaining: 7.35s\n",
            "389:\tlearn: 0.3634247\ttotal: 4.69s\tremaining: 7.33s\n",
            "390:\tlearn: 0.3633086\ttotal: 4.7s\tremaining: 7.32s\n",
            "391:\tlearn: 0.3631111\ttotal: 4.7s\tremaining: 7.29s\n",
            "392:\tlearn: 0.3629855\ttotal: 4.71s\tremaining: 7.28s\n",
            "393:\tlearn: 0.3628651\ttotal: 4.72s\tremaining: 7.25s\n",
            "394:\tlearn: 0.3627931\ttotal: 4.72s\tremaining: 7.23s\n",
            "395:\tlearn: 0.3626701\ttotal: 4.73s\tremaining: 7.21s\n",
            "396:\tlearn: 0.3626127\ttotal: 4.73s\tremaining: 7.19s\n",
            "397:\tlearn: 0.3625396\ttotal: 4.74s\tremaining: 7.16s\n",
            "398:\tlearn: 0.3624040\ttotal: 4.74s\tremaining: 7.14s\n",
            "399:\tlearn: 0.3622679\ttotal: 4.75s\tremaining: 7.12s\n",
            "400:\tlearn: 0.3621282\ttotal: 4.75s\tremaining: 7.09s\n",
            "401:\tlearn: 0.3620667\ttotal: 4.75s\tremaining: 7.07s\n",
            "402:\tlearn: 0.3619444\ttotal: 4.76s\tremaining: 7.05s\n",
            "403:\tlearn: 0.3618220\ttotal: 4.76s\tremaining: 7.03s\n",
            "404:\tlearn: 0.3617639\ttotal: 4.77s\tremaining: 7s\n",
            "405:\tlearn: 0.3616609\ttotal: 4.77s\tremaining: 6.98s\n",
            "406:\tlearn: 0.3615676\ttotal: 4.78s\tremaining: 6.96s\n",
            "407:\tlearn: 0.3615080\ttotal: 4.78s\tremaining: 6.93s\n",
            "408:\tlearn: 0.3612865\ttotal: 4.78s\tremaining: 6.91s\n",
            "409:\tlearn: 0.3611616\ttotal: 4.8s\tremaining: 6.9s\n",
            "410:\tlearn: 0.3610825\ttotal: 4.8s\tremaining: 6.88s\n",
            "411:\tlearn: 0.3609898\ttotal: 4.81s\tremaining: 6.86s\n",
            "412:\tlearn: 0.3609117\ttotal: 4.81s\tremaining: 6.84s\n",
            "413:\tlearn: 0.3608050\ttotal: 4.82s\tremaining: 6.82s\n",
            "414:\tlearn: 0.3606939\ttotal: 4.82s\tremaining: 6.79s\n",
            "415:\tlearn: 0.3606165\ttotal: 4.82s\tremaining: 6.77s\n",
            "416:\tlearn: 0.3605461\ttotal: 4.83s\tremaining: 6.75s\n",
            "417:\tlearn: 0.3603691\ttotal: 4.83s\tremaining: 6.73s\n",
            "418:\tlearn: 0.3602564\ttotal: 4.86s\tremaining: 6.74s\n",
            "419:\tlearn: 0.3601610\ttotal: 4.86s\tremaining: 6.71s\n",
            "420:\tlearn: 0.3600881\ttotal: 4.87s\tremaining: 6.69s\n",
            "421:\tlearn: 0.3599909\ttotal: 4.89s\tremaining: 6.69s\n",
            "422:\tlearn: 0.3598426\ttotal: 4.89s\tremaining: 6.67s\n",
            "423:\tlearn: 0.3597563\ttotal: 4.9s\tremaining: 6.65s\n",
            "424:\tlearn: 0.3596474\ttotal: 4.9s\tremaining: 6.63s\n",
            "425:\tlearn: 0.3595949\ttotal: 4.92s\tremaining: 6.64s\n",
            "426:\tlearn: 0.3594633\ttotal: 4.93s\tremaining: 6.62s\n",
            "427:\tlearn: 0.3593846\ttotal: 4.94s\tremaining: 6.61s\n",
            "428:\tlearn: 0.3593080\ttotal: 4.96s\tremaining: 6.6s\n",
            "429:\tlearn: 0.3592174\ttotal: 4.98s\tremaining: 6.6s\n",
            "430:\tlearn: 0.3590891\ttotal: 4.99s\tremaining: 6.59s\n",
            "431:\tlearn: 0.3590019\ttotal: 5s\tremaining: 6.58s\n",
            "432:\tlearn: 0.3589230\ttotal: 5s\tremaining: 6.55s\n",
            "433:\tlearn: 0.3587416\ttotal: 5.01s\tremaining: 6.53s\n",
            "434:\tlearn: 0.3586617\ttotal: 5.01s\tremaining: 6.51s\n",
            "435:\tlearn: 0.3585818\ttotal: 5.02s\tremaining: 6.49s\n",
            "436:\tlearn: 0.3584729\ttotal: 5.02s\tremaining: 6.47s\n",
            "437:\tlearn: 0.3583941\ttotal: 5.03s\tremaining: 6.45s\n",
            "438:\tlearn: 0.3582885\ttotal: 5.03s\tremaining: 6.43s\n",
            "439:\tlearn: 0.3582352\ttotal: 5.04s\tremaining: 6.41s\n",
            "440:\tlearn: 0.3581137\ttotal: 5.04s\tremaining: 6.39s\n",
            "441:\tlearn: 0.3580768\ttotal: 5.04s\tremaining: 6.37s\n",
            "442:\tlearn: 0.3580103\ttotal: 5.05s\tremaining: 6.35s\n",
            "443:\tlearn: 0.3578831\ttotal: 5.05s\tremaining: 6.33s\n",
            "444:\tlearn: 0.3577546\ttotal: 5.06s\tremaining: 6.31s\n",
            "445:\tlearn: 0.3576390\ttotal: 5.07s\tremaining: 6.29s\n",
            "446:\tlearn: 0.3575635\ttotal: 5.08s\tremaining: 6.28s\n",
            "447:\tlearn: 0.3573988\ttotal: 5.08s\tremaining: 6.26s\n",
            "448:\tlearn: 0.3573272\ttotal: 5.08s\tremaining: 6.24s\n",
            "449:\tlearn: 0.3572081\ttotal: 5.09s\tremaining: 6.22s\n",
            "450:\tlearn: 0.3571495\ttotal: 5.09s\tremaining: 6.2s\n",
            "451:\tlearn: 0.3570448\ttotal: 5.1s\tremaining: 6.18s\n",
            "452:\tlearn: 0.3569111\ttotal: 5.1s\tremaining: 6.16s\n",
            "453:\tlearn: 0.3567640\ttotal: 5.11s\tremaining: 6.14s\n",
            "454:\tlearn: 0.3565784\ttotal: 5.11s\tremaining: 6.13s\n",
            "455:\tlearn: 0.3564137\ttotal: 5.12s\tremaining: 6.11s\n",
            "456:\tlearn: 0.3563186\ttotal: 5.12s\tremaining: 6.09s\n",
            "457:\tlearn: 0.3562214\ttotal: 5.13s\tremaining: 6.08s\n",
            "458:\tlearn: 0.3561296\ttotal: 5.14s\tremaining: 6.06s\n",
            "459:\tlearn: 0.3559965\ttotal: 5.15s\tremaining: 6.04s\n",
            "460:\tlearn: 0.3558938\ttotal: 5.16s\tremaining: 6.03s\n",
            "461:\tlearn: 0.3557574\ttotal: 5.16s\tremaining: 6.01s\n",
            "462:\tlearn: 0.3556913\ttotal: 5.17s\tremaining: 5.99s\n",
            "463:\tlearn: 0.3555888\ttotal: 5.2s\tremaining: 6.01s\n",
            "464:\tlearn: 0.3554693\ttotal: 5.24s\tremaining: 6.03s\n",
            "465:\tlearn: 0.3553803\ttotal: 5.26s\tremaining: 6.03s\n",
            "466:\tlearn: 0.3552856\ttotal: 5.28s\tremaining: 6.02s\n",
            "467:\tlearn: 0.3551724\ttotal: 5.29s\tremaining: 6.02s\n",
            "468:\tlearn: 0.3550380\ttotal: 5.32s\tremaining: 6.02s\n",
            "469:\tlearn: 0.3548503\ttotal: 5.33s\tremaining: 6.01s\n",
            "470:\tlearn: 0.3547725\ttotal: 5.34s\tremaining: 6s\n",
            "471:\tlearn: 0.3547014\ttotal: 5.37s\tremaining: 6.01s\n",
            "472:\tlearn: 0.3545035\ttotal: 5.39s\tremaining: 6s\n",
            "473:\tlearn: 0.3544403\ttotal: 5.39s\tremaining: 5.98s\n",
            "474:\tlearn: 0.3543109\ttotal: 5.42s\tremaining: 5.99s\n",
            "475:\tlearn: 0.3541266\ttotal: 5.43s\tremaining: 5.98s\n",
            "476:\tlearn: 0.3540288\ttotal: 5.46s\tremaining: 5.99s\n",
            "477:\tlearn: 0.3539263\ttotal: 5.48s\tremaining: 5.99s\n",
            "478:\tlearn: 0.3538005\ttotal: 5.49s\tremaining: 5.97s\n",
            "479:\tlearn: 0.3537214\ttotal: 5.52s\tremaining: 5.98s\n",
            "480:\tlearn: 0.3536379\ttotal: 5.53s\tremaining: 5.96s\n",
            "481:\tlearn: 0.3535447\ttotal: 5.54s\tremaining: 5.95s\n",
            "482:\tlearn: 0.3534467\ttotal: 5.55s\tremaining: 5.94s\n",
            "483:\tlearn: 0.3533571\ttotal: 5.55s\tremaining: 5.92s\n",
            "484:\tlearn: 0.3532505\ttotal: 5.56s\tremaining: 5.91s\n",
            "485:\tlearn: 0.3531716\ttotal: 5.57s\tremaining: 5.89s\n",
            "486:\tlearn: 0.3530702\ttotal: 5.6s\tremaining: 5.9s\n",
            "487:\tlearn: 0.3529481\ttotal: 5.65s\tremaining: 5.92s\n",
            "488:\tlearn: 0.3528518\ttotal: 5.67s\tremaining: 5.93s\n",
            "489:\tlearn: 0.3527814\ttotal: 5.7s\tremaining: 5.93s\n",
            "490:\tlearn: 0.3526768\ttotal: 5.73s\tremaining: 5.94s\n",
            "491:\tlearn: 0.3525949\ttotal: 5.75s\tremaining: 5.93s\n",
            "492:\tlearn: 0.3524906\ttotal: 5.77s\tremaining: 5.93s\n",
            "493:\tlearn: 0.3524181\ttotal: 5.78s\tremaining: 5.92s\n",
            "494:\tlearn: 0.3523493\ttotal: 5.78s\tremaining: 5.9s\n",
            "495:\tlearn: 0.3522096\ttotal: 5.79s\tremaining: 5.88s\n",
            "496:\tlearn: 0.3521204\ttotal: 5.79s\tremaining: 5.86s\n",
            "497:\tlearn: 0.3520124\ttotal: 5.79s\tremaining: 5.84s\n",
            "498:\tlearn: 0.3519091\ttotal: 5.8s\tremaining: 5.82s\n",
            "499:\tlearn: 0.3517813\ttotal: 5.8s\tremaining: 5.8s\n",
            "500:\tlearn: 0.3516949\ttotal: 5.82s\tremaining: 5.79s\n",
            "501:\tlearn: 0.3516241\ttotal: 5.82s\tremaining: 5.78s\n",
            "502:\tlearn: 0.3514776\ttotal: 5.84s\tremaining: 5.77s\n",
            "503:\tlearn: 0.3513340\ttotal: 5.87s\tremaining: 5.78s\n",
            "504:\tlearn: 0.3512221\ttotal: 5.87s\tremaining: 5.76s\n",
            "505:\tlearn: 0.3510987\ttotal: 5.88s\tremaining: 5.74s\n",
            "506:\tlearn: 0.3510209\ttotal: 5.88s\tremaining: 5.72s\n",
            "507:\tlearn: 0.3509476\ttotal: 5.89s\tremaining: 5.71s\n",
            "508:\tlearn: 0.3508386\ttotal: 5.91s\tremaining: 5.7s\n",
            "509:\tlearn: 0.3506842\ttotal: 5.92s\tremaining: 5.68s\n",
            "510:\tlearn: 0.3504924\ttotal: 5.92s\tremaining: 5.67s\n",
            "511:\tlearn: 0.3503763\ttotal: 5.93s\tremaining: 5.65s\n",
            "512:\tlearn: 0.3503133\ttotal: 5.93s\tremaining: 5.63s\n",
            "513:\tlearn: 0.3502427\ttotal: 5.93s\tremaining: 5.61s\n",
            "514:\tlearn: 0.3501436\ttotal: 5.94s\tremaining: 5.59s\n",
            "515:\tlearn: 0.3498984\ttotal: 5.95s\tremaining: 5.58s\n",
            "516:\tlearn: 0.3498227\ttotal: 5.95s\tremaining: 5.56s\n",
            "517:\tlearn: 0.3495807\ttotal: 5.95s\tremaining: 5.54s\n",
            "518:\tlearn: 0.3494853\ttotal: 5.96s\tremaining: 5.52s\n",
            "519:\tlearn: 0.3493952\ttotal: 5.96s\tremaining: 5.5s\n",
            "520:\tlearn: 0.3492811\ttotal: 5.97s\tremaining: 5.49s\n",
            "521:\tlearn: 0.3491992\ttotal: 5.97s\tremaining: 5.47s\n",
            "522:\tlearn: 0.3490980\ttotal: 5.98s\tremaining: 5.45s\n",
            "523:\tlearn: 0.3489707\ttotal: 5.99s\tremaining: 5.44s\n",
            "524:\tlearn: 0.3488665\ttotal: 6s\tremaining: 5.43s\n",
            "525:\tlearn: 0.3487899\ttotal: 6.01s\tremaining: 5.41s\n",
            "526:\tlearn: 0.3486994\ttotal: 6.01s\tremaining: 5.39s\n",
            "527:\tlearn: 0.3486126\ttotal: 6.02s\tremaining: 5.38s\n",
            "528:\tlearn: 0.3484906\ttotal: 6.02s\tremaining: 5.36s\n",
            "529:\tlearn: 0.3483047\ttotal: 6.03s\tremaining: 5.34s\n",
            "530:\tlearn: 0.3481579\ttotal: 6.03s\tremaining: 5.33s\n",
            "531:\tlearn: 0.3479702\ttotal: 6.03s\tremaining: 5.31s\n",
            "532:\tlearn: 0.3478680\ttotal: 6.04s\tremaining: 5.29s\n",
            "533:\tlearn: 0.3477773\ttotal: 6.04s\tremaining: 5.27s\n",
            "534:\tlearn: 0.3477057\ttotal: 6.05s\tremaining: 5.25s\n",
            "535:\tlearn: 0.3476254\ttotal: 6.05s\tremaining: 5.24s\n",
            "536:\tlearn: 0.3475289\ttotal: 6.06s\tremaining: 5.22s\n",
            "537:\tlearn: 0.3474684\ttotal: 6.06s\tremaining: 5.21s\n",
            "538:\tlearn: 0.3473909\ttotal: 6.07s\tremaining: 5.19s\n",
            "539:\tlearn: 0.3472796\ttotal: 6.07s\tremaining: 5.17s\n",
            "540:\tlearn: 0.3471981\ttotal: 6.07s\tremaining: 5.15s\n",
            "541:\tlearn: 0.3471250\ttotal: 6.08s\tremaining: 5.14s\n",
            "542:\tlearn: 0.3469247\ttotal: 6.08s\tremaining: 5.12s\n",
            "543:\tlearn: 0.3468009\ttotal: 6.09s\tremaining: 5.1s\n",
            "544:\tlearn: 0.3467181\ttotal: 6.09s\tremaining: 5.09s\n",
            "545:\tlearn: 0.3466082\ttotal: 6.1s\tremaining: 5.07s\n",
            "546:\tlearn: 0.3464577\ttotal: 6.12s\tremaining: 5.06s\n",
            "547:\tlearn: 0.3462416\ttotal: 6.12s\tremaining: 5.05s\n",
            "548:\tlearn: 0.3461214\ttotal: 6.13s\tremaining: 5.03s\n",
            "549:\tlearn: 0.3459065\ttotal: 6.13s\tremaining: 5.01s\n",
            "550:\tlearn: 0.3458088\ttotal: 6.13s\tremaining: 5s\n",
            "551:\tlearn: 0.3457321\ttotal: 6.14s\tremaining: 4.98s\n",
            "552:\tlearn: 0.3456526\ttotal: 6.14s\tremaining: 4.96s\n",
            "553:\tlearn: 0.3455453\ttotal: 6.15s\tremaining: 4.95s\n",
            "554:\tlearn: 0.3454667\ttotal: 6.15s\tremaining: 4.93s\n",
            "555:\tlearn: 0.3454028\ttotal: 6.16s\tremaining: 4.92s\n",
            "556:\tlearn: 0.3452129\ttotal: 6.16s\tremaining: 4.9s\n",
            "557:\tlearn: 0.3451077\ttotal: 6.17s\tremaining: 4.88s\n",
            "558:\tlearn: 0.3450073\ttotal: 6.17s\tremaining: 4.87s\n",
            "559:\tlearn: 0.3449261\ttotal: 6.17s\tremaining: 4.85s\n",
            "560:\tlearn: 0.3448058\ttotal: 6.18s\tremaining: 4.84s\n",
            "561:\tlearn: 0.3447494\ttotal: 6.18s\tremaining: 4.82s\n",
            "562:\tlearn: 0.3445998\ttotal: 6.2s\tremaining: 4.81s\n",
            "563:\tlearn: 0.3444623\ttotal: 6.2s\tremaining: 4.8s\n",
            "564:\tlearn: 0.3443498\ttotal: 6.22s\tremaining: 4.79s\n",
            "565:\tlearn: 0.3442682\ttotal: 6.23s\tremaining: 4.77s\n",
            "566:\tlearn: 0.3440829\ttotal: 6.24s\tremaining: 4.76s\n",
            "567:\tlearn: 0.3439575\ttotal: 6.24s\tremaining: 4.75s\n",
            "568:\tlearn: 0.3439059\ttotal: 6.25s\tremaining: 4.74s\n",
            "569:\tlearn: 0.3438070\ttotal: 6.26s\tremaining: 4.72s\n",
            "570:\tlearn: 0.3437217\ttotal: 6.28s\tremaining: 4.72s\n",
            "571:\tlearn: 0.3436305\ttotal: 6.31s\tremaining: 4.72s\n",
            "572:\tlearn: 0.3434545\ttotal: 6.32s\tremaining: 4.71s\n",
            "573:\tlearn: 0.3433740\ttotal: 6.33s\tremaining: 4.7s\n",
            "574:\tlearn: 0.3432971\ttotal: 6.35s\tremaining: 4.69s\n",
            "575:\tlearn: 0.3432086\ttotal: 6.36s\tremaining: 4.68s\n",
            "576:\tlearn: 0.3430672\ttotal: 6.39s\tremaining: 4.68s\n",
            "577:\tlearn: 0.3429531\ttotal: 6.4s\tremaining: 4.67s\n",
            "578:\tlearn: 0.3428469\ttotal: 6.41s\tremaining: 4.66s\n",
            "579:\tlearn: 0.3427504\ttotal: 6.42s\tremaining: 4.65s\n",
            "580:\tlearn: 0.3425670\ttotal: 6.43s\tremaining: 4.63s\n",
            "581:\tlearn: 0.3424776\ttotal: 6.44s\tremaining: 4.62s\n",
            "582:\tlearn: 0.3423985\ttotal: 6.45s\tremaining: 4.61s\n",
            "583:\tlearn: 0.3423136\ttotal: 6.45s\tremaining: 4.6s\n",
            "584:\tlearn: 0.3421720\ttotal: 6.46s\tremaining: 4.58s\n",
            "585:\tlearn: 0.3420714\ttotal: 6.47s\tremaining: 4.57s\n",
            "586:\tlearn: 0.3418767\ttotal: 6.47s\tremaining: 4.55s\n",
            "587:\tlearn: 0.3417899\ttotal: 6.49s\tremaining: 4.54s\n",
            "588:\tlearn: 0.3416801\ttotal: 6.49s\tremaining: 4.53s\n",
            "589:\tlearn: 0.3415696\ttotal: 6.49s\tremaining: 4.51s\n",
            "590:\tlearn: 0.3414770\ttotal: 6.5s\tremaining: 4.5s\n",
            "591:\tlearn: 0.3413571\ttotal: 6.5s\tremaining: 4.48s\n",
            "592:\tlearn: 0.3411471\ttotal: 6.51s\tremaining: 4.47s\n",
            "593:\tlearn: 0.3409866\ttotal: 6.51s\tremaining: 4.45s\n",
            "594:\tlearn: 0.3409054\ttotal: 6.52s\tremaining: 4.44s\n",
            "595:\tlearn: 0.3408364\ttotal: 6.52s\tremaining: 4.42s\n",
            "596:\tlearn: 0.3407335\ttotal: 6.53s\tremaining: 4.41s\n",
            "597:\tlearn: 0.3406444\ttotal: 6.53s\tremaining: 4.39s\n",
            "598:\tlearn: 0.3405212\ttotal: 6.54s\tremaining: 4.38s\n",
            "599:\tlearn: 0.3403693\ttotal: 6.54s\tremaining: 4.36s\n",
            "600:\tlearn: 0.3403131\ttotal: 6.55s\tremaining: 4.35s\n",
            "601:\tlearn: 0.3402448\ttotal: 6.55s\tremaining: 4.33s\n",
            "602:\tlearn: 0.3401196\ttotal: 6.56s\tremaining: 4.32s\n",
            "603:\tlearn: 0.3400027\ttotal: 6.56s\tremaining: 4.3s\n",
            "604:\tlearn: 0.3398922\ttotal: 6.58s\tremaining: 4.29s\n",
            "605:\tlearn: 0.3397635\ttotal: 6.58s\tremaining: 4.28s\n",
            "606:\tlearn: 0.3396856\ttotal: 6.58s\tremaining: 4.26s\n",
            "607:\tlearn: 0.3396147\ttotal: 6.59s\tremaining: 4.25s\n",
            "608:\tlearn: 0.3395674\ttotal: 6.59s\tremaining: 4.23s\n",
            "609:\tlearn: 0.3394702\ttotal: 6.61s\tremaining: 4.22s\n",
            "610:\tlearn: 0.3393836\ttotal: 6.61s\tremaining: 4.21s\n",
            "611:\tlearn: 0.3393216\ttotal: 6.62s\tremaining: 4.2s\n",
            "612:\tlearn: 0.3392466\ttotal: 6.67s\tremaining: 4.21s\n",
            "613:\tlearn: 0.3391747\ttotal: 6.7s\tremaining: 4.21s\n",
            "614:\tlearn: 0.3390035\ttotal: 6.71s\tremaining: 4.2s\n",
            "615:\tlearn: 0.3389402\ttotal: 6.72s\tremaining: 4.19s\n",
            "616:\tlearn: 0.3388964\ttotal: 6.73s\tremaining: 4.18s\n",
            "617:\tlearn: 0.3387263\ttotal: 6.73s\tremaining: 4.16s\n",
            "618:\tlearn: 0.3385770\ttotal: 6.74s\tremaining: 4.15s\n",
            "619:\tlearn: 0.3384976\ttotal: 6.74s\tremaining: 4.13s\n",
            "620:\tlearn: 0.3383827\ttotal: 6.75s\tremaining: 4.12s\n",
            "621:\tlearn: 0.3382984\ttotal: 6.76s\tremaining: 4.11s\n",
            "622:\tlearn: 0.3382017\ttotal: 6.77s\tremaining: 4.09s\n",
            "623:\tlearn: 0.3381472\ttotal: 6.78s\tremaining: 4.08s\n",
            "624:\tlearn: 0.3380373\ttotal: 6.78s\tremaining: 4.07s\n",
            "625:\tlearn: 0.3378810\ttotal: 6.79s\tremaining: 4.06s\n",
            "626:\tlearn: 0.3377290\ttotal: 6.79s\tremaining: 4.04s\n",
            "627:\tlearn: 0.3375972\ttotal: 6.8s\tremaining: 4.03s\n",
            "628:\tlearn: 0.3375004\ttotal: 6.8s\tremaining: 4.01s\n",
            "629:\tlearn: 0.3373945\ttotal: 6.81s\tremaining: 4s\n",
            "630:\tlearn: 0.3373333\ttotal: 6.81s\tremaining: 3.98s\n",
            "631:\tlearn: 0.3372495\ttotal: 6.82s\tremaining: 3.97s\n",
            "632:\tlearn: 0.3371154\ttotal: 6.82s\tremaining: 3.96s\n",
            "633:\tlearn: 0.3370255\ttotal: 6.83s\tremaining: 3.94s\n",
            "634:\tlearn: 0.3369639\ttotal: 6.83s\tremaining: 3.93s\n",
            "635:\tlearn: 0.3368583\ttotal: 6.83s\tremaining: 3.91s\n",
            "636:\tlearn: 0.3367107\ttotal: 6.84s\tremaining: 3.9s\n",
            "637:\tlearn: 0.3365804\ttotal: 6.84s\tremaining: 3.88s\n",
            "638:\tlearn: 0.3364866\ttotal: 6.85s\tremaining: 3.87s\n",
            "639:\tlearn: 0.3364001\ttotal: 6.85s\tremaining: 3.85s\n",
            "640:\tlearn: 0.3363246\ttotal: 6.86s\tremaining: 3.84s\n",
            "641:\tlearn: 0.3362570\ttotal: 6.86s\tremaining: 3.83s\n",
            "642:\tlearn: 0.3361951\ttotal: 6.87s\tremaining: 3.81s\n",
            "643:\tlearn: 0.3360852\ttotal: 6.87s\tremaining: 3.8s\n",
            "644:\tlearn: 0.3359113\ttotal: 6.88s\tremaining: 3.78s\n",
            "645:\tlearn: 0.3358367\ttotal: 6.88s\tremaining: 3.77s\n",
            "646:\tlearn: 0.3357701\ttotal: 6.9s\tremaining: 3.76s\n",
            "647:\tlearn: 0.3356963\ttotal: 6.9s\tremaining: 3.75s\n",
            "648:\tlearn: 0.3355598\ttotal: 6.91s\tremaining: 3.73s\n",
            "649:\tlearn: 0.3354824\ttotal: 6.91s\tremaining: 3.72s\n",
            "650:\tlearn: 0.3353872\ttotal: 6.92s\tremaining: 3.71s\n",
            "651:\tlearn: 0.3352704\ttotal: 6.93s\tremaining: 3.7s\n",
            "652:\tlearn: 0.3351062\ttotal: 6.94s\tremaining: 3.69s\n",
            "653:\tlearn: 0.3348992\ttotal: 6.94s\tremaining: 3.67s\n",
            "654:\tlearn: 0.3347683\ttotal: 6.95s\tremaining: 3.66s\n",
            "655:\tlearn: 0.3346195\ttotal: 6.95s\tremaining: 3.65s\n",
            "656:\tlearn: 0.3345640\ttotal: 6.96s\tremaining: 3.63s\n",
            "657:\tlearn: 0.3345033\ttotal: 6.96s\tremaining: 3.62s\n",
            "658:\tlearn: 0.3344026\ttotal: 6.96s\tremaining: 3.6s\n",
            "659:\tlearn: 0.3343029\ttotal: 6.98s\tremaining: 3.59s\n",
            "660:\tlearn: 0.3341040\ttotal: 7.01s\tremaining: 3.59s\n",
            "661:\tlearn: 0.3340174\ttotal: 7.02s\tremaining: 3.58s\n",
            "662:\tlearn: 0.3339166\ttotal: 7.03s\tremaining: 3.57s\n",
            "663:\tlearn: 0.3337839\ttotal: 7.04s\tremaining: 3.56s\n",
            "664:\tlearn: 0.3335848\ttotal: 7.06s\tremaining: 3.56s\n",
            "665:\tlearn: 0.3335658\ttotal: 7.07s\tremaining: 3.55s\n",
            "666:\tlearn: 0.3335045\ttotal: 7.09s\tremaining: 3.54s\n",
            "667:\tlearn: 0.3333947\ttotal: 7.11s\tremaining: 3.53s\n",
            "668:\tlearn: 0.3332356\ttotal: 7.12s\tremaining: 3.52s\n",
            "669:\tlearn: 0.3331226\ttotal: 7.13s\tremaining: 3.51s\n",
            "670:\tlearn: 0.3330020\ttotal: 7.14s\tremaining: 3.5s\n",
            "671:\tlearn: 0.3329356\ttotal: 7.14s\tremaining: 3.49s\n",
            "672:\tlearn: 0.3327995\ttotal: 7.16s\tremaining: 3.48s\n",
            "673:\tlearn: 0.3326599\ttotal: 7.17s\tremaining: 3.47s\n",
            "674:\tlearn: 0.3325775\ttotal: 7.18s\tremaining: 3.46s\n",
            "675:\tlearn: 0.3324944\ttotal: 7.19s\tremaining: 3.45s\n",
            "676:\tlearn: 0.3324134\ttotal: 7.2s\tremaining: 3.44s\n",
            "677:\tlearn: 0.3322726\ttotal: 7.21s\tremaining: 3.43s\n",
            "678:\tlearn: 0.3322023\ttotal: 7.23s\tremaining: 3.42s\n",
            "679:\tlearn: 0.3320960\ttotal: 7.24s\tremaining: 3.41s\n",
            "680:\tlearn: 0.3319349\ttotal: 7.26s\tremaining: 3.4s\n",
            "681:\tlearn: 0.3319030\ttotal: 7.29s\tremaining: 3.4s\n",
            "682:\tlearn: 0.3318082\ttotal: 7.3s\tremaining: 3.39s\n",
            "683:\tlearn: 0.3316820\ttotal: 7.31s\tremaining: 3.38s\n",
            "684:\tlearn: 0.3316204\ttotal: 7.34s\tremaining: 3.38s\n",
            "685:\tlearn: 0.3315456\ttotal: 7.36s\tremaining: 3.37s\n",
            "686:\tlearn: 0.3313542\ttotal: 7.38s\tremaining: 3.36s\n",
            "687:\tlearn: 0.3312944\ttotal: 7.4s\tremaining: 3.35s\n",
            "688:\tlearn: 0.3311833\ttotal: 7.42s\tremaining: 3.35s\n",
            "689:\tlearn: 0.3310538\ttotal: 7.42s\tremaining: 3.33s\n",
            "690:\tlearn: 0.3309502\ttotal: 7.43s\tremaining: 3.32s\n",
            "691:\tlearn: 0.3308582\ttotal: 7.43s\tremaining: 3.31s\n",
            "692:\tlearn: 0.3307677\ttotal: 7.44s\tremaining: 3.3s\n",
            "693:\tlearn: 0.3307016\ttotal: 7.44s\tremaining: 3.28s\n",
            "694:\tlearn: 0.3305809\ttotal: 7.46s\tremaining: 3.28s\n",
            "695:\tlearn: 0.3304924\ttotal: 7.47s\tremaining: 3.27s\n",
            "696:\tlearn: 0.3304022\ttotal: 7.5s\tremaining: 3.26s\n",
            "697:\tlearn: 0.3302539\ttotal: 7.51s\tremaining: 3.25s\n",
            "698:\tlearn: 0.3301375\ttotal: 7.53s\tremaining: 3.24s\n",
            "699:\tlearn: 0.3300225\ttotal: 7.54s\tremaining: 3.23s\n",
            "700:\tlearn: 0.3299316\ttotal: 7.55s\tremaining: 3.22s\n",
            "701:\tlearn: 0.3298342\ttotal: 7.56s\tremaining: 3.21s\n",
            "702:\tlearn: 0.3297107\ttotal: 7.57s\tremaining: 3.2s\n",
            "703:\tlearn: 0.3296453\ttotal: 7.59s\tremaining: 3.19s\n",
            "704:\tlearn: 0.3295821\ttotal: 7.6s\tremaining: 3.18s\n",
            "705:\tlearn: 0.3294637\ttotal: 7.61s\tremaining: 3.17s\n",
            "706:\tlearn: 0.3294082\ttotal: 7.63s\tremaining: 3.16s\n",
            "707:\tlearn: 0.3293140\ttotal: 7.64s\tremaining: 3.15s\n",
            "708:\tlearn: 0.3292365\ttotal: 7.64s\tremaining: 3.14s\n",
            "709:\tlearn: 0.3291649\ttotal: 7.65s\tremaining: 3.12s\n",
            "710:\tlearn: 0.3290180\ttotal: 7.65s\tremaining: 3.11s\n",
            "711:\tlearn: 0.3289510\ttotal: 7.66s\tremaining: 3.1s\n",
            "712:\tlearn: 0.3288021\ttotal: 7.66s\tremaining: 3.08s\n",
            "713:\tlearn: 0.3287056\ttotal: 7.67s\tremaining: 3.07s\n",
            "714:\tlearn: 0.3286489\ttotal: 7.67s\tremaining: 3.06s\n",
            "715:\tlearn: 0.3285955\ttotal: 7.67s\tremaining: 3.04s\n",
            "716:\tlearn: 0.3284939\ttotal: 7.68s\tremaining: 3.03s\n",
            "717:\tlearn: 0.3284519\ttotal: 7.68s\tremaining: 3.02s\n",
            "718:\tlearn: 0.3283870\ttotal: 7.7s\tremaining: 3.01s\n",
            "719:\tlearn: 0.3282018\ttotal: 7.7s\tremaining: 3s\n",
            "720:\tlearn: 0.3280139\ttotal: 7.71s\tremaining: 2.98s\n",
            "721:\tlearn: 0.3279449\ttotal: 7.72s\tremaining: 2.97s\n",
            "722:\tlearn: 0.3278945\ttotal: 7.72s\tremaining: 2.96s\n",
            "723:\tlearn: 0.3277961\ttotal: 7.72s\tremaining: 2.94s\n",
            "724:\tlearn: 0.3277000\ttotal: 7.73s\tremaining: 2.93s\n",
            "725:\tlearn: 0.3276328\ttotal: 7.74s\tremaining: 2.92s\n",
            "726:\tlearn: 0.3275101\ttotal: 7.75s\tremaining: 2.91s\n",
            "727:\tlearn: 0.3274043\ttotal: 7.75s\tremaining: 2.9s\n",
            "728:\tlearn: 0.3273491\ttotal: 7.75s\tremaining: 2.88s\n",
            "729:\tlearn: 0.3272650\ttotal: 7.76s\tremaining: 2.87s\n",
            "730:\tlearn: 0.3271994\ttotal: 7.76s\tremaining: 2.86s\n",
            "731:\tlearn: 0.3271169\ttotal: 7.77s\tremaining: 2.84s\n",
            "732:\tlearn: 0.3270545\ttotal: 7.77s\tremaining: 2.83s\n",
            "733:\tlearn: 0.3269740\ttotal: 7.78s\tremaining: 2.82s\n",
            "734:\tlearn: 0.3269243\ttotal: 7.78s\tremaining: 2.81s\n",
            "735:\tlearn: 0.3268396\ttotal: 7.79s\tremaining: 2.79s\n",
            "736:\tlearn: 0.3267527\ttotal: 7.79s\tremaining: 2.78s\n",
            "737:\tlearn: 0.3266560\ttotal: 7.79s\tremaining: 2.77s\n",
            "738:\tlearn: 0.3264871\ttotal: 7.8s\tremaining: 2.75s\n",
            "739:\tlearn: 0.3263926\ttotal: 7.8s\tremaining: 2.74s\n",
            "740:\tlearn: 0.3263071\ttotal: 7.81s\tremaining: 2.73s\n",
            "741:\tlearn: 0.3262553\ttotal: 7.81s\tremaining: 2.72s\n",
            "742:\tlearn: 0.3262379\ttotal: 7.82s\tremaining: 2.7s\n",
            "743:\tlearn: 0.3261970\ttotal: 7.82s\tremaining: 2.69s\n",
            "744:\tlearn: 0.3261049\ttotal: 7.83s\tremaining: 2.68s\n",
            "745:\tlearn: 0.3260192\ttotal: 7.83s\tremaining: 2.67s\n",
            "746:\tlearn: 0.3259681\ttotal: 7.83s\tremaining: 2.65s\n",
            "747:\tlearn: 0.3259170\ttotal: 7.84s\tremaining: 2.64s\n",
            "748:\tlearn: 0.3258351\ttotal: 7.84s\tremaining: 2.63s\n",
            "749:\tlearn: 0.3257566\ttotal: 7.85s\tremaining: 2.62s\n",
            "750:\tlearn: 0.3256913\ttotal: 7.85s\tremaining: 2.6s\n",
            "751:\tlearn: 0.3256284\ttotal: 7.86s\tremaining: 2.59s\n",
            "752:\tlearn: 0.3254659\ttotal: 7.87s\tremaining: 2.58s\n",
            "753:\tlearn: 0.3254105\ttotal: 7.88s\tremaining: 2.57s\n",
            "754:\tlearn: 0.3253396\ttotal: 7.88s\tremaining: 2.56s\n",
            "755:\tlearn: 0.3252479\ttotal: 7.89s\tremaining: 2.55s\n",
            "756:\tlearn: 0.3251699\ttotal: 7.89s\tremaining: 2.53s\n",
            "757:\tlearn: 0.3251069\ttotal: 7.91s\tremaining: 2.52s\n",
            "758:\tlearn: 0.3250214\ttotal: 7.93s\tremaining: 2.52s\n",
            "759:\tlearn: 0.3249419\ttotal: 7.95s\tremaining: 2.51s\n",
            "760:\tlearn: 0.3248419\ttotal: 7.97s\tremaining: 2.5s\n",
            "761:\tlearn: 0.3247570\ttotal: 7.99s\tremaining: 2.5s\n",
            "762:\tlearn: 0.3246958\ttotal: 8s\tremaining: 2.48s\n",
            "763:\tlearn: 0.3245647\ttotal: 8s\tremaining: 2.47s\n",
            "764:\tlearn: 0.3245149\ttotal: 8.01s\tremaining: 2.46s\n",
            "765:\tlearn: 0.3243623\ttotal: 8.01s\tremaining: 2.45s\n",
            "766:\tlearn: 0.3243023\ttotal: 8.02s\tremaining: 2.43s\n",
            "767:\tlearn: 0.3242254\ttotal: 8.02s\tremaining: 2.42s\n",
            "768:\tlearn: 0.3241384\ttotal: 8.02s\tremaining: 2.41s\n",
            "769:\tlearn: 0.3240619\ttotal: 8.03s\tremaining: 2.4s\n",
            "770:\tlearn: 0.3239126\ttotal: 8.03s\tremaining: 2.39s\n",
            "771:\tlearn: 0.3238397\ttotal: 8.04s\tremaining: 2.37s\n",
            "772:\tlearn: 0.3237793\ttotal: 8.04s\tremaining: 2.36s\n",
            "773:\tlearn: 0.3236480\ttotal: 8.04s\tremaining: 2.35s\n",
            "774:\tlearn: 0.3235391\ttotal: 8.06s\tremaining: 2.34s\n",
            "775:\tlearn: 0.3234265\ttotal: 8.06s\tremaining: 2.33s\n",
            "776:\tlearn: 0.3233468\ttotal: 8.07s\tremaining: 2.31s\n",
            "777:\tlearn: 0.3232777\ttotal: 8.07s\tremaining: 2.3s\n",
            "778:\tlearn: 0.3231892\ttotal: 8.09s\tremaining: 2.29s\n",
            "779:\tlearn: 0.3230595\ttotal: 8.1s\tremaining: 2.28s\n",
            "780:\tlearn: 0.3229804\ttotal: 8.11s\tremaining: 2.27s\n",
            "781:\tlearn: 0.3228727\ttotal: 8.12s\tremaining: 2.26s\n",
            "782:\tlearn: 0.3228209\ttotal: 8.14s\tremaining: 2.25s\n",
            "783:\tlearn: 0.3227277\ttotal: 8.15s\tremaining: 2.25s\n",
            "784:\tlearn: 0.3225851\ttotal: 8.17s\tremaining: 2.24s\n",
            "785:\tlearn: 0.3225226\ttotal: 8.18s\tremaining: 2.23s\n",
            "786:\tlearn: 0.3224266\ttotal: 8.19s\tremaining: 2.21s\n",
            "787:\tlearn: 0.3223643\ttotal: 8.2s\tremaining: 2.21s\n",
            "788:\tlearn: 0.3222912\ttotal: 8.2s\tremaining: 2.19s\n",
            "789:\tlearn: 0.3222844\ttotal: 8.21s\tremaining: 2.18s\n",
            "790:\tlearn: 0.3222008\ttotal: 8.21s\tremaining: 2.17s\n",
            "791:\tlearn: 0.3221620\ttotal: 8.22s\tremaining: 2.16s\n",
            "792:\tlearn: 0.3220848\ttotal: 8.22s\tremaining: 2.15s\n",
            "793:\tlearn: 0.3220130\ttotal: 8.23s\tremaining: 2.13s\n",
            "794:\tlearn: 0.3219610\ttotal: 8.23s\tremaining: 2.12s\n",
            "795:\tlearn: 0.3218970\ttotal: 8.23s\tremaining: 2.11s\n",
            "796:\tlearn: 0.3217592\ttotal: 8.24s\tremaining: 2.1s\n",
            "797:\tlearn: 0.3216951\ttotal: 8.26s\tremaining: 2.09s\n",
            "798:\tlearn: 0.3215693\ttotal: 8.26s\tremaining: 2.08s\n",
            "799:\tlearn: 0.3215082\ttotal: 8.27s\tremaining: 2.07s\n",
            "800:\tlearn: 0.3214299\ttotal: 8.27s\tremaining: 2.06s\n",
            "801:\tlearn: 0.3213826\ttotal: 8.28s\tremaining: 2.04s\n",
            "802:\tlearn: 0.3212520\ttotal: 8.28s\tremaining: 2.03s\n",
            "803:\tlearn: 0.3211538\ttotal: 8.29s\tremaining: 2.02s\n",
            "804:\tlearn: 0.3210875\ttotal: 8.29s\tremaining: 2.01s\n",
            "805:\tlearn: 0.3210144\ttotal: 8.3s\tremaining: 2s\n",
            "806:\tlearn: 0.3209180\ttotal: 8.31s\tremaining: 1.99s\n",
            "807:\tlearn: 0.3208617\ttotal: 8.32s\tremaining: 1.98s\n",
            "808:\tlearn: 0.3208002\ttotal: 8.33s\tremaining: 1.97s\n",
            "809:\tlearn: 0.3207426\ttotal: 8.34s\tremaining: 1.96s\n",
            "810:\tlearn: 0.3206468\ttotal: 8.35s\tremaining: 1.95s\n",
            "811:\tlearn: 0.3205629\ttotal: 8.37s\tremaining: 1.94s\n",
            "812:\tlearn: 0.3204712\ttotal: 8.38s\tremaining: 1.93s\n",
            "813:\tlearn: 0.3203414\ttotal: 8.39s\tremaining: 1.92s\n",
            "814:\tlearn: 0.3202730\ttotal: 8.41s\tremaining: 1.91s\n",
            "815:\tlearn: 0.3201364\ttotal: 8.44s\tremaining: 1.9s\n",
            "816:\tlearn: 0.3200520\ttotal: 8.45s\tremaining: 1.89s\n",
            "817:\tlearn: 0.3199680\ttotal: 8.45s\tremaining: 1.88s\n",
            "818:\tlearn: 0.3198279\ttotal: 8.46s\tremaining: 1.87s\n",
            "819:\tlearn: 0.3196572\ttotal: 8.46s\tremaining: 1.86s\n",
            "820:\tlearn: 0.3196118\ttotal: 8.47s\tremaining: 1.85s\n",
            "821:\tlearn: 0.3195573\ttotal: 8.47s\tremaining: 1.83s\n",
            "822:\tlearn: 0.3194199\ttotal: 8.48s\tremaining: 1.82s\n",
            "823:\tlearn: 0.3192983\ttotal: 8.48s\tremaining: 1.81s\n",
            "824:\tlearn: 0.3191763\ttotal: 8.49s\tremaining: 1.8s\n",
            "825:\tlearn: 0.3190956\ttotal: 8.49s\tremaining: 1.79s\n",
            "826:\tlearn: 0.3190263\ttotal: 8.49s\tremaining: 1.78s\n",
            "827:\tlearn: 0.3189670\ttotal: 8.5s\tremaining: 1.76s\n",
            "828:\tlearn: 0.3188358\ttotal: 8.5s\tremaining: 1.75s\n",
            "829:\tlearn: 0.3187849\ttotal: 8.51s\tremaining: 1.74s\n",
            "830:\tlearn: 0.3187314\ttotal: 8.51s\tremaining: 1.73s\n",
            "831:\tlearn: 0.3186272\ttotal: 8.52s\tremaining: 1.72s\n",
            "832:\tlearn: 0.3185025\ttotal: 8.52s\tremaining: 1.71s\n",
            "833:\tlearn: 0.3184191\ttotal: 8.53s\tremaining: 1.7s\n",
            "834:\tlearn: 0.3183285\ttotal: 8.53s\tremaining: 1.69s\n",
            "835:\tlearn: 0.3182760\ttotal: 8.53s\tremaining: 1.67s\n",
            "836:\tlearn: 0.3181941\ttotal: 8.54s\tremaining: 1.66s\n",
            "837:\tlearn: 0.3180541\ttotal: 8.54s\tremaining: 1.65s\n",
            "838:\tlearn: 0.3179969\ttotal: 8.55s\tremaining: 1.64s\n",
            "839:\tlearn: 0.3179184\ttotal: 8.55s\tremaining: 1.63s\n",
            "840:\tlearn: 0.3178365\ttotal: 8.56s\tremaining: 1.62s\n",
            "841:\tlearn: 0.3177743\ttotal: 8.56s\tremaining: 1.61s\n",
            "842:\tlearn: 0.3177233\ttotal: 8.57s\tremaining: 1.59s\n",
            "843:\tlearn: 0.3175906\ttotal: 8.58s\tremaining: 1.59s\n",
            "844:\tlearn: 0.3175043\ttotal: 8.59s\tremaining: 1.57s\n",
            "845:\tlearn: 0.3174365\ttotal: 8.59s\tremaining: 1.56s\n",
            "846:\tlearn: 0.3173805\ttotal: 8.6s\tremaining: 1.55s\n",
            "847:\tlearn: 0.3173073\ttotal: 8.62s\tremaining: 1.54s\n",
            "848:\tlearn: 0.3172283\ttotal: 8.62s\tremaining: 1.53s\n",
            "849:\tlearn: 0.3171704\ttotal: 8.62s\tremaining: 1.52s\n",
            "850:\tlearn: 0.3170577\ttotal: 8.63s\tremaining: 1.51s\n",
            "851:\tlearn: 0.3169879\ttotal: 8.63s\tremaining: 1.5s\n",
            "852:\tlearn: 0.3168783\ttotal: 8.64s\tremaining: 1.49s\n",
            "853:\tlearn: 0.3167833\ttotal: 8.64s\tremaining: 1.48s\n",
            "854:\tlearn: 0.3167067\ttotal: 8.65s\tremaining: 1.47s\n",
            "855:\tlearn: 0.3166298\ttotal: 8.65s\tremaining: 1.46s\n",
            "856:\tlearn: 0.3165742\ttotal: 8.66s\tremaining: 1.44s\n",
            "857:\tlearn: 0.3165113\ttotal: 8.66s\tremaining: 1.43s\n",
            "858:\tlearn: 0.3164394\ttotal: 8.67s\tremaining: 1.42s\n",
            "859:\tlearn: 0.3163674\ttotal: 8.68s\tremaining: 1.41s\n",
            "860:\tlearn: 0.3162931\ttotal: 8.68s\tremaining: 1.4s\n",
            "861:\tlearn: 0.3161817\ttotal: 8.69s\tremaining: 1.39s\n",
            "862:\tlearn: 0.3161187\ttotal: 8.69s\tremaining: 1.38s\n",
            "863:\tlearn: 0.3160184\ttotal: 8.7s\tremaining: 1.37s\n",
            "864:\tlearn: 0.3159008\ttotal: 8.71s\tremaining: 1.36s\n",
            "865:\tlearn: 0.3158283\ttotal: 8.71s\tremaining: 1.35s\n",
            "866:\tlearn: 0.3157607\ttotal: 8.72s\tremaining: 1.34s\n",
            "867:\tlearn: 0.3156965\ttotal: 8.73s\tremaining: 1.33s\n",
            "868:\tlearn: 0.3155412\ttotal: 8.75s\tremaining: 1.32s\n",
            "869:\tlearn: 0.3154524\ttotal: 8.76s\tremaining: 1.31s\n",
            "870:\tlearn: 0.3153411\ttotal: 8.77s\tremaining: 1.3s\n",
            "871:\tlearn: 0.3152997\ttotal: 8.78s\tremaining: 1.29s\n",
            "872:\tlearn: 0.3151910\ttotal: 8.79s\tremaining: 1.28s\n",
            "873:\tlearn: 0.3151146\ttotal: 8.8s\tremaining: 1.27s\n",
            "874:\tlearn: 0.3150734\ttotal: 8.82s\tremaining: 1.26s\n",
            "875:\tlearn: 0.3150133\ttotal: 8.83s\tremaining: 1.25s\n",
            "876:\tlearn: 0.3149236\ttotal: 8.84s\tremaining: 1.24s\n",
            "877:\tlearn: 0.3148139\ttotal: 8.86s\tremaining: 1.23s\n",
            "878:\tlearn: 0.3147351\ttotal: 8.88s\tremaining: 1.22s\n",
            "879:\tlearn: 0.3147058\ttotal: 8.9s\tremaining: 1.21s\n",
            "880:\tlearn: 0.3145936\ttotal: 8.91s\tremaining: 1.2s\n",
            "881:\tlearn: 0.3145343\ttotal: 8.92s\tremaining: 1.19s\n",
            "882:\tlearn: 0.3144811\ttotal: 8.94s\tremaining: 1.18s\n",
            "883:\tlearn: 0.3144018\ttotal: 8.96s\tremaining: 1.18s\n",
            "884:\tlearn: 0.3143324\ttotal: 8.98s\tremaining: 1.17s\n",
            "885:\tlearn: 0.3142524\ttotal: 8.99s\tremaining: 1.16s\n",
            "886:\tlearn: 0.3142182\ttotal: 9.01s\tremaining: 1.15s\n",
            "887:\tlearn: 0.3141438\ttotal: 9.02s\tremaining: 1.14s\n",
            "888:\tlearn: 0.3140760\ttotal: 9.03s\tremaining: 1.13s\n",
            "889:\tlearn: 0.3140065\ttotal: 9.04s\tremaining: 1.12s\n",
            "890:\tlearn: 0.3139252\ttotal: 9.07s\tremaining: 1.11s\n",
            "891:\tlearn: 0.3137879\ttotal: 9.08s\tremaining: 1.1s\n",
            "892:\tlearn: 0.3136969\ttotal: 9.09s\tremaining: 1.09s\n",
            "893:\tlearn: 0.3136628\ttotal: 9.11s\tremaining: 1.08s\n",
            "894:\tlearn: 0.3135955\ttotal: 9.11s\tremaining: 1.07s\n",
            "895:\tlearn: 0.3134841\ttotal: 9.13s\tremaining: 1.06s\n",
            "896:\tlearn: 0.3133540\ttotal: 9.14s\tremaining: 1.05s\n",
            "897:\tlearn: 0.3132974\ttotal: 9.16s\tremaining: 1.04s\n",
            "898:\tlearn: 0.3132396\ttotal: 9.18s\tremaining: 1.03s\n",
            "899:\tlearn: 0.3131157\ttotal: 9.19s\tremaining: 1.02s\n",
            "900:\tlearn: 0.3130718\ttotal: 9.2s\tremaining: 1.01s\n",
            "901:\tlearn: 0.3129499\ttotal: 9.21s\tremaining: 1s\n",
            "902:\tlearn: 0.3129152\ttotal: 9.21s\tremaining: 989ms\n",
            "903:\tlearn: 0.3128112\ttotal: 9.21s\tremaining: 979ms\n",
            "904:\tlearn: 0.3127367\ttotal: 9.22s\tremaining: 968ms\n",
            "905:\tlearn: 0.3126803\ttotal: 9.22s\tremaining: 957ms\n",
            "906:\tlearn: 0.3126168\ttotal: 9.23s\tremaining: 946ms\n",
            "907:\tlearn: 0.3125550\ttotal: 9.23s\tremaining: 935ms\n",
            "908:\tlearn: 0.3124856\ttotal: 9.24s\tremaining: 925ms\n",
            "909:\tlearn: 0.3124556\ttotal: 9.24s\tremaining: 914ms\n",
            "910:\tlearn: 0.3123529\ttotal: 9.25s\tremaining: 904ms\n",
            "911:\tlearn: 0.3122390\ttotal: 9.25s\tremaining: 893ms\n",
            "912:\tlearn: 0.3121610\ttotal: 9.26s\tremaining: 882ms\n",
            "913:\tlearn: 0.3120637\ttotal: 9.26s\tremaining: 871ms\n",
            "914:\tlearn: 0.3119938\ttotal: 9.27s\tremaining: 861ms\n",
            "915:\tlearn: 0.3119409\ttotal: 9.27s\tremaining: 850ms\n",
            "916:\tlearn: 0.3118928\ttotal: 9.29s\tremaining: 841ms\n",
            "917:\tlearn: 0.3118224\ttotal: 9.32s\tremaining: 832ms\n",
            "918:\tlearn: 0.3117525\ttotal: 9.33s\tremaining: 822ms\n",
            "919:\tlearn: 0.3116615\ttotal: 9.34s\tremaining: 812ms\n",
            "920:\tlearn: 0.3115815\ttotal: 9.38s\tremaining: 804ms\n",
            "921:\tlearn: 0.3114948\ttotal: 9.38s\tremaining: 794ms\n",
            "922:\tlearn: 0.3113924\ttotal: 9.38s\tremaining: 783ms\n",
            "923:\tlearn: 0.3113285\ttotal: 9.39s\tremaining: 772ms\n",
            "924:\tlearn: 0.3112689\ttotal: 9.39s\tremaining: 762ms\n",
            "925:\tlearn: 0.3112034\ttotal: 9.4s\tremaining: 751ms\n",
            "926:\tlearn: 0.3110596\ttotal: 9.41s\tremaining: 741ms\n",
            "927:\tlearn: 0.3109313\ttotal: 9.42s\tremaining: 731ms\n",
            "928:\tlearn: 0.3107792\ttotal: 9.43s\tremaining: 721ms\n",
            "929:\tlearn: 0.3107389\ttotal: 9.44s\tremaining: 710ms\n",
            "930:\tlearn: 0.3106665\ttotal: 9.45s\tremaining: 700ms\n",
            "931:\tlearn: 0.3106071\ttotal: 9.45s\tremaining: 690ms\n",
            "932:\tlearn: 0.3104935\ttotal: 9.46s\tremaining: 679ms\n",
            "933:\tlearn: 0.3103710\ttotal: 9.46s\tremaining: 669ms\n",
            "934:\tlearn: 0.3102453\ttotal: 9.47s\tremaining: 658ms\n",
            "935:\tlearn: 0.3101699\ttotal: 9.47s\tremaining: 648ms\n",
            "936:\tlearn: 0.3100845\ttotal: 9.48s\tremaining: 637ms\n",
            "937:\tlearn: 0.3100431\ttotal: 9.48s\tremaining: 627ms\n",
            "938:\tlearn: 0.3099671\ttotal: 9.49s\tremaining: 616ms\n",
            "939:\tlearn: 0.3099165\ttotal: 9.49s\tremaining: 606ms\n",
            "940:\tlearn: 0.3098563\ttotal: 9.51s\tremaining: 596ms\n",
            "941:\tlearn: 0.3098054\ttotal: 9.52s\tremaining: 586ms\n",
            "942:\tlearn: 0.3097495\ttotal: 9.52s\tremaining: 575ms\n",
            "943:\tlearn: 0.3096916\ttotal: 9.52s\tremaining: 565ms\n",
            "944:\tlearn: 0.3096331\ttotal: 9.53s\tremaining: 555ms\n",
            "945:\tlearn: 0.3095081\ttotal: 9.54s\tremaining: 544ms\n",
            "946:\tlearn: 0.3094457\ttotal: 9.54s\tremaining: 534ms\n",
            "947:\tlearn: 0.3093814\ttotal: 9.54s\tremaining: 524ms\n",
            "948:\tlearn: 0.3093064\ttotal: 9.55s\tremaining: 513ms\n",
            "949:\tlearn: 0.3092381\ttotal: 9.55s\tremaining: 503ms\n",
            "950:\tlearn: 0.3091527\ttotal: 9.56s\tremaining: 493ms\n",
            "951:\tlearn: 0.3090748\ttotal: 9.56s\tremaining: 482ms\n",
            "952:\tlearn: 0.3090329\ttotal: 9.57s\tremaining: 472ms\n",
            "953:\tlearn: 0.3089340\ttotal: 9.57s\tremaining: 462ms\n",
            "954:\tlearn: 0.3089009\ttotal: 9.58s\tremaining: 451ms\n",
            "955:\tlearn: 0.3088425\ttotal: 9.58s\tremaining: 441ms\n",
            "956:\tlearn: 0.3088203\ttotal: 9.59s\tremaining: 431ms\n",
            "957:\tlearn: 0.3087875\ttotal: 9.59s\tremaining: 421ms\n",
            "958:\tlearn: 0.3087155\ttotal: 9.6s\tremaining: 410ms\n",
            "959:\tlearn: 0.3086499\ttotal: 9.6s\tremaining: 400ms\n",
            "960:\tlearn: 0.3085506\ttotal: 9.6s\tremaining: 390ms\n",
            "961:\tlearn: 0.3084827\ttotal: 9.61s\tremaining: 380ms\n",
            "962:\tlearn: 0.3084220\ttotal: 9.62s\tremaining: 370ms\n",
            "963:\tlearn: 0.3083758\ttotal: 9.62s\tremaining: 359ms\n",
            "964:\tlearn: 0.3083156\ttotal: 9.63s\tremaining: 349ms\n",
            "965:\tlearn: 0.3082616\ttotal: 9.63s\tremaining: 339ms\n",
            "966:\tlearn: 0.3081578\ttotal: 9.63s\tremaining: 329ms\n",
            "967:\tlearn: 0.3080713\ttotal: 9.64s\tremaining: 319ms\n",
            "968:\tlearn: 0.3079461\ttotal: 9.64s\tremaining: 309ms\n",
            "969:\tlearn: 0.3078727\ttotal: 9.65s\tremaining: 298ms\n",
            "970:\tlearn: 0.3077995\ttotal: 9.65s\tremaining: 288ms\n",
            "971:\tlearn: 0.3076797\ttotal: 9.68s\tremaining: 279ms\n",
            "972:\tlearn: 0.3075610\ttotal: 9.69s\tremaining: 269ms\n",
            "973:\tlearn: 0.3074796\ttotal: 9.71s\tremaining: 259ms\n",
            "974:\tlearn: 0.3074130\ttotal: 9.72s\tremaining: 249ms\n",
            "975:\tlearn: 0.3073126\ttotal: 9.73s\tremaining: 239ms\n",
            "976:\tlearn: 0.3072640\ttotal: 9.74s\tremaining: 229ms\n",
            "977:\tlearn: 0.3071562\ttotal: 9.76s\tremaining: 220ms\n",
            "978:\tlearn: 0.3071031\ttotal: 9.78s\tremaining: 210ms\n",
            "979:\tlearn: 0.3070695\ttotal: 9.79s\tremaining: 200ms\n",
            "980:\tlearn: 0.3070117\ttotal: 9.81s\tremaining: 190ms\n",
            "981:\tlearn: 0.3068643\ttotal: 9.82s\tremaining: 180ms\n",
            "982:\tlearn: 0.3067771\ttotal: 9.82s\tremaining: 170ms\n",
            "983:\tlearn: 0.3067225\ttotal: 9.83s\tremaining: 160ms\n",
            "984:\tlearn: 0.3066540\ttotal: 9.83s\tremaining: 150ms\n",
            "985:\tlearn: 0.3066045\ttotal: 9.84s\tremaining: 140ms\n",
            "986:\tlearn: 0.3065674\ttotal: 9.84s\tremaining: 130ms\n",
            "987:\tlearn: 0.3065441\ttotal: 9.85s\tremaining: 120ms\n",
            "988:\tlearn: 0.3064740\ttotal: 9.85s\tremaining: 110ms\n",
            "989:\tlearn: 0.3063612\ttotal: 9.86s\tremaining: 99.6ms\n",
            "990:\tlearn: 0.3062180\ttotal: 9.86s\tremaining: 89.6ms\n",
            "991:\tlearn: 0.3061708\ttotal: 9.87s\tremaining: 79.6ms\n",
            "992:\tlearn: 0.3060527\ttotal: 9.87s\tremaining: 69.6ms\n",
            "993:\tlearn: 0.3059858\ttotal: 9.88s\tremaining: 59.6ms\n",
            "994:\tlearn: 0.3058730\ttotal: 9.89s\tremaining: 49.7ms\n",
            "995:\tlearn: 0.3058083\ttotal: 9.9s\tremaining: 39.8ms\n",
            "996:\tlearn: 0.3057718\ttotal: 9.91s\tremaining: 29.8ms\n",
            "997:\tlearn: 0.3056207\ttotal: 9.92s\tremaining: 19.9ms\n",
            "998:\tlearn: 0.3055363\ttotal: 9.93s\tremaining: 9.94ms\n",
            "999:\tlearn: 0.3054011\ttotal: 9.93s\tremaining: 0us\n",
            "Performance Metrics for CatBoostClassifier :\n",
            "Confusion matrix:\n",
            " [[ 981  308]\n",
            " [ 228 1091]]\n",
            "[Accuracy-Score Train]: 0.8663927691043549\n",
            "[Accuracy-Score Validation]: 0.7944785276073619\n",
            "--------------------\n",
            "\n",
            "Performance Metrics for XGBClassifier :\n",
            "Confusion matrix:\n",
            " [[ 943  346]\n",
            " [ 197 1122]]\n",
            "[Accuracy-Score Train]: 0.8165981922760888\n",
            "[Accuracy-Score Validation]: 0.7917944785276073\n",
            "--------------------\n",
            "\n",
            "Performance Metrics for BaggingClassifier :\n",
            "Confusion matrix:\n",
            " [[1025  264]\n",
            " [ 336  983]]\n",
            "[Accuracy-Score Train]: 0.9485620377978636\n",
            "[Accuracy-Score Validation]: 0.7699386503067485\n",
            "--------------------\n",
            "\n"
          ]
        }
      ],
      "source": [
        "for model in models:\n",
        "  # Extracting model name\n",
        "  model_name = type(model).__name__\n",
        "\n",
        "  # Fit the model on train data\n",
        "  model.fit(X_train, y_train)\n",
        "\n",
        "  # Make predictions using test data\n",
        "  y_pred = model.predict(y_test)\n",
        "\n",
        "  # Make predictions using validation data\n",
        "  y_val_pred = model.predict(X_val)\n",
        "\n",
        "  # Make predictions using train data\n",
        "  y_train_pred = model.predict(X_train)\n",
        "\n",
        "  # Accuracy on train set\n",
        "  Accuracy_score_train = accuracy_score(y_train, y_train_pred)\n",
        "\n",
        "  # Accurace on validation set\n",
        "  Accuracy_score_val = accuracy_score(y_val, y_val_pred)\n",
        "\n",
        "  # Display the accuracy of the model\n",
        "  print('Performance Metrics for', model_name, ':')\n",
        "\n",
        "  print('Confusion matrix:\\n',confusion_matrix(y_val,y_val_pred))\n",
        "  print('[Accuracy-Score Train]:', Accuracy_score_train)\n",
        "  print('[Accuracy-Score Validation]:', Accuracy_score_val)\n",
        "  print('--------------------\\n')\n",
        "\n",
        "  scores.append((model_name, Accuracy_score_train,Accuracy_score_val))"
      ]
    },
    {
      "cell_type": "code",
      "execution_count": 61,
      "metadata": {
        "colab": {
          "base_uri": "https://localhost:8080/",
          "height": 331
        },
        "id": "dqtC7u8dVa3y",
        "outputId": "d0521071-22fb-4dbb-a69c-a4bad54e599c"
      },
      "outputs": [
        {
          "output_type": "execute_result",
          "data": {
            "text/plain": [
              "                        Model  Accuracy-Score Train  Accuracy-Score Validation\n",
              "0          LogisticRegression              0.794906                   0.780675\n",
              "1      DecisionTreeClassifier              0.960723                   0.734279\n",
              "2      RandomForestClassifier              0.960723                   0.780291\n",
              "3        KNeighborsClassifier              0.836976                   0.774540\n",
              "4                         SVC              0.791290                   0.778374\n",
              "5  GradientBoostingClassifier              0.824651                   0.789877\n",
              "6          CatBoostClassifier              0.866393                   0.794479\n",
              "7               XGBClassifier              0.816598                   0.791794\n",
              "8           BaggingClassifier              0.948562                   0.769939"
            ],
            "text/html": [
              "\n",
              "  <div id=\"df-0f6bfcf7-41a9-4dcf-8acb-2a2a2a233a76\">\n",
              "    <div class=\"colab-df-container\">\n",
              "      <div>\n",
              "<style scoped>\n",
              "    .dataframe tbody tr th:only-of-type {\n",
              "        vertical-align: middle;\n",
              "    }\n",
              "\n",
              "    .dataframe tbody tr th {\n",
              "        vertical-align: top;\n",
              "    }\n",
              "\n",
              "    .dataframe thead th {\n",
              "        text-align: right;\n",
              "    }\n",
              "</style>\n",
              "<table border=\"1\" class=\"dataframe\">\n",
              "  <thead>\n",
              "    <tr style=\"text-align: right;\">\n",
              "      <th></th>\n",
              "      <th>Model</th>\n",
              "      <th>Accuracy-Score Train</th>\n",
              "      <th>Accuracy-Score Validation</th>\n",
              "    </tr>\n",
              "  </thead>\n",
              "  <tbody>\n",
              "    <tr>\n",
              "      <th>0</th>\n",
              "      <td>LogisticRegression</td>\n",
              "      <td>0.794906</td>\n",
              "      <td>0.780675</td>\n",
              "    </tr>\n",
              "    <tr>\n",
              "      <th>1</th>\n",
              "      <td>DecisionTreeClassifier</td>\n",
              "      <td>0.960723</td>\n",
              "      <td>0.734279</td>\n",
              "    </tr>\n",
              "    <tr>\n",
              "      <th>2</th>\n",
              "      <td>RandomForestClassifier</td>\n",
              "      <td>0.960723</td>\n",
              "      <td>0.780291</td>\n",
              "    </tr>\n",
              "    <tr>\n",
              "      <th>3</th>\n",
              "      <td>KNeighborsClassifier</td>\n",
              "      <td>0.836976</td>\n",
              "      <td>0.774540</td>\n",
              "    </tr>\n",
              "    <tr>\n",
              "      <th>4</th>\n",
              "      <td>SVC</td>\n",
              "      <td>0.791290</td>\n",
              "      <td>0.778374</td>\n",
              "    </tr>\n",
              "    <tr>\n",
              "      <th>5</th>\n",
              "      <td>GradientBoostingClassifier</td>\n",
              "      <td>0.824651</td>\n",
              "      <td>0.789877</td>\n",
              "    </tr>\n",
              "    <tr>\n",
              "      <th>6</th>\n",
              "      <td>CatBoostClassifier</td>\n",
              "      <td>0.866393</td>\n",
              "      <td>0.794479</td>\n",
              "    </tr>\n",
              "    <tr>\n",
              "      <th>7</th>\n",
              "      <td>XGBClassifier</td>\n",
              "      <td>0.816598</td>\n",
              "      <td>0.791794</td>\n",
              "    </tr>\n",
              "    <tr>\n",
              "      <th>8</th>\n",
              "      <td>BaggingClassifier</td>\n",
              "      <td>0.948562</td>\n",
              "      <td>0.769939</td>\n",
              "    </tr>\n",
              "  </tbody>\n",
              "</table>\n",
              "</div>\n",
              "      <button class=\"colab-df-convert\" onclick=\"convertToInteractive('df-0f6bfcf7-41a9-4dcf-8acb-2a2a2a233a76')\"\n",
              "              title=\"Convert this dataframe to an interactive table.\"\n",
              "              style=\"display:none;\">\n",
              "        \n",
              "  <svg xmlns=\"http://www.w3.org/2000/svg\" height=\"24px\"viewBox=\"0 0 24 24\"\n",
              "       width=\"24px\">\n",
              "    <path d=\"M0 0h24v24H0V0z\" fill=\"none\"/>\n",
              "    <path d=\"M18.56 5.44l.94 2.06.94-2.06 2.06-.94-2.06-.94-.94-2.06-.94 2.06-2.06.94zm-11 1L8.5 8.5l.94-2.06 2.06-.94-2.06-.94L8.5 2.5l-.94 2.06-2.06.94zm10 10l.94 2.06.94-2.06 2.06-.94-2.06-.94-.94-2.06-.94 2.06-2.06.94z\"/><path d=\"M17.41 7.96l-1.37-1.37c-.4-.4-.92-.59-1.43-.59-.52 0-1.04.2-1.43.59L10.3 9.45l-7.72 7.72c-.78.78-.78 2.05 0 2.83L4 21.41c.39.39.9.59 1.41.59.51 0 1.02-.2 1.41-.59l7.78-7.78 2.81-2.81c.8-.78.8-2.07 0-2.86zM5.41 20L4 18.59l7.72-7.72 1.47 1.35L5.41 20z\"/>\n",
              "  </svg>\n",
              "      </button>\n",
              "      \n",
              "  <style>\n",
              "    .colab-df-container {\n",
              "      display:flex;\n",
              "      flex-wrap:wrap;\n",
              "      gap: 12px;\n",
              "    }\n",
              "\n",
              "    .colab-df-convert {\n",
              "      background-color: #E8F0FE;\n",
              "      border: none;\n",
              "      border-radius: 50%;\n",
              "      cursor: pointer;\n",
              "      display: none;\n",
              "      fill: #1967D2;\n",
              "      height: 32px;\n",
              "      padding: 0 0 0 0;\n",
              "      width: 32px;\n",
              "    }\n",
              "\n",
              "    .colab-df-convert:hover {\n",
              "      background-color: #E2EBFA;\n",
              "      box-shadow: 0px 1px 2px rgba(60, 64, 67, 0.3), 0px 1px 3px 1px rgba(60, 64, 67, 0.15);\n",
              "      fill: #174EA6;\n",
              "    }\n",
              "\n",
              "    [theme=dark] .colab-df-convert {\n",
              "      background-color: #3B4455;\n",
              "      fill: #D2E3FC;\n",
              "    }\n",
              "\n",
              "    [theme=dark] .colab-df-convert:hover {\n",
              "      background-color: #434B5C;\n",
              "      box-shadow: 0px 1px 3px 1px rgba(0, 0, 0, 0.15);\n",
              "      filter: drop-shadow(0px 1px 2px rgba(0, 0, 0, 0.3));\n",
              "      fill: #FFFFFF;\n",
              "    }\n",
              "  </style>\n",
              "\n",
              "      <script>\n",
              "        const buttonEl =\n",
              "          document.querySelector('#df-0f6bfcf7-41a9-4dcf-8acb-2a2a2a233a76 button.colab-df-convert');\n",
              "        buttonEl.style.display =\n",
              "          google.colab.kernel.accessAllowed ? 'block' : 'none';\n",
              "\n",
              "        async function convertToInteractive(key) {\n",
              "          const element = document.querySelector('#df-0f6bfcf7-41a9-4dcf-8acb-2a2a2a233a76');\n",
              "          const dataTable =\n",
              "            await google.colab.kernel.invokeFunction('convertToInteractive',\n",
              "                                                     [key], {});\n",
              "          if (!dataTable) return;\n",
              "\n",
              "          const docLinkHtml = 'Like what you see? Visit the ' +\n",
              "            '<a target=\"_blank\" href=https://colab.research.google.com/notebooks/data_table.ipynb>data table notebook</a>'\n",
              "            + ' to learn more about interactive tables.';\n",
              "          element.innerHTML = '';\n",
              "          dataTable['output_type'] = 'display_data';\n",
              "          await google.colab.output.renderOutput(dataTable, element);\n",
              "          const docLink = document.createElement('div');\n",
              "          docLink.innerHTML = docLinkHtml;\n",
              "          element.appendChild(docLink);\n",
              "        }\n",
              "      </script>\n",
              "    </div>\n",
              "  </div>\n",
              "  "
            ]
          },
          "metadata": {},
          "execution_count": 61
        }
      ],
      "source": [
        "models_score = pd.DataFrame(data=scores, columns=['Model', 'Accuracy-Score Train', 'Accuracy-Score Validation'])\n",
        "models_score"
      ]
    },
    {
      "cell_type": "markdown",
      "metadata": {
        "id": "vny3AUKWaCMN"
      },
      "source": [
        "when we observe the models_score we can say that the XGB Classifier has fit best to predict the model as can see there is slightly overfitted as compared to other model so lets do the hyperparameter tuning for XGB Classifier, Random Forest and GradientBossing"
      ]
    },
    {
      "cell_type": "markdown",
      "metadata": {
        "id": "M5fwDPOYcKCi"
      },
      "source": [
        "## **7.2 Hyperparameter Tuning**"
      ]
    },
    {
      "cell_type": "markdown",
      "metadata": {
        "id": "dO0PJsLtcONs"
      },
      "source": [
        "* here we will tune **XGB Classifier, LogisticRegression and GradientBossing**."
      ]
    },
    {
      "cell_type": "markdown",
      "metadata": {
        "id": "9yI9RAh-csi0"
      },
      "source": [
        "**XGB Classifier**"
      ]
    },
    {
      "cell_type": "code",
      "execution_count": 62,
      "metadata": {
        "colab": {
          "base_uri": "https://localhost:8080/"
        },
        "id": "-g5DmcYxY7ld",
        "outputId": "7017fa4c-1f67-42d8-f9f2-74b781cfd0dd"
      },
      "outputs": [
        {
          "output_type": "stream",
          "name": "stdout",
          "text": [
            "XGBClassifier(class_weight='balanced', n_estimators=50, random_state=42)\n",
            "[Hyperparameters]: {'learning_rate': 0.1, 'max_depth': 3, 'n_estimators': 50}\n",
            "[Train Score]: nan\n",
            "[Test Score]: 0.7871932515337423\n"
          ]
        }
      ],
      "source": [
        "# Creating a parameter grid for XGB Classifier\n",
        "\n",
        "# GSCV on XGB\n",
        "\n",
        "xg_param_grid = {'max_depth': [3, 4, 5, 6, 7, 8, 9, 10],\n",
        "              'learning_rate': [0.1, 0.3, 0.5],\n",
        "              'n_estimators': [50, 100, 200]}\n",
        "\n",
        "xgb = XGBClassifier(class_weight='balanced', random_state=42)\n",
        "\n",
        "# Instantiate GridSearchCV\n",
        "xg_cv = GridSearchCV (estimator = xgb, param_grid = xg_param_grid, scoring ='f1', cv = 5)\n",
        "\n",
        "# fit the model\n",
        "xg_cv.fit(X_train,y_train)\n",
        "\n",
        "# returns the estimator with the best performance\n",
        "print(xg_cv.best_estimator_)\n",
        "\n",
        "print(\"[Hyperparameters]:\", xg_cv.best_params_)\n",
        "print(\"[Train Score]:\", xg_cv.best_score_)\n",
        "print(\"[Test Score]:\", accuracy_score(y_val, xg_cv.predict(X_val)))"
      ]
    },
    {
      "cell_type": "markdown",
      "metadata": {
        "id": "FbVpL-yTd5Wv"
      },
      "source": [
        "**RandomForest**"
      ]
    },
    {
      "cell_type": "code",
      "execution_count": 63,
      "metadata": {
        "id": "ieyCiuTyd03A",
        "colab": {
          "base_uri": "https://localhost:8080/"
        },
        "outputId": "3c04b255-615c-431c-f81e-d0c880972695"
      },
      "outputs": [
        {
          "output_type": "stream",
          "name": "stdout",
          "text": [
            "[Hyperparameters]: {'bootstrap': True, 'max_depth': 80, 'max_features': 3, 'min_samples_leaf': 3, 'min_samples_split': 10, 'n_estimators': 300}\n",
            "[Train Score]: 0.8027937551355793\n",
            "[Test Score]: 0.7906441717791411\n"
          ]
        }
      ],
      "source": [
        "param_grid = {\n",
        "    'bootstrap': [True],\n",
        "    'max_depth': [80, 90, 100, 110, 120],\n",
        "    'max_features': [2, 3],\n",
        "    'min_samples_leaf': [3, 4, 5],\n",
        "    'min_samples_split': [8, 10, 12],\n",
        "    'n_estimators': [100, 200, 300, 1000]\n",
        "}\n",
        "\n",
        "rf = RandomForestClassifier(random_state=42, class_weight='balanced')\n",
        "rf_cv = GridSearchCV(estimator = rf, param_grid = param_grid, cv = 5)\n",
        "rf_cv.fit(X_train, y_train)\n",
        "\n",
        "# Printing metrics\n",
        "print(\"[Hyperparameters]:\", rf_cv.best_params_)\n",
        "print(\"[Train Score]:\", rf_cv.best_score_)\n",
        "print(\"[Test Score]:\", accuracy_score(y_val, rf_cv.predict(X_val)))"
      ]
    },
    {
      "cell_type": "markdown",
      "metadata": {
        "id": "gW_r30WXd_K6"
      },
      "source": [
        "**Gradient Boosting**"
      ]
    },
    {
      "cell_type": "code",
      "execution_count": 64,
      "metadata": {
        "id": "OG3QzKZA_VAT",
        "colab": {
          "base_uri": "https://localhost:8080/"
        },
        "outputId": "12a4e035-296f-490c-9e3f-74875cf69afd"
      },
      "outputs": [
        {
          "output_type": "stream",
          "name": "stdout",
          "text": [
            "GradientBoostingClassifier(n_estimators=200, random_state=42)\n",
            "[Hyperparameters]: {'learning_rate': 0.1, 'max_depth': 3, 'n_estimators': 200}\n",
            "[Train Score]: 0.8082169268693509\n",
            "[Test Score]: 0.7921779141104295\n"
          ]
        }
      ],
      "source": [
        "parameters_gb ={'n_estimators': [100, 200, 300],\n",
        "              'learning_rate': [0.1, 0.05, 0.01],\n",
        "              'max_depth': [3, 5, 7]}\n",
        "gb=GradientBoostingClassifier(random_state=42)\n",
        "# Instantiate GridSearchCV\n",
        "gb_cv = GridSearchCV (gb, parameters_gb, cv = 5)\n",
        "\n",
        "# fit the model\n",
        "gb_cv.fit(X_train,y_train)\n",
        "\n",
        "# returns the estimator with the best performance\n",
        "print(gb_cv.best_estimator_)\n",
        "\n",
        "print(\"[Hyperparameters]:\", gb_cv.best_params_)\n",
        "print(\"[Train Score]:\", gb_cv.best_score_)\n",
        "print(\"[Test Score]:\", accuracy_score(y_val, gb_cv.predict(X_val)))"
      ]
    },
    {
      "cell_type": "markdown",
      "metadata": {
        "id": "Sjr2kkaHfuwb"
      },
      "source": [
        "### **7.3 Tuned Model Development and Evaluation**\n",
        "\n",
        "- In this section, we will **develop** and **evaluate** the tuned models."
      ]
    },
    {
      "cell_type": "code",
      "execution_count": 69,
      "metadata": {
        "id": "B1wOfyfdfnZp"
      },
      "outputs": [],
      "source": [
        "tuned_scores = []\n",
        "models = [rf_cv.best_estimator_, gb_cv.best_estimator_, xg_cv.best_estimator_]"
      ]
    },
    {
      "cell_type": "code",
      "execution_count": 80,
      "metadata": {
        "id": "fXynQGvDhjGt",
        "colab": {
          "base_uri": "https://localhost:8080/"
        },
        "outputId": "006792b0-0556-48a9-b8a1-dae8d3a9f754"
      },
      "outputs": [
        {
          "output_type": "stream",
          "name": "stdout",
          "text": [
            "Performance Metrics for RandomForestClassifier(Tuned) :\n",
            "Confusion matrix:\n",
            " [[1009  280]\n",
            " [ 266 1053]]\n",
            "Classificaton report:\n",
            "               precision    recall  f1-score   support\n",
            "\n",
            "          No       0.79      0.78      0.79      1289\n",
            "         Yes       0.79      0.80      0.79      1319\n",
            "\n",
            "    accuracy                           0.79      2608\n",
            "   macro avg       0.79      0.79      0.79      2608\n",
            "weighted avg       0.79      0.79      0.79      2608\n",
            "\n",
            "[Accuracy-Score Train]: 0.8612982744453574\n",
            "[Accuracy-Score Validation]: 0.7906441717791411\n",
            "--------------------\n",
            "\n",
            "Performance Metrics for GradientBoostingClassifier(Tuned) :\n",
            "Confusion matrix:\n",
            " [[ 970  319]\n",
            " [ 223 1096]]\n",
            "Classificaton report:\n",
            "               precision    recall  f1-score   support\n",
            "\n",
            "          No       0.81      0.75      0.78      1289\n",
            "         Yes       0.77      0.83      0.80      1319\n",
            "\n",
            "    accuracy                           0.79      2608\n",
            "   macro avg       0.79      0.79      0.79      2608\n",
            "weighted avg       0.79      0.79      0.79      2608\n",
            "\n",
            "[Accuracy-Score Train]: 0.837797863599014\n",
            "[Accuracy-Score Validation]: 0.7921779141104295\n",
            "--------------------\n",
            "\n",
            "Performance Metrics for XGBClassifier(Tuned) :\n",
            "Confusion matrix:\n",
            " [[ 941  348]\n",
            " [ 207 1112]]\n",
            "Classificaton report:\n",
            "               precision    recall  f1-score   support\n",
            "\n",
            "          No       0.82      0.73      0.77      1289\n",
            "         Yes       0.76      0.84      0.80      1319\n",
            "\n",
            "    accuracy                           0.79      2608\n",
            "   macro avg       0.79      0.79      0.79      2608\n",
            "weighted avg       0.79      0.79      0.79      2608\n",
            "\n",
            "[Accuracy-Score Train]: 0.8113393590797042\n",
            "[Accuracy-Score Validation]: 0.7871932515337423\n",
            "--------------------\n",
            "\n"
          ]
        }
      ],
      "source": [
        "for model in models:\n",
        "  # Extracting model name\n",
        "  model_name = str(type(model).__name__) + '(Tuned)'\n",
        "\n",
        "  # Fit the model on train data\n",
        "  model.fit(X_train, y_train)\n",
        "\n",
        "  # Make predictions using validation data\n",
        "  y_val_pred = model.predict(X_val)\n",
        "\n",
        "  # Make predictions using train data\n",
        "  y_train_pred = model.predict(X_train)\n",
        "\n",
        "  # Accuracy on train set\n",
        "  Accuracy_score_train = accuracy_score(y_train, y_train_pred)\n",
        "\n",
        "  # Accurace on validation set\n",
        "  Accuracy_score_val = accuracy_score(y_val, y_val_pred)\n",
        "\n",
        "  # Display the accuracy of the model\n",
        "  print('Performance Metrics for', model_name, ':')\n",
        "\n",
        "  print('Confusion matrix:\\n',confusion_matrix(y_val,y_val_pred))\n",
        "  print('Classificaton report:\\n',classification_report(y_val,y_val_pred))\n",
        "  print('[Accuracy-Score Train]:', Accuracy_score_train)\n",
        "  print('[Accuracy-Score Validation]:', Accuracy_score_val)\n",
        "  print('--------------------\\n')\n",
        "\n",
        "  scores.append((model_name, Accuracy_score_train, Accuracy_score_val))"
      ]
    },
    {
      "cell_type": "markdown",
      "source": [
        "When we see the tuned score of the model random GradiantBoosting Classifier is the best, it gives the accuracy score of 0.8377 for train and 0.7921 for val data so it is the best model for predicting."
      ],
      "metadata": {
        "id": "aURSgVlpqnF5"
      }
    },
    {
      "cell_type": "markdown",
      "source": [
        "###**8. Test Data**"
      ],
      "metadata": {
        "id": "g7Kbg1fdsgcY"
      }
    },
    {
      "cell_type": "markdown",
      "source": [
        "- we select **GradientBoostingClassifer** as our final model."
      ],
      "metadata": {
        "id": "3wNwsRExslSe"
      }
    },
    {
      "cell_type": "code",
      "source": [
        "clf = gb_cv.best_estimator_\n",
        "clf.fit(X_train, y_train)\n",
        "y_pred = clf.predict(y_test)\n",
        "y_pred"
      ],
      "metadata": {
        "colab": {
          "base_uri": "https://localhost:8080/"
        },
        "id": "aoWIUj8KqL_-",
        "outputId": "8bdc242c-2b51-41a5-cf3b-4dde13c04bd9"
      },
      "execution_count": 81,
      "outputs": [
        {
          "output_type": "execute_result",
          "data": {
            "text/plain": [
              "array(['Yes', 'No', 'Yes', ..., 'Yes', 'Yes', 'Yes'], dtype=object)"
            ]
          },
          "metadata": {},
          "execution_count": 81
        }
      ]
    },
    {
      "cell_type": "code",
      "source": [
        "pred = pd.DataFrame(y_pred)"
      ],
      "metadata": {
        "id": "Yjo5QZAstfZ0"
      },
      "execution_count": 82,
      "outputs": []
    },
    {
      "cell_type": "code",
      "source": [
        "pred = pred.replace(to_replace='Yes',value=\"True\")\n",
        "pred = pred.replace(to_replace='No',value=\"False\")"
      ],
      "metadata": {
        "id": "UQH8AWEau41A"
      },
      "execution_count": 83,
      "outputs": []
    },
    {
      "cell_type": "code",
      "source": [
        "pred"
      ],
      "metadata": {
        "colab": {
          "base_uri": "https://localhost:8080/",
          "height": 423
        },
        "id": "YSWm3dixvEL5",
        "outputId": "431a9f1b-703c-4c78-fff4-654632d37395"
      },
      "execution_count": 84,
      "outputs": [
        {
          "output_type": "execute_result",
          "data": {
            "text/plain": [
              "          0\n",
              "0      True\n",
              "1     False\n",
              "2      True\n",
              "3      True\n",
              "4      True\n",
              "...     ...\n",
              "4272   True\n",
              "4273  False\n",
              "4274   True\n",
              "4275   True\n",
              "4276   True\n",
              "\n",
              "[4277 rows x 1 columns]"
            ],
            "text/html": [
              "\n",
              "  <div id=\"df-9f7609ec-64fd-41f3-808e-6bbf5847d754\">\n",
              "    <div class=\"colab-df-container\">\n",
              "      <div>\n",
              "<style scoped>\n",
              "    .dataframe tbody tr th:only-of-type {\n",
              "        vertical-align: middle;\n",
              "    }\n",
              "\n",
              "    .dataframe tbody tr th {\n",
              "        vertical-align: top;\n",
              "    }\n",
              "\n",
              "    .dataframe thead th {\n",
              "        text-align: right;\n",
              "    }\n",
              "</style>\n",
              "<table border=\"1\" class=\"dataframe\">\n",
              "  <thead>\n",
              "    <tr style=\"text-align: right;\">\n",
              "      <th></th>\n",
              "      <th>0</th>\n",
              "    </tr>\n",
              "  </thead>\n",
              "  <tbody>\n",
              "    <tr>\n",
              "      <th>0</th>\n",
              "      <td>True</td>\n",
              "    </tr>\n",
              "    <tr>\n",
              "      <th>1</th>\n",
              "      <td>False</td>\n",
              "    </tr>\n",
              "    <tr>\n",
              "      <th>2</th>\n",
              "      <td>True</td>\n",
              "    </tr>\n",
              "    <tr>\n",
              "      <th>3</th>\n",
              "      <td>True</td>\n",
              "    </tr>\n",
              "    <tr>\n",
              "      <th>4</th>\n",
              "      <td>True</td>\n",
              "    </tr>\n",
              "    <tr>\n",
              "      <th>...</th>\n",
              "      <td>...</td>\n",
              "    </tr>\n",
              "    <tr>\n",
              "      <th>4272</th>\n",
              "      <td>True</td>\n",
              "    </tr>\n",
              "    <tr>\n",
              "      <th>4273</th>\n",
              "      <td>False</td>\n",
              "    </tr>\n",
              "    <tr>\n",
              "      <th>4274</th>\n",
              "      <td>True</td>\n",
              "    </tr>\n",
              "    <tr>\n",
              "      <th>4275</th>\n",
              "      <td>True</td>\n",
              "    </tr>\n",
              "    <tr>\n",
              "      <th>4276</th>\n",
              "      <td>True</td>\n",
              "    </tr>\n",
              "  </tbody>\n",
              "</table>\n",
              "<p>4277 rows × 1 columns</p>\n",
              "</div>\n",
              "      <button class=\"colab-df-convert\" onclick=\"convertToInteractive('df-9f7609ec-64fd-41f3-808e-6bbf5847d754')\"\n",
              "              title=\"Convert this dataframe to an interactive table.\"\n",
              "              style=\"display:none;\">\n",
              "        \n",
              "  <svg xmlns=\"http://www.w3.org/2000/svg\" height=\"24px\"viewBox=\"0 0 24 24\"\n",
              "       width=\"24px\">\n",
              "    <path d=\"M0 0h24v24H0V0z\" fill=\"none\"/>\n",
              "    <path d=\"M18.56 5.44l.94 2.06.94-2.06 2.06-.94-2.06-.94-.94-2.06-.94 2.06-2.06.94zm-11 1L8.5 8.5l.94-2.06 2.06-.94-2.06-.94L8.5 2.5l-.94 2.06-2.06.94zm10 10l.94 2.06.94-2.06 2.06-.94-2.06-.94-.94-2.06-.94 2.06-2.06.94z\"/><path d=\"M17.41 7.96l-1.37-1.37c-.4-.4-.92-.59-1.43-.59-.52 0-1.04.2-1.43.59L10.3 9.45l-7.72 7.72c-.78.78-.78 2.05 0 2.83L4 21.41c.39.39.9.59 1.41.59.51 0 1.02-.2 1.41-.59l7.78-7.78 2.81-2.81c.8-.78.8-2.07 0-2.86zM5.41 20L4 18.59l7.72-7.72 1.47 1.35L5.41 20z\"/>\n",
              "  </svg>\n",
              "      </button>\n",
              "      \n",
              "  <style>\n",
              "    .colab-df-container {\n",
              "      display:flex;\n",
              "      flex-wrap:wrap;\n",
              "      gap: 12px;\n",
              "    }\n",
              "\n",
              "    .colab-df-convert {\n",
              "      background-color: #E8F0FE;\n",
              "      border: none;\n",
              "      border-radius: 50%;\n",
              "      cursor: pointer;\n",
              "      display: none;\n",
              "      fill: #1967D2;\n",
              "      height: 32px;\n",
              "      padding: 0 0 0 0;\n",
              "      width: 32px;\n",
              "    }\n",
              "\n",
              "    .colab-df-convert:hover {\n",
              "      background-color: #E2EBFA;\n",
              "      box-shadow: 0px 1px 2px rgba(60, 64, 67, 0.3), 0px 1px 3px 1px rgba(60, 64, 67, 0.15);\n",
              "      fill: #174EA6;\n",
              "    }\n",
              "\n",
              "    [theme=dark] .colab-df-convert {\n",
              "      background-color: #3B4455;\n",
              "      fill: #D2E3FC;\n",
              "    }\n",
              "\n",
              "    [theme=dark] .colab-df-convert:hover {\n",
              "      background-color: #434B5C;\n",
              "      box-shadow: 0px 1px 3px 1px rgba(0, 0, 0, 0.15);\n",
              "      filter: drop-shadow(0px 1px 2px rgba(0, 0, 0, 0.3));\n",
              "      fill: #FFFFFF;\n",
              "    }\n",
              "  </style>\n",
              "\n",
              "      <script>\n",
              "        const buttonEl =\n",
              "          document.querySelector('#df-9f7609ec-64fd-41f3-808e-6bbf5847d754 button.colab-df-convert');\n",
              "        buttonEl.style.display =\n",
              "          google.colab.kernel.accessAllowed ? 'block' : 'none';\n",
              "\n",
              "        async function convertToInteractive(key) {\n",
              "          const element = document.querySelector('#df-9f7609ec-64fd-41f3-808e-6bbf5847d754');\n",
              "          const dataTable =\n",
              "            await google.colab.kernel.invokeFunction('convertToInteractive',\n",
              "                                                     [key], {});\n",
              "          if (!dataTable) return;\n",
              "\n",
              "          const docLinkHtml = 'Like what you see? Visit the ' +\n",
              "            '<a target=\"_blank\" href=https://colab.research.google.com/notebooks/data_table.ipynb>data table notebook</a>'\n",
              "            + ' to learn more about interactive tables.';\n",
              "          element.innerHTML = '';\n",
              "          dataTable['output_type'] = 'display_data';\n",
              "          await google.colab.output.renderOutput(dataTable, element);\n",
              "          const docLink = document.createElement('div');\n",
              "          docLink.innerHTML = docLinkHtml;\n",
              "          element.appendChild(docLink);\n",
              "        }\n",
              "      </script>\n",
              "    </div>\n",
              "  </div>\n",
              "  "
            ]
          },
          "metadata": {},
          "execution_count": 84
        }
      ]
    },
    {
      "cell_type": "code",
      "source": [
        "subm= pd.read_csv(\"/content/test.csv\")"
      ],
      "metadata": {
        "id": "0i9nAMrYvJgT"
      },
      "execution_count": 85,
      "outputs": []
    },
    {
      "cell_type": "code",
      "source": [
        "#Creating the dataset with passengerid of test data and the final prediction\n",
        "datasets=pd.concat([subm['PassengerId'],pred], axis = 1)"
      ],
      "metadata": {
        "id": "tO-clmVevOb8"
      },
      "execution_count": 86,
      "outputs": []
    },
    {
      "cell_type": "code",
      "source": [
        "#give the column name in the submission file\n",
        "datasets.columns =['PassengerId','Transported']\n",
        "\n",
        "#Saving the dataset in the sample_submission file\n",
        "datasets.to_csv('sample_submission.csv', index= False)"
      ],
      "metadata": {
        "id": "NGKiG0Cqvjxf"
      },
      "execution_count": 87,
      "outputs": []
    },
    {
      "cell_type": "code",
      "source": [],
      "metadata": {
        "id": "DE5YmaqEv12U"
      },
      "execution_count": null,
      "outputs": []
    }
  ],
  "metadata": {
    "colab": {
      "provenance": []
    },
    "kernelspec": {
      "display_name": "Python 3",
      "name": "python3"
    },
    "language_info": {
      "name": "python"
    }
  },
  "nbformat": 4,
  "nbformat_minor": 0
}